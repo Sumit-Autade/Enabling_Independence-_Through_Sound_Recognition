{
 "cells": [
  {
   "cell_type": "markdown",
   "id": "cardiovascular-study",
   "metadata": {},
   "source": [
    "#### Audio Classification Data Preprocessing"
   ]
  },
  {
   "cell_type": "code",
   "execution_count": 3,
   "id": "boxed-central",
   "metadata": {},
   "outputs": [],
   "source": [
    "### Let's read a sample audio using librosa\n",
    "import librosa\n",
    "audio_file_path='UrbanSound8K/audio/fold1/101415-3-0-2.wav'\n",
    "librosa_audio_data,librosa_sample_rate=librosa.load(audio_file_path)"
   ]
  },
  {
   "cell_type": "code",
   "execution_count": 2,
   "id": "e56569db",
   "metadata": {},
   "outputs": [
    {
     "name": "stdout",
     "output_type": "stream",
     "text": [
      "Collecting librosa\n",
      "  Obtaining dependency information for librosa from https://files.pythonhosted.org/packages/e2/a2/4f639c1168d7aada749a896afb4892a831e2041bebdcf636aebfe9e86556/librosa-0.10.1-py3-none-any.whl.metadata\n",
      "  Downloading librosa-0.10.1-py3-none-any.whl.metadata (8.3 kB)\n",
      "Collecting audioread>=2.1.9 (from librosa)\n",
      "  Obtaining dependency information for audioread>=2.1.9 from https://files.pythonhosted.org/packages/57/8d/30aa32745af16af0a9a650115fbe81bde7c610ed5c21b381fca0196f3a7f/audioread-3.0.1-py3-none-any.whl.metadata\n",
      "  Downloading audioread-3.0.1-py3-none-any.whl.metadata (8.4 kB)\n",
      "Requirement already satisfied: numpy!=1.22.0,!=1.22.1,!=1.22.2,>=1.20.3 in c:\\users\\sumit\\appdata\\local\\programs\\python\\python311\\lib\\site-packages (from librosa) (1.23.5)\n",
      "Requirement already satisfied: scipy>=1.2.0 in c:\\users\\sumit\\appdata\\local\\programs\\python\\python311\\lib\\site-packages (from librosa) (1.10.1)\n",
      "Requirement already satisfied: scikit-learn>=0.20.0 in c:\\users\\sumit\\appdata\\local\\programs\\python\\python311\\lib\\site-packages (from librosa) (1.2.2)\n",
      "Requirement already satisfied: joblib>=0.14 in c:\\users\\sumit\\appdata\\local\\programs\\python\\python311\\lib\\site-packages (from librosa) (1.2.0)\n",
      "Requirement already satisfied: decorator>=4.3.0 in c:\\users\\sumit\\appdata\\local\\programs\\python\\python311\\lib\\site-packages (from librosa) (5.1.1)\n",
      "Collecting numba>=0.51.0 (from librosa)\n",
      "  Obtaining dependency information for numba>=0.51.0 from https://files.pythonhosted.org/packages/e8/1c/5d65ac922a4f9a6f90a10207b818e22e4d48a782af6574a6e7a50fae074d/numba-0.58.0-cp311-cp311-win_amd64.whl.metadata\n",
      "  Downloading numba-0.58.0-cp311-cp311-win_amd64.whl.metadata (2.8 kB)\n",
      "Collecting soundfile>=0.12.1 (from librosa)\n",
      "  Using cached soundfile-0.12.1-py2.py3-none-win_amd64.whl (1.0 MB)\n",
      "Collecting pooch>=1.0 (from librosa)\n",
      "  Downloading pooch-1.7.0-py3-none-any.whl (60 kB)\n",
      "     ---------------------------------------- 0.0/60.9 kB ? eta -:--:--\n",
      "     --------------------------------- ------ 51.2/60.9 kB 2.6 MB/s eta 0:00:01\n",
      "     ---------------------------------------- 60.9/60.9 kB 1.6 MB/s eta 0:00:00\n",
      "Collecting soxr>=0.3.2 (from librosa)\n",
      "  Obtaining dependency information for soxr>=0.3.2 from https://files.pythonhosted.org/packages/3a/29/cd396aefb3a07e62b10c01ea9963d66a29a7516dacc7a5dfaaa02cec2da7/soxr-0.3.6-cp311-cp311-win_amd64.whl.metadata\n",
      "  Downloading soxr-0.3.6-cp311-cp311-win_amd64.whl.metadata (5.5 kB)\n",
      "Requirement already satisfied: typing-extensions>=4.1.1 in c:\\users\\sumit\\appdata\\local\\programs\\python\\python311\\lib\\site-packages (from librosa) (4.5.0)\n",
      "Collecting lazy-loader>=0.1 (from librosa)\n",
      "  Obtaining dependency information for lazy-loader>=0.1 from https://files.pythonhosted.org/packages/a1/c3/65b3814e155836acacf720e5be3b5757130346670ac454fee29d3eda1381/lazy_loader-0.3-py3-none-any.whl.metadata\n",
      "  Downloading lazy_loader-0.3-py3-none-any.whl.metadata (4.3 kB)\n",
      "Collecting msgpack>=1.0 (from librosa)\n",
      "  Obtaining dependency information for msgpack>=1.0 from https://files.pythonhosted.org/packages/b4/3d/c8dd23050eefa3d9b9c5b8329ed3308c2f2f80f65825e9ea4b7fa621cdab/msgpack-1.0.7-cp311-cp311-win_amd64.whl.metadata\n",
      "  Downloading msgpack-1.0.7-cp311-cp311-win_amd64.whl.metadata (9.4 kB)\n",
      "Collecting llvmlite<0.42,>=0.41.0dev0 (from numba>=0.51.0->librosa)\n",
      "  Obtaining dependency information for llvmlite<0.42,>=0.41.0dev0 from https://files.pythonhosted.org/packages/14/3b/f9665a46486f70a7cbb6237308e49e18ed42e4763f4e92e92cd37ea67ead/llvmlite-0.41.0-cp311-cp311-win_amd64.whl.metadata\n",
      "  Downloading llvmlite-0.41.0-cp311-cp311-win_amd64.whl.metadata (5.0 kB)\n",
      "Requirement already satisfied: platformdirs>=2.5.0 in c:\\users\\sumit\\appdata\\local\\programs\\python\\python311\\lib\\site-packages (from pooch>=1.0->librosa) (3.2.0)\n",
      "Requirement already satisfied: packaging>=20.0 in c:\\users\\sumit\\appdata\\local\\programs\\python\\python311\\lib\\site-packages (from pooch>=1.0->librosa) (23.0)\n",
      "Requirement already satisfied: requests>=2.19.0 in c:\\users\\sumit\\appdata\\local\\programs\\python\\python311\\lib\\site-packages (from pooch>=1.0->librosa) (2.28.2)\n",
      "Requirement already satisfied: threadpoolctl>=2.0.0 in c:\\users\\sumit\\appdata\\local\\programs\\python\\python311\\lib\\site-packages (from scikit-learn>=0.20.0->librosa) (3.1.0)\n",
      "Requirement already satisfied: cffi>=1.0 in c:\\users\\sumit\\appdata\\local\\programs\\python\\python311\\lib\\site-packages (from soundfile>=0.12.1->librosa) (1.15.1)\n",
      "Requirement already satisfied: pycparser in c:\\users\\sumit\\appdata\\local\\programs\\python\\python311\\lib\\site-packages (from cffi>=1.0->soundfile>=0.12.1->librosa) (2.21)\n",
      "Requirement already satisfied: charset-normalizer<4,>=2 in c:\\users\\sumit\\appdata\\local\\programs\\python\\python311\\lib\\site-packages (from requests>=2.19.0->pooch>=1.0->librosa) (3.0.1)\n",
      "Requirement already satisfied: idna<4,>=2.5 in c:\\users\\sumit\\appdata\\local\\programs\\python\\python311\\lib\\site-packages (from requests>=2.19.0->pooch>=1.0->librosa) (3.4)\n",
      "Requirement already satisfied: urllib3<1.27,>=1.21.1 in c:\\users\\sumit\\appdata\\local\\programs\\python\\python311\\lib\\site-packages (from requests>=2.19.0->pooch>=1.0->librosa) (1.26.14)\n",
      "Requirement already satisfied: certifi>=2017.4.17 in c:\\users\\sumit\\appdata\\local\\programs\\python\\python311\\lib\\site-packages (from requests>=2.19.0->pooch>=1.0->librosa) (2022.12.7)\n",
      "Using cached librosa-0.10.1-py3-none-any.whl (253 kB)\n",
      "Downloading audioread-3.0.1-py3-none-any.whl (23 kB)\n",
      "Downloading lazy_loader-0.3-py3-none-any.whl (9.1 kB)\n",
      "Downloading msgpack-1.0.7-cp311-cp311-win_amd64.whl (222 kB)\n",
      "   ---------------------------------------- 0.0/222.9 kB ? eta -:--:--\n",
      "   ---------------------------------------- 222.9/222.9 kB 6.9 MB/s eta 0:00:00\n",
      "Downloading numba-0.58.0-cp311-cp311-win_amd64.whl (2.6 MB)\n",
      "   ---------------------------------------- 0.0/2.6 MB ? eta -:--:--\n",
      "   -- ------------------------------------- 0.2/2.6 MB 3.1 MB/s eta 0:00:01\n",
      "   ---------- ----------------------------- 0.7/2.6 MB 7.2 MB/s eta 0:00:01\n",
      "   ------------------ --------------------- 1.2/2.6 MB 8.5 MB/s eta 0:00:01\n",
      "   -------------------- ------------------- 1.3/2.6 MB 7.0 MB/s eta 0:00:01\n",
      "   ------------------------- -------------- 1.6/2.6 MB 7.0 MB/s eta 0:00:01\n",
      "   ---------------------------- ----------- 1.8/2.6 MB 6.5 MB/s eta 0:00:01\n",
      "   --------------------------------- ------ 2.2/2.6 MB 6.6 MB/s eta 0:00:01\n",
      "   ------------------------------------ --- 2.4/2.6 MB 6.4 MB/s eta 0:00:01\n",
      "   ---------------------------------------  2.6/2.6 MB 6.4 MB/s eta 0:00:01\n",
      "   ---------------------------------------  2.6/2.6 MB 6.4 MB/s eta 0:00:01\n",
      "   ---------------------------------------  2.6/2.6 MB 6.4 MB/s eta 0:00:01\n",
      "   ---------------------------------------  2.6/2.6 MB 6.4 MB/s eta 0:00:01\n",
      "   ---------------------------------------- 2.6/2.6 MB 4.4 MB/s eta 0:00:00\n",
      "Using cached soxr-0.3.6-cp311-cp311-win_amd64.whl (185 kB)\n",
      "Downloading llvmlite-0.41.0-cp311-cp311-win_amd64.whl (28.1 MB)\n",
      "   ---------------------------------------- 0.0/28.1 MB ? eta -:--:--\n",
      "   ---------------------------------------- 0.3/28.1 MB 5.8 MB/s eta 0:00:05\n",
      "    --------------------------------------- 0.6/28.1 MB 5.9 MB/s eta 0:00:05\n",
      "   - -------------------------------------- 0.8/28.1 MB 6.6 MB/s eta 0:00:05\n",
      "   - -------------------------------------- 1.1/28.1 MB 6.0 MB/s eta 0:00:05\n",
      "   - -------------------------------------- 1.4/28.1 MB 5.9 MB/s eta 0:00:05\n",
      "   -- ------------------------------------- 1.6/28.1 MB 5.7 MB/s eta 0:00:05\n",
      "   -- ------------------------------------- 1.8/28.1 MB 5.7 MB/s eta 0:00:05\n",
      "   -- ------------------------------------- 2.0/28.1 MB 5.3 MB/s eta 0:00:05\n",
      "   --- ------------------------------------ 2.2/28.1 MB 5.3 MB/s eta 0:00:05\n",
      "   --- ------------------------------------ 2.4/28.1 MB 5.1 MB/s eta 0:00:06\n",
      "   --- ------------------------------------ 2.7/28.1 MB 5.2 MB/s eta 0:00:05\n",
      "   ---- ----------------------------------- 3.0/28.1 MB 5.6 MB/s eta 0:00:05\n",
      "   ---- ----------------------------------- 3.2/28.1 MB 5.4 MB/s eta 0:00:05\n",
      "   ---- ----------------------------------- 3.5/28.1 MB 5.6 MB/s eta 0:00:05\n",
      "   ----- ---------------------------------- 3.8/28.1 MB 5.4 MB/s eta 0:00:05\n",
      "   ----- ---------------------------------- 4.2/28.1 MB 5.7 MB/s eta 0:00:05\n",
      "   ------ --------------------------------- 4.5/28.1 MB 5.7 MB/s eta 0:00:05\n",
      "   ------ --------------------------------- 4.6/28.1 MB 5.6 MB/s eta 0:00:05\n",
      "   ------ --------------------------------- 4.9/28.1 MB 5.6 MB/s eta 0:00:05\n",
      "   ------- -------------------------------- 5.1/28.1 MB 5.6 MB/s eta 0:00:05\n",
      "   ------- -------------------------------- 5.3/28.1 MB 5.5 MB/s eta 0:00:05\n",
      "   ------- -------------------------------- 5.6/28.1 MB 5.5 MB/s eta 0:00:05\n",
      "   -------- ------------------------------- 5.9/28.1 MB 5.5 MB/s eta 0:00:05\n",
      "   -------- ------------------------------- 6.1/28.1 MB 5.5 MB/s eta 0:00:05\n",
      "   -------- ------------------------------- 6.3/28.1 MB 5.4 MB/s eta 0:00:05\n",
      "   --------- ------------------------------ 6.5/28.1 MB 5.4 MB/s eta 0:00:04\n",
      "   --------- ------------------------------ 6.7/28.1 MB 5.4 MB/s eta 0:00:04\n",
      "   --------- ------------------------------ 6.9/28.1 MB 5.3 MB/s eta 0:00:04\n",
      "   ---------- ----------------------------- 7.2/28.1 MB 5.4 MB/s eta 0:00:04\n",
      "   ---------- ----------------------------- 7.5/28.1 MB 5.4 MB/s eta 0:00:04\n",
      "   ----------- ---------------------------- 7.7/28.1 MB 5.4 MB/s eta 0:00:04\n",
      "   ----------- ---------------------------- 8.0/28.1 MB 5.4 MB/s eta 0:00:04\n",
      "   ----------- ---------------------------- 8.2/28.1 MB 5.3 MB/s eta 0:00:04\n",
      "   ----------- ---------------------------- 8.3/28.1 MB 5.2 MB/s eta 0:00:04\n",
      "   ------------ --------------------------- 8.5/28.1 MB 5.2 MB/s eta 0:00:04\n",
      "   ------------ --------------------------- 8.7/28.1 MB 5.2 MB/s eta 0:00:04\n",
      "   ------------ --------------------------- 8.9/28.1 MB 5.2 MB/s eta 0:00:04\n",
      "   ------------ --------------------------- 9.1/28.1 MB 5.1 MB/s eta 0:00:04\n",
      "   ------------- -------------------------- 9.3/28.1 MB 5.1 MB/s eta 0:00:04\n",
      "   ------------- -------------------------- 9.5/28.1 MB 5.1 MB/s eta 0:00:04\n",
      "   ------------- -------------------------- 9.8/28.1 MB 5.2 MB/s eta 0:00:04\n",
      "   -------------- ------------------------- 10.0/28.1 MB 5.1 MB/s eta 0:00:04\n",
      "   -------------- ------------------------- 10.3/28.1 MB 5.2 MB/s eta 0:00:04\n",
      "   --------------- ------------------------ 10.6/28.1 MB 5.2 MB/s eta 0:00:04\n",
      "   --------------- ------------------------ 10.9/28.1 MB 5.2 MB/s eta 0:00:04\n",
      "   --------------- ------------------------ 11.2/28.1 MB 5.2 MB/s eta 0:00:04\n",
      "   ---------------- ----------------------- 11.4/28.1 MB 5.2 MB/s eta 0:00:04\n",
      "   ---------------- ----------------------- 11.7/28.1 MB 5.2 MB/s eta 0:00:04\n",
      "   ----------------- ---------------------- 12.0/28.1 MB 5.2 MB/s eta 0:00:04\n",
      "   ----------------- ---------------------- 12.2/28.1 MB 5.3 MB/s eta 0:00:04\n",
      "   ----------------- ---------------------- 12.5/28.1 MB 5.3 MB/s eta 0:00:03\n",
      "   ------------------ --------------------- 12.7/28.1 MB 5.3 MB/s eta 0:00:03\n",
      "   ------------------ --------------------- 12.8/28.1 MB 5.2 MB/s eta 0:00:03\n",
      "   ------------------ --------------------- 12.9/28.1 MB 5.1 MB/s eta 0:00:03\n",
      "   ------------------ --------------------- 13.2/28.1 MB 5.1 MB/s eta 0:00:03\n",
      "   ------------------- -------------------- 13.4/28.1 MB 5.0 MB/s eta 0:00:03\n",
      "   ------------------- -------------------- 13.6/28.1 MB 5.1 MB/s eta 0:00:03\n",
      "   ------------------- -------------------- 14.0/28.1 MB 5.1 MB/s eta 0:00:03\n",
      "   -------------------- ------------------- 14.2/28.1 MB 5.0 MB/s eta 0:00:03\n",
      "   -------------------- ------------------- 14.5/28.1 MB 5.0 MB/s eta 0:00:03\n",
      "   --------------------- ------------------ 14.8/28.1 MB 5.1 MB/s eta 0:00:03\n",
      "   --------------------- ------------------ 15.1/28.1 MB 5.1 MB/s eta 0:00:03\n",
      "   --------------------- ------------------ 15.3/28.1 MB 5.1 MB/s eta 0:00:03\n",
      "   ---------------------- ----------------- 15.5/28.1 MB 5.1 MB/s eta 0:00:03\n",
      "   ---------------------- ----------------- 15.8/28.1 MB 5.1 MB/s eta 0:00:03\n",
      "   ---------------------- ----------------- 16.0/28.1 MB 5.1 MB/s eta 0:00:03\n",
      "   ----------------------- ---------------- 16.2/28.1 MB 5.0 MB/s eta 0:00:03\n",
      "   ----------------------- ---------------- 16.4/28.1 MB 5.1 MB/s eta 0:00:03\n",
      "   ----------------------- ---------------- 16.6/28.1 MB 5.1 MB/s eta 0:00:03\n",
      "   ------------------------ --------------- 16.9/28.1 MB 5.1 MB/s eta 0:00:03\n",
      "   ------------------------ --------------- 17.0/28.1 MB 5.0 MB/s eta 0:00:03\n",
      "   ------------------------ --------------- 17.3/28.1 MB 5.1 MB/s eta 0:00:03\n",
      "   ------------------------- -------------- 17.6/28.1 MB 5.1 MB/s eta 0:00:03\n",
      "   ------------------------- -------------- 17.9/28.1 MB 5.1 MB/s eta 0:00:03\n",
      "   ------------------------- -------------- 18.1/28.1 MB 5.1 MB/s eta 0:00:02\n",
      "   -------------------------- ------------- 18.4/28.1 MB 5.1 MB/s eta 0:00:02\n",
      "   -------------------------- ------------- 18.6/28.1 MB 5.2 MB/s eta 0:00:02\n",
      "   -------------------------- ------------- 18.8/28.1 MB 5.2 MB/s eta 0:00:02\n",
      "   --------------------------- ------------ 19.0/28.1 MB 5.2 MB/s eta 0:00:02\n",
      "   --------------------------- ------------ 19.2/28.1 MB 5.2 MB/s eta 0:00:02\n",
      "   --------------------------- ------------ 19.4/28.1 MB 5.2 MB/s eta 0:00:02\n",
      "   --------------------------- ------------ 19.5/28.1 MB 5.2 MB/s eta 0:00:02\n",
      "   --------------------------- ------------ 19.6/28.1 MB 5.1 MB/s eta 0:00:02\n",
      "   ---------------------------- ----------- 19.8/28.1 MB 5.1 MB/s eta 0:00:02\n",
      "   ---------------------------- ----------- 20.1/28.1 MB 5.1 MB/s eta 0:00:02\n",
      "   ---------------------------- ----------- 20.3/28.1 MB 5.1 MB/s eta 0:00:02\n",
      "   ----------------------------- ---------- 20.6/28.1 MB 5.1 MB/s eta 0:00:02\n",
      "   ----------------------------- ---------- 20.9/28.1 MB 5.0 MB/s eta 0:00:02\n",
      "   ------------------------------ --------- 21.2/28.1 MB 5.0 MB/s eta 0:00:02\n",
      "   ------------------------------ --------- 21.4/28.1 MB 5.0 MB/s eta 0:00:02\n",
      "   ------------------------------ --------- 21.7/28.1 MB 5.0 MB/s eta 0:00:02\n",
      "   ------------------------------- -------- 22.0/28.1 MB 5.0 MB/s eta 0:00:02\n",
      "   ------------------------------- -------- 22.3/28.1 MB 5.0 MB/s eta 0:00:02\n",
      "   -------------------------------- ------- 22.6/28.1 MB 5.1 MB/s eta 0:00:02\n",
      "   -------------------------------- ------- 22.8/28.1 MB 5.1 MB/s eta 0:00:02\n",
      "   -------------------------------- ------- 22.9/28.1 MB 5.1 MB/s eta 0:00:02\n",
      "   -------------------------------- ------- 23.1/28.1 MB 5.0 MB/s eta 0:00:02\n",
      "   --------------------------------- ------ 23.2/28.1 MB 5.1 MB/s eta 0:00:01\n",
      "   --------------------------------- ------ 23.4/28.1 MB 5.0 MB/s eta 0:00:01\n",
      "   --------------------------------- ------ 23.6/28.1 MB 5.0 MB/s eta 0:00:01\n",
      "   --------------------------------- ------ 23.8/28.1 MB 5.0 MB/s eta 0:00:01\n",
      "   ---------------------------------- ----- 24.0/28.1 MB 5.0 MB/s eta 0:00:01\n",
      "   ---------------------------------- ----- 24.1/28.1 MB 4.9 MB/s eta 0:00:01\n",
      "   ---------------------------------- ----- 24.4/28.1 MB 4.9 MB/s eta 0:00:01\n",
      "   ----------------------------------- ---- 24.6/28.1 MB 4.9 MB/s eta 0:00:01\n",
      "   ----------------------------------- ---- 24.9/28.1 MB 4.9 MB/s eta 0:00:01\n",
      "   ----------------------------------- ---- 25.1/28.1 MB 4.9 MB/s eta 0:00:01\n",
      "   ------------------------------------ --- 25.4/28.1 MB 4.8 MB/s eta 0:00:01\n",
      "   ------------------------------------ --- 25.7/28.1 MB 4.9 MB/s eta 0:00:01\n",
      "   ------------------------------------ --- 25.9/28.1 MB 4.9 MB/s eta 0:00:01\n",
      "   ------------------------------------- -- 26.1/28.1 MB 4.8 MB/s eta 0:00:01\n",
      "   ------------------------------------- -- 26.3/28.1 MB 4.9 MB/s eta 0:00:01\n",
      "   ------------------------------------- -- 26.6/28.1 MB 4.8 MB/s eta 0:00:01\n",
      "   -------------------------------------- - 26.8/28.1 MB 4.9 MB/s eta 0:00:01\n",
      "   -------------------------------------- - 27.0/28.1 MB 4.8 MB/s eta 0:00:01\n",
      "   -------------------------------------- - 27.2/28.1 MB 4.9 MB/s eta 0:00:01\n",
      "   ---------------------------------------  27.4/28.1 MB 4.9 MB/s eta 0:00:01\n",
      "   ---------------------------------------  27.7/28.1 MB 4.9 MB/s eta 0:00:01\n",
      "   ---------------------------------------  28.0/28.1 MB 4.8 MB/s eta 0:00:01\n",
      "   ---------------------------------------  28.1/28.1 MB 4.9 MB/s eta 0:00:01\n",
      "   ---------------------------------------  28.1/28.1 MB 4.9 MB/s eta 0:00:01\n",
      "   ---------------------------------------  28.1/28.1 MB 4.9 MB/s eta 0:00:01\n",
      "   ---------------------------------------  28.1/28.1 MB 4.9 MB/s eta 0:00:01\n",
      "   ---------------------------------------- 28.1/28.1 MB 4.4 MB/s eta 0:00:00\n",
      "Installing collected packages: soxr, msgpack, llvmlite, lazy-loader, audioread, soundfile, pooch, numba, librosa\n",
      "Successfully installed audioread-3.0.1 lazy-loader-0.3 librosa-0.10.1 llvmlite-0.41.0 msgpack-1.0.7 numba-0.58.0 pooch-1.7.0 soundfile-0.12.1 soxr-0.3.6\n"
     ]
    }
   ],
   "source": [
    "! pip install librosa"
   ]
  },
  {
   "cell_type": "code",
   "execution_count": 22,
   "id": "d1db8787",
   "metadata": {},
   "outputs": [
    {
     "name": "stdout",
     "output_type": "stream",
     "text": [
      "Requirement already satisfied: librosa in c:\\users\\sumit\\anaconda3\\lib\\site-packages (0.10.1)\n",
      "Requirement already satisfied: audioread>=2.1.9 in c:\\users\\sumit\\anaconda3\\lib\\site-packages (from librosa) (3.0.0)\n",
      "Requirement already satisfied: numpy!=1.22.0,!=1.22.1,!=1.22.2,>=1.20.3 in c:\\users\\sumit\\anaconda3\\lib\\site-packages (from librosa) (1.24.3)\n",
      "Requirement already satisfied: scipy>=1.2.0 in c:\\users\\sumit\\anaconda3\\lib\\site-packages (from librosa) (1.10.1)\n",
      "Requirement already satisfied: scikit-learn>=0.20.0 in c:\\users\\sumit\\anaconda3\\lib\\site-packages (from librosa) (1.2.2)\n",
      "Requirement already satisfied: joblib>=0.14 in c:\\users\\sumit\\anaconda3\\lib\\site-packages (from librosa) (1.2.0)\n",
      "Requirement already satisfied: decorator>=4.3.0 in c:\\users\\sumit\\anaconda3\\lib\\site-packages (from librosa) (5.1.1)\n",
      "Requirement already satisfied: numba>=0.51.0 in c:\\users\\sumit\\anaconda3\\lib\\site-packages (from librosa) (0.57.0)\n",
      "Requirement already satisfied: soundfile>=0.12.1 in c:\\users\\sumit\\anaconda3\\lib\\site-packages (from librosa) (0.12.1)\n",
      "Requirement already satisfied: pooch>=1.0 in c:\\users\\sumit\\anaconda3\\lib\\site-packages (from librosa) (1.4.0)\n",
      "Requirement already satisfied: soxr>=0.3.2 in c:\\users\\sumit\\anaconda3\\lib\\site-packages (from librosa) (0.3.6)\n",
      "Requirement already satisfied: typing-extensions>=4.1.1 in c:\\users\\sumit\\anaconda3\\lib\\site-packages (from librosa) (4.6.3)\n",
      "Requirement already satisfied: lazy-loader>=0.1 in c:\\users\\sumit\\anaconda3\\lib\\site-packages (from librosa) (0.2)\n",
      "Requirement already satisfied: msgpack>=1.0 in c:\\users\\sumit\\anaconda3\\lib\\site-packages (from librosa) (1.0.3)\n",
      "Requirement already satisfied: llvmlite<0.41,>=0.40.0dev0 in c:\\users\\sumit\\anaconda3\\lib\\site-packages (from numba>=0.51.0->librosa) (0.40.0)\n",
      "Requirement already satisfied: requests in c:\\users\\sumit\\anaconda3\\lib\\site-packages (from pooch>=1.0->librosa) (2.29.0)\n",
      "Requirement already satisfied: packaging in c:\\users\\sumit\\anaconda3\\lib\\site-packages (from pooch>=1.0->librosa) (23.0)\n",
      "Requirement already satisfied: appdirs in c:\\users\\sumit\\anaconda3\\lib\\site-packages (from pooch>=1.0->librosa) (1.4.4)\n",
      "Requirement already satisfied: threadpoolctl>=2.0.0 in c:\\users\\sumit\\anaconda3\\lib\\site-packages (from scikit-learn>=0.20.0->librosa) (2.2.0)\n",
      "Requirement already satisfied: cffi>=1.0 in c:\\users\\sumit\\anaconda3\\lib\\site-packages (from soundfile>=0.12.1->librosa) (1.15.1)\n",
      "Requirement already satisfied: pycparser in c:\\users\\sumit\\anaconda3\\lib\\site-packages (from cffi>=1.0->soundfile>=0.12.1->librosa) (2.21)\n",
      "Requirement already satisfied: charset-normalizer<4,>=2 in c:\\users\\sumit\\anaconda3\\lib\\site-packages (from requests->pooch>=1.0->librosa) (2.0.4)\n",
      "Requirement already satisfied: idna<4,>=2.5 in c:\\users\\sumit\\anaconda3\\lib\\site-packages (from requests->pooch>=1.0->librosa) (2.10)\n",
      "Requirement already satisfied: urllib3<1.27,>=1.21.1 in c:\\users\\sumit\\anaconda3\\lib\\site-packages (from requests->pooch>=1.0->librosa) (1.26.16)\n",
      "Requirement already satisfied: certifi>=2017.4.17 in c:\\users\\sumit\\anaconda3\\lib\\site-packages (from requests->pooch>=1.0->librosa) (2022.12.7)\n"
     ]
    }
   ],
   "source": [
    "! pip install --upgrade librosa"
   ]
  },
  {
   "cell_type": "code",
   "execution_count": 4,
   "id": "variable-airline",
   "metadata": {},
   "outputs": [
    {
     "name": "stdout",
     "output_type": "stream",
     "text": [
      "[-0.00011485 -0.00017083 -0.00017736 ... -0.04609928 -0.04609471\n",
      " -0.05099387]\n"
     ]
    }
   ],
   "source": [
    "print(librosa_audio_data)"
   ]
  },
  {
   "cell_type": "code",
   "execution_count": 5,
   "id": "swedish-minute",
   "metadata": {},
   "outputs": [
    {
     "data": {
      "text/plain": [
       "[<matplotlib.lines.Line2D at 0x2e7b38cd850>]"
      ]
     },
     "execution_count": 5,
     "metadata": {},
     "output_type": "execute_result"
    },
    {
     "data": {
      "image/png": "[encoded data removed]",
      "text/plain": [
       "<Figure size 1200x400 with 1 Axes>"
      ]
     },
     "metadata": {},
     "output_type": "display_data"
    }
   ],
   "source": [
    "### Lets plot the librosa audio data\n",
    "import matplotlib.pyplot as plt\n",
    "# Original audio with 1 channel \n",
    "plt.figure(figsize=(12, 4))\n",
    "plt.plot(librosa_audio_data)"
   ]
  },
  {
   "cell_type": "markdown",
   "id": "comparative-ontario",
   "metadata": {},
   "source": [
    "#### Observation\n",
    "Here Librosa converts the signal to mono, meaning the channel will alays be 1"
   ]
  },
  {
   "cell_type": "code",
   "execution_count": 6,
   "id": "norman-producer",
   "metadata": {},
   "outputs": [],
   "source": [
    "### Lets read with scipy\n",
    "#scipy will present the data as it is\n",
    "\n",
    "from scipy.io import wavfile as wav\n",
    "wave_sample_rate, wave_audio = wav.read(audio_file_path) "
   ]
  },
  {
   "cell_type": "code",
   "execution_count": 6,
   "id": "acting-functionality",
   "metadata": {},
   "outputs": [
    {
     "data": {
      "text/plain": [
       "array([   -5,    -5,    -6, ..., -1576, -1566, -1557], dtype=int16)"
      ]
     },
     "execution_count": 6,
     "metadata": {},
     "output_type": "execute_result"
    }
   ],
   "source": [
    "wave_audio\n"
   ]
  },
  {
   "cell_type": "code",
   "execution_count": 7,
   "id": "pressing-college",
   "metadata": {},
   "outputs": [
    {
     "data": {
      "text/plain": [
       "[<matplotlib.lines.Line2D at 0x2b9a1494d90>]"
      ]
     },
     "execution_count": 7,
     "metadata": {},
     "output_type": "execute_result"
    },
    {
     "data": {
      "image/png": "[encoded data removed]",
      "text/plain": [
       "<Figure size 1200x400 with 1 Axes>"
      ]
     },
     "metadata": {},
     "output_type": "display_data"
    }
   ],
   "source": [
    "import matplotlib.pyplot as plt\n",
    "\n",
    "# Original audio with 2 channels \n",
    "plt.figure(figsize=(12, 4))\n",
    "plt.plot(wave_audio)"
   ]
  },
  {
   "cell_type": "markdown",
   "id": "applicable-priest",
   "metadata": {},
   "source": [
    "### Extract Features\n",
    "Here we will be using Mel-Frequency Cepstral Coefficients(MFCC) from the audio \n",
    "samples.\n",
    "The MFCC summarises the frequency distribution across the window size, so it is possible to analyse both the frequency and time characteristics of the sound. These audio representations will allow us to identify features for classification.\n",
    "\n",
    "\n",
    "\n",
    "The mel frequency cepstral coefficients (MFCCs) of a signal are a small set of features (usually about 10-20) which concisely describe the overall shape of a spectral envelope\n",
    "\n",
    "\n",
    "MFCC has the characteristics of high accuracy and stable recognition. At the same time, advantages of MFCC including high-fidelity representation and stable recognition"
   ]
  },
  {
   "cell_type": "code",
   "execution_count": 8,
   "id": "chinese-north",
   "metadata": {},
   "outputs": [
    {
     "name": "stdout",
     "output_type": "stream",
     "text": [
      "(40, 173)\n"
     ]
    }
   ],
   "source": [
    "mfccs = librosa.feature.mfcc(y=librosa_audio_data, sr=librosa_sample_rate, n_mfcc=40)\n",
    "print(mfccs.shape)"
   ]
  },
  {
   "cell_type": "code",
   "execution_count": 9,
   "id": "sporting-freeware",
   "metadata": {},
   "outputs": [
    {
     "data": {
      "text/plain": [
       "array([[-5.2506586e+02, -5.1955695e+02, -5.1864276e+02, ...,\n",
       "        -4.3568549e+02, -3.8558670e+02, -3.0779324e+02],\n",
       "       [ 9.1999226e+00,  1.6759441e+01,  1.8103909e+01, ...,\n",
       "         1.1375923e+02,  1.4776443e+02,  1.3558249e+02],\n",
       "       [ 8.8355560e+00,  1.5750109e+01,  1.7259296e+01, ...,\n",
       "         6.4274643e+01,  4.9179771e+01,  3.2849548e+01],\n",
       "       ...,\n",
       "       [ 4.3309405e-01, -3.5408895e+00, -4.8356495e+00, ...,\n",
       "        -5.2699118e+00, -1.2849241e-01,  7.5349283e-01],\n",
       "       [ 4.4520712e-01, -3.2774832e+00, -4.6472917e+00, ...,\n",
       "        -3.4224057e+00,  3.9007006e+00,  5.5314511e-01],\n",
       "       [ 3.5697091e-01, -2.9899054e+00, -4.4125957e+00, ...,\n",
       "        -2.6713324e+00,  2.7894549e+00,  1.4205611e-01]], dtype=float32)"
      ]
     },
     "execution_count": 9,
     "metadata": {},
     "output_type": "execute_result"
    }
   ],
   "source": [
    "mfccs"
   ]
  },
  {
   "cell_type": "code",
   "execution_count": 10,
   "id": "liberal-journalist",
   "metadata": {},
   "outputs": [
    {
     "data": {
      "text/html": [
       "<div>\n",
       "<style scoped>\n",
       "    .dataframe tbody tr th:only-of-type {\n",
       "        vertical-align: middle;\n",
       "    }\n",
       "\n",
       "    .dataframe tbody tr th {\n",
       "        vertical-align: top;\n",
       "    }\n",
       "\n",
       "    .dataframe thead th {\n",
       "        text-align: right;\n",
       "    }\n",
       "</style>\n",
       "<table border=\"1\" class=\"dataframe\">\n",
       "  <thead>\n",
       "    <tr style=\"text-align: right;\">\n",
       "      <th></th>\n",
       "      <th>slice_file_name</th>\n",
       "      <th>fsID</th>\n",
       "      <th>start</th>\n",
       "      <th>end</th>\n",
       "      <th>salience</th>\n",
       "      <th>fold</th>\n",
       "      <th>classID</th>\n",
       "      <th>class</th>\n",
       "    </tr>\n",
       "  </thead>\n",
       "  <tbody>\n",
       "    <tr>\n",
       "      <th>978</th>\n",
       "      <td>121286-0-0-10.wav</td>\n",
       "      <td>121286</td>\n",
       "      <td>5.000000</td>\n",
       "      <td>9.000000</td>\n",
       "      <td>1</td>\n",
       "      <td>5</td>\n",
       "      <td>0</td>\n",
       "      <td>air_conditioner</td>\n",
       "    </tr>\n",
       "    <tr>\n",
       "      <th>4906</th>\n",
       "      <td>193699-2-0-46.wav</td>\n",
       "      <td>193699</td>\n",
       "      <td>23.000000</td>\n",
       "      <td>27.000000</td>\n",
       "      <td>2</td>\n",
       "      <td>8</td>\n",
       "      <td>2</td>\n",
       "      <td>children_playing</td>\n",
       "    </tr>\n",
       "    <tr>\n",
       "      <th>2120</th>\n",
       "      <td>151359-1-0-0.wav</td>\n",
       "      <td>151359</td>\n",
       "      <td>5.038068</td>\n",
       "      <td>5.180168</td>\n",
       "      <td>1</td>\n",
       "      <td>3</td>\n",
       "      <td>1</td>\n",
       "      <td>car_horn</td>\n",
       "    </tr>\n",
       "    <tr>\n",
       "      <th>8335</th>\n",
       "      <td>88121-8-0-3.wav</td>\n",
       "      <td>88121</td>\n",
       "      <td>1.500000</td>\n",
       "      <td>5.500000</td>\n",
       "      <td>2</td>\n",
       "      <td>10</td>\n",
       "      <td>8</td>\n",
       "      <td>siren</td>\n",
       "    </tr>\n",
       "    <tr>\n",
       "      <th>4807</th>\n",
       "      <td>190680-3-6-0.wav</td>\n",
       "      <td>190680</td>\n",
       "      <td>36.248340</td>\n",
       "      <td>40.248340</td>\n",
       "      <td>2</td>\n",
       "      <td>6</td>\n",
       "      <td>3</td>\n",
       "      <td>dog_bark</td>\n",
       "    </tr>\n",
       "    <tr>\n",
       "      <th>3405</th>\n",
       "      <td>169466-4-2-17.wav</td>\n",
       "      <td>169466</td>\n",
       "      <td>165.640268</td>\n",
       "      <td>169.640268</td>\n",
       "      <td>2</td>\n",
       "      <td>4</td>\n",
       "      <td>4</td>\n",
       "      <td>drilling</td>\n",
       "    </tr>\n",
       "    <tr>\n",
       "      <th>372</th>\n",
       "      <td>105029-7-0-5.wav</td>\n",
       "      <td>105029</td>\n",
       "      <td>13.926527</td>\n",
       "      <td>17.926527</td>\n",
       "      <td>1</td>\n",
       "      <td>9</td>\n",
       "      <td>7</td>\n",
       "      <td>jackhammer</td>\n",
       "    </tr>\n",
       "    <tr>\n",
       "      <th>8633</th>\n",
       "      <td>98223-7-7-0.wav</td>\n",
       "      <td>98223</td>\n",
       "      <td>45.939253</td>\n",
       "      <td>48.165112</td>\n",
       "      <td>1</td>\n",
       "      <td>1</td>\n",
       "      <td>7</td>\n",
       "      <td>jackhammer</td>\n",
       "    </tr>\n",
       "    <tr>\n",
       "      <th>6301</th>\n",
       "      <td>39854-5-1-3.wav</td>\n",
       "      <td>39854</td>\n",
       "      <td>145.573254</td>\n",
       "      <td>149.573254</td>\n",
       "      <td>1</td>\n",
       "      <td>6</td>\n",
       "      <td>5</td>\n",
       "      <td>engine_idling</td>\n",
       "    </tr>\n",
       "    <tr>\n",
       "      <th>6640</th>\n",
       "      <td>50661-5-0-5.wav</td>\n",
       "      <td>50661</td>\n",
       "      <td>2.500000</td>\n",
       "      <td>6.500000</td>\n",
       "      <td>1</td>\n",
       "      <td>4</td>\n",
       "      <td>5</td>\n",
       "      <td>engine_idling</td>\n",
       "    </tr>\n",
       "  </tbody>\n",
       "</table>\n",
       "</div>"
      ],
      "text/plain": [
       "        slice_file_name    fsID       start         end  salience  fold  \\\n",
       "978   121286-0-0-10.wav  121286    5.000000    9.000000         1     5   \n",
       "4906  193699-2-0-46.wav  193699   23.000000   27.000000         2     8   \n",
       "2120   151359-1-0-0.wav  151359    5.038068    5.180168         1     3   \n",
       "8335    88121-8-0-3.wav   88121    1.500000    5.500000         2    10   \n",
       "4807   190680-3-6-0.wav  190680   36.248340   40.248340         2     6   \n",
       "3405  169466-4-2-17.wav  169466  165.640268  169.640268         2     4   \n",
       "372    105029-7-0-5.wav  105029   13.926527   17.926527         1     9   \n",
       "8633    98223-7-7-0.wav   98223   45.939253   48.165112         1     1   \n",
       "6301    39854-5-1-3.wav   39854  145.573254  149.573254         1     6   \n",
       "6640    50661-5-0-5.wav   50661    2.500000    6.500000         1     4   \n",
       "\n",
       "      classID             class  \n",
       "978         0   air_conditioner  \n",
       "4906        2  children_playing  \n",
       "2120        1          car_horn  \n",
       "8335        8             siren  \n",
       "4807        3          dog_bark  \n",
       "3405        4          drilling  \n",
       "372         7        jackhammer  \n",
       "8633        7        jackhammer  \n",
       "6301        5     engine_idling  \n",
       "6640        5     engine_idling  "
      ]
     },
     "execution_count": 10,
     "metadata": {},
     "output_type": "execute_result"
    }
   ],
   "source": [
    "#### Extracting MFCC's For every audio file\n",
    "import pandas as pd\n",
    "import os\n",
    "import librosa\n",
    "\n",
    "audio_dataset_path='UrbanSound8K/audio/'\n",
    "metadata=pd.read_csv('UrbanSound8K/metadata/UrbanSound8K.csv')\n",
    "metadata.sample(10)"
   ]
  },
  {
   "cell_type": "code",
   "execution_count": 11,
   "id": "a95a6298",
   "metadata": {},
   "outputs": [
    {
     "data": {
      "text/plain": [
       "array(['dog_bark', 'children_playing', 'car_horn', 'air_conditioner',\n",
       "       'street_music', 'gun_shot', 'siren', 'engine_idling', 'jackhammer',\n",
       "       'drilling', 'Bell', 'Saurav', 'Sumit', 'Chirag ', 'Chirag'],\n",
       "      dtype=object)"
      ]
     },
     "execution_count": 11,
     "metadata": {},
     "output_type": "execute_result"
    }
   ],
   "source": [
    "metadata['class'].unique()"
   ]
  },
  {
   "cell_type": "code",
   "execution_count": 12,
   "id": "chinese-calendar",
   "metadata": {},
   "outputs": [],
   "source": [
    "def features_extractor(file):\n",
    "    audio, sample_rate = librosa.load(file_name, res_type='soxr_hq') \n",
    "    mfccs_features = librosa.feature.mfcc(y=audio, sr=sample_rate, n_mfcc=40)\n",
    "    mfccs_scaled_features = np.mean(mfccs_features.T,axis=0)\n",
    "    \n",
    "    return mfccs_scaled_features\n",
    "    "
   ]
  },
  {
   "cell_type": "code",
   "execution_count": 13,
   "id": "nuclear-sponsorship",
   "metadata": {},
   "outputs": [
    {
     "name": "stderr",
     "output_type": "stream",
     "text": [
      "0it [00:00, ?it/s]"
     ]
    },
    {
     "name": "stderr",
     "output_type": "stream",
     "text": [
      "3555it [02:43, 22.42it/s]c:\\Users\\Sumit\\AppData\\Local\\Programs\\Python\\Python311\\Lib\\site-packages\\librosa\\core\\spectrum.py:257: UserWarning: n_fft=2048 is too large for input signal of length=1323\n",
      "  warnings.warn(\n",
      "8324it [06:24, 28.40it/s]c:\\Users\\Sumit\\AppData\\Local\\Programs\\Python\\Python311\\Lib\\site-packages\\librosa\\core\\spectrum.py:257: UserWarning: n_fft=2048 is too large for input signal of length=1103\n",
      "  warnings.warn(\n",
      "8327it [06:24, 27.74it/s]c:\\Users\\Sumit\\AppData\\Local\\Programs\\Python\\Python311\\Lib\\site-packages\\librosa\\core\\spectrum.py:257: UserWarning: n_fft=2048 is too large for input signal of length=1523\n",
      "  warnings.warn(\n",
      "8767it [06:44, 21.65it/s]\n"
     ]
    }
   ],
   "source": [
    "import numpy as np\n",
    "from tqdm import tqdm\n",
    "### Now we iterate through every audio file and extract features \n",
    "### using Mel-Frequency Cepstral Coefficients\n",
    "extracted_features=[]\n",
    "for index_num,row in tqdm(metadata.iterrows()):\n",
    "    file_name = os.path.join(os.path.abspath(audio_dataset_path),'fold'+str(row[\"fold\"])+'/',str(row[\"slice_file_name\"]))\n",
    "    final_class_labels=row[\"class\"]\n",
    "    data=features_extractor(file_name)\n",
    "    extracted_features.append([data,final_class_labels])"
   ]
  },
  {
   "cell_type": "code",
   "execution_count": 33,
   "id": "14aad490",
   "metadata": {},
   "outputs": [
    {
     "data": {
      "text/plain": [
       "'Chirag'"
      ]
     },
     "execution_count": 33,
     "metadata": {},
     "output_type": "execute_result"
    }
   ],
   "source": [
    "final_class_labels"
   ]
  },
  {
   "cell_type": "code",
   "execution_count": 14,
   "id": "acoustic-wagner",
   "metadata": {},
   "outputs": [
    {
     "data": {
      "text/html": [
       "<div>\n",
       "<style scoped>\n",
       "    .dataframe tbody tr th:only-of-type {\n",
       "        vertical-align: middle;\n",
       "    }\n",
       "\n",
       "    .dataframe tbody tr th {\n",
       "        vertical-align: top;\n",
       "    }\n",
       "\n",
       "    .dataframe thead th {\n",
       "        text-align: right;\n",
       "    }\n",
       "</style>\n",
       "<table border=\"1\" class=\"dataframe\">\n",
       "  <thead>\n",
       "    <tr style=\"text-align: right;\">\n",
       "      <th></th>\n",
       "      <th>feature</th>\n",
       "      <th>class</th>\n",
       "    </tr>\n",
       "  </thead>\n",
       "  <tbody>\n",
       "    <tr>\n",
       "      <th>0</th>\n",
       "      <td>[-211.93698, 62.581203, -122.81315, -60.745293...</td>\n",
       "      <td>dog_bark</td>\n",
       "    </tr>\n",
       "    <tr>\n",
       "      <th>1</th>\n",
       "      <td>[-417.0052, 99.336624, -42.995586, 51.073326, ...</td>\n",
       "      <td>children_playing</td>\n",
       "    </tr>\n",
       "    <tr>\n",
       "      <th>2</th>\n",
       "      <td>[-452.39316, 112.36253, -37.578068, 43.195866,...</td>\n",
       "      <td>children_playing</td>\n",
       "    </tr>\n",
       "    <tr>\n",
       "      <th>3</th>\n",
       "      <td>[-406.47922, 91.1966, -25.043556, 42.78452, 11...</td>\n",
       "      <td>children_playing</td>\n",
       "    </tr>\n",
       "    <tr>\n",
       "      <th>4</th>\n",
       "      <td>[-439.63873, 103.86223, -42.658783, 50.690277,...</td>\n",
       "      <td>children_playing</td>\n",
       "    </tr>\n",
       "  </tbody>\n",
       "</table>\n",
       "</div>"
      ],
      "text/plain": [
       "                                             feature             class\n",
       "0  [-211.93698, 62.581203, -122.81315, -60.745293...          dog_bark\n",
       "1  [-417.0052, 99.336624, -42.995586, 51.073326, ...  children_playing\n",
       "2  [-452.39316, 112.36253, -37.578068, 43.195866,...  children_playing\n",
       "3  [-406.47922, 91.1966, -25.043556, 42.78452, 11...  children_playing\n",
       "4  [-439.63873, 103.86223, -42.658783, 50.690277,...  children_playing"
      ]
     },
     "execution_count": 14,
     "metadata": {},
     "output_type": "execute_result"
    }
   ],
   "source": [
    "### converting extracted_features to Pandas dataframe\n",
    "extracted_features_df=pd.DataFrame(extracted_features,columns=['feature','class'])\n",
    "extracted_features_df.head()"
   ]
  },
  {
   "cell_type": "code",
   "execution_count": 15,
   "id": "characteristic-sudan",
   "metadata": {},
   "outputs": [],
   "source": [
    "### Split the dataset into independent and dependent dataset\n",
    "X=np.array(extracted_features_df['feature'].tolist())\n",
    "y=np.array(extracted_features_df['class'].tolist())"
   ]
  },
  {
   "cell_type": "code",
   "execution_count": 16,
   "id": "friendly-placement",
   "metadata": {},
   "outputs": [
    {
     "data": {
      "text/plain": [
       "(8767, 40)"
      ]
     },
     "execution_count": 16,
     "metadata": {},
     "output_type": "execute_result"
    }
   ],
   "source": [
    "X.shape"
   ]
  },
  {
   "cell_type": "code",
   "execution_count": 18,
   "id": "japanese-cheese",
   "metadata": {},
   "outputs": [
    {
     "data": {
      "text/plain": [
       "array(['dog_bark', 'children_playing', 'children_playing', ..., 'Chirag',\n",
       "       'Chirag', 'Chirag'], dtype='<U16')"
      ]
     },
     "execution_count": 18,
     "metadata": {},
     "output_type": "execute_result"
    }
   ],
   "source": [
    "y\n"
   ]
  },
  {
   "cell_type": "code",
   "execution_count": 19,
   "id": "b06ee2f7",
   "metadata": {},
   "outputs": [
    {
     "name": "stdout",
     "output_type": "stream",
     "text": [
      "Requirement already satisfied: tensorflow in c:\\users\\sumit\\appdata\\local\\programs\\python\\python311\\lib\\site-packages (2.12.0)\n",
      "Requirement already satisfied: tensorflow-intel==2.12.0 in c:\\users\\sumit\\appdata\\local\\programs\\python\\python311\\lib\\site-packages (from tensorflow) (2.12.0)\n",
      "Requirement already satisfied: absl-py>=1.0.0 in c:\\users\\sumit\\appdata\\local\\programs\\python\\python311\\lib\\site-packages (from tensorflow-intel==2.12.0->tensorflow) (1.4.0)\n",
      "Requirement already satisfied: astunparse>=1.6.0 in c:\\users\\sumit\\appdata\\local\\programs\\python\\python311\\lib\\site-packages (from tensorflow-intel==2.12.0->tensorflow) (1.6.3)\n",
      "Requirement already satisfied: flatbuffers>=2.0 in c:\\users\\sumit\\appdata\\local\\programs\\python\\python311\\lib\\site-packages (from tensorflow-intel==2.12.0->tensorflow) (23.3.3)\n",
      "Requirement already satisfied: gast<=0.4.0,>=0.2.1 in c:\\users\\sumit\\appdata\\local\\programs\\python\\python311\\lib\\site-packages (from tensorflow-intel==2.12.0->tensorflow) (0.4.0)\n",
      "Requirement already satisfied: google-pasta>=0.1.1 in c:\\users\\sumit\\appdata\\local\\programs\\python\\python311\\lib\\site-packages (from tensorflow-intel==2.12.0->tensorflow) (0.2.0)\n",
      "Requirement already satisfied: h5py>=2.9.0 in c:\\users\\sumit\\appdata\\local\\programs\\python\\python311\\lib\\site-packages (from tensorflow-intel==2.12.0->tensorflow) (3.8.0)\n",
      "Requirement already satisfied: jax>=0.3.15 in c:\\users\\sumit\\appdata\\local\\programs\\python\\python311\\lib\\site-packages (from tensorflow-intel==2.12.0->tensorflow) (0.4.8)\n",
      "Requirement already satisfied: libclang>=13.0.0 in c:\\users\\sumit\\appdata\\local\\programs\\python\\python311\\lib\\site-packages (from tensorflow-intel==2.12.0->tensorflow) (16.0.0)\n",
      "Requirement already satisfied: numpy<1.24,>=1.22 in c:\\users\\sumit\\appdata\\local\\programs\\python\\python311\\lib\\site-packages (from tensorflow-intel==2.12.0->tensorflow) (1.23.5)\n",
      "Requirement already satisfied: opt-einsum>=2.3.2 in c:\\users\\sumit\\appdata\\local\\programs\\python\\python311\\lib\\site-packages (from tensorflow-intel==2.12.0->tensorflow) (3.3.0)\n",
      "Requirement already satisfied: packaging in c:\\users\\sumit\\appdata\\local\\programs\\python\\python311\\lib\\site-packages (from tensorflow-intel==2.12.0->tensorflow) (23.0)\n",
      "Requirement already satisfied: protobuf!=4.21.0,!=4.21.1,!=4.21.2,!=4.21.3,!=4.21.4,!=4.21.5,<5.0.0dev,>=3.20.3 in c:\\users\\sumit\\appdata\\local\\programs\\python\\python311\\lib\\site-packages (from tensorflow-intel==2.12.0->tensorflow) (3.20.3)\n",
      "Requirement already satisfied: setuptools in c:\\users\\sumit\\appdata\\local\\programs\\python\\python311\\lib\\site-packages (from tensorflow-intel==2.12.0->tensorflow) (65.5.0)\n",
      "Requirement already satisfied: six>=1.12.0 in c:\\users\\sumit\\appdata\\local\\programs\\python\\python311\\lib\\site-packages (from tensorflow-intel==2.12.0->tensorflow) (1.16.0)\n",
      "Requirement already satisfied: termcolor>=1.1.0 in c:\\users\\sumit\\appdata\\local\\programs\\python\\python311\\lib\\site-packages (from tensorflow-intel==2.12.0->tensorflow) (2.3.0)\n",
      "Requirement already satisfied: typing-extensions>=3.6.6 in c:\\users\\sumit\\appdata\\local\\programs\\python\\python311\\lib\\site-packages (from tensorflow-intel==2.12.0->tensorflow) (4.5.0)\n",
      "Requirement already satisfied: wrapt<1.15,>=1.11.0 in c:\\users\\sumit\\appdata\\local\\programs\\python\\python311\\lib\\site-packages (from tensorflow-intel==2.12.0->tensorflow) (1.14.1)\n",
      "Requirement already satisfied: grpcio<2.0,>=1.24.3 in c:\\users\\sumit\\appdata\\local\\programs\\python\\python311\\lib\\site-packages (from tensorflow-intel==2.12.0->tensorflow) (1.54.0)\n",
      "Requirement already satisfied: tensorboard<2.13,>=2.12 in c:\\users\\sumit\\appdata\\local\\programs\\python\\python311\\lib\\site-packages (from tensorflow-intel==2.12.0->tensorflow) (2.12.3)\n",
      "Requirement already satisfied: tensorflow-estimator<2.13,>=2.12.0 in c:\\users\\sumit\\appdata\\local\\programs\\python\\python311\\lib\\site-packages (from tensorflow-intel==2.12.0->tensorflow) (2.12.0)\n",
      "Requirement already satisfied: keras<2.13,>=2.12.0 in c:\\users\\sumit\\appdata\\local\\programs\\python\\python311\\lib\\site-packages (from tensorflow-intel==2.12.0->tensorflow) (2.12.0)\n",
      "Requirement already satisfied: tensorflow-io-gcs-filesystem>=0.23.1 in c:\\users\\sumit\\appdata\\local\\programs\\python\\python311\\lib\\site-packages (from tensorflow-intel==2.12.0->tensorflow) (0.31.0)\n",
      "Requirement already satisfied: wheel<1.0,>=0.23.0 in c:\\users\\sumit\\appdata\\local\\programs\\python\\python311\\lib\\site-packages (from astunparse>=1.6.0->tensorflow-intel==2.12.0->tensorflow) (0.40.0)\n",
      "Requirement already satisfied: ml-dtypes>=0.0.3 in c:\\users\\sumit\\appdata\\local\\programs\\python\\python311\\lib\\site-packages (from jax>=0.3.15->tensorflow-intel==2.12.0->tensorflow) (0.1.0)\n",
      "Requirement already satisfied: scipy>=1.7 in c:\\users\\sumit\\appdata\\local\\programs\\python\\python311\\lib\\site-packages (from jax>=0.3.15->tensorflow-intel==2.12.0->tensorflow) (1.10.1)\n",
      "Requirement already satisfied: google-auth<3,>=1.6.3 in c:\\users\\sumit\\appdata\\local\\programs\\python\\python311\\lib\\site-packages (from tensorboard<2.13,>=2.12->tensorflow-intel==2.12.0->tensorflow) (2.17.3)\n",
      "Requirement already satisfied: google-auth-oauthlib<1.1,>=0.5 in c:\\users\\sumit\\appdata\\local\\programs\\python\\python311\\lib\\site-packages (from tensorboard<2.13,>=2.12->tensorflow-intel==2.12.0->tensorflow) (1.0.0)\n",
      "Requirement already satisfied: markdown>=2.6.8 in c:\\users\\sumit\\appdata\\local\\programs\\python\\python311\\lib\\site-packages (from tensorboard<2.13,>=2.12->tensorflow-intel==2.12.0->tensorflow) (3.4.3)\n",
      "Requirement already satisfied: requests<3,>=2.21.0 in c:\\users\\sumit\\appdata\\local\\programs\\python\\python311\\lib\\site-packages (from tensorboard<2.13,>=2.12->tensorflow-intel==2.12.0->tensorflow) (2.28.2)\n",
      "Requirement already satisfied: tensorboard-data-server<0.8.0,>=0.7.0 in c:\\users\\sumit\\appdata\\local\\programs\\python\\python311\\lib\\site-packages (from tensorboard<2.13,>=2.12->tensorflow-intel==2.12.0->tensorflow) (0.7.0)\n",
      "Requirement already satisfied: werkzeug>=1.0.1 in c:\\users\\sumit\\appdata\\local\\programs\\python\\python311\\lib\\site-packages (from tensorboard<2.13,>=2.12->tensorflow-intel==2.12.0->tensorflow) (2.2.3)\n",
      "Requirement already satisfied: cachetools<6.0,>=2.0.0 in c:\\users\\sumit\\appdata\\local\\programs\\python\\python311\\lib\\site-packages (from google-auth<3,>=1.6.3->tensorboard<2.13,>=2.12->tensorflow-intel==2.12.0->tensorflow) (5.3.0)\n",
      "Requirement already satisfied: pyasn1-modules>=0.2.1 in c:\\users\\sumit\\appdata\\local\\programs\\python\\python311\\lib\\site-packages (from google-auth<3,>=1.6.3->tensorboard<2.13,>=2.12->tensorflow-intel==2.12.0->tensorflow) (0.3.0)\n",
      "Requirement already satisfied: rsa<5,>=3.1.4 in c:\\users\\sumit\\appdata\\local\\programs\\python\\python311\\lib\\site-packages (from google-auth<3,>=1.6.3->tensorboard<2.13,>=2.12->tensorflow-intel==2.12.0->tensorflow) (4.9)\n",
      "Requirement already satisfied: requests-oauthlib>=0.7.0 in c:\\users\\sumit\\appdata\\local\\programs\\python\\python311\\lib\\site-packages (from google-auth-oauthlib<1.1,>=0.5->tensorboard<2.13,>=2.12->tensorflow-intel==2.12.0->tensorflow) (1.3.1)\n",
      "Requirement already satisfied: charset-normalizer<4,>=2 in c:\\users\\sumit\\appdata\\local\\programs\\python\\python311\\lib\\site-packages (from requests<3,>=2.21.0->tensorboard<2.13,>=2.12->tensorflow-intel==2.12.0->tensorflow) (3.0.1)\n",
      "Requirement already satisfied: idna<4,>=2.5 in c:\\users\\sumit\\appdata\\local\\programs\\python\\python311\\lib\\site-packages (from requests<3,>=2.21.0->tensorboard<2.13,>=2.12->tensorflow-intel==2.12.0->tensorflow) (3.4)\n",
      "Requirement already satisfied: urllib3<1.27,>=1.21.1 in c:\\users\\sumit\\appdata\\local\\programs\\python\\python311\\lib\\site-packages (from requests<3,>=2.21.0->tensorboard<2.13,>=2.12->tensorflow-intel==2.12.0->tensorflow) (1.26.14)\n",
      "Requirement already satisfied: certifi>=2017.4.17 in c:\\users\\sumit\\appdata\\local\\programs\\python\\python311\\lib\\site-packages (from requests<3,>=2.21.0->tensorboard<2.13,>=2.12->tensorflow-intel==2.12.0->tensorflow) (2022.12.7)\n",
      "Requirement already satisfied: MarkupSafe>=2.1.1 in c:\\users\\sumit\\appdata\\local\\programs\\python\\python311\\lib\\site-packages (from werkzeug>=1.0.1->tensorboard<2.13,>=2.12->tensorflow-intel==2.12.0->tensorflow) (2.1.2)\n",
      "Requirement already satisfied: pyasn1<0.6.0,>=0.4.6 in c:\\users\\sumit\\appdata\\local\\programs\\python\\python311\\lib\\site-packages (from pyasn1-modules>=0.2.1->google-auth<3,>=1.6.3->tensorboard<2.13,>=2.12->tensorflow-intel==2.12.0->tensorflow) (0.5.0)\n",
      "Requirement already satisfied: oauthlib>=3.0.0 in c:\\users\\sumit\\appdata\\local\\programs\\python\\python311\\lib\\site-packages (from requests-oauthlib>=0.7.0->google-auth-oauthlib<1.1,>=0.5->tensorboard<2.13,>=2.12->tensorflow-intel==2.12.0->tensorflow) (3.2.2)\n"
     ]
    }
   ],
   "source": [
    "! pip install tensorflow"
   ]
  },
  {
   "cell_type": "code",
   "execution_count": 21,
   "id": "0531def8",
   "metadata": {},
   "outputs": [
    {
     "name": "stdout",
     "output_type": "stream",
     "text": [
      "2.12.0\n"
     ]
    }
   ],
   "source": [
    "import tensorflow  as tf\n",
    "print(tf.__version__)"
   ]
  },
  {
   "cell_type": "code",
   "execution_count": null,
   "id": "15ddddf5",
   "metadata": {},
   "outputs": [],
   "source": []
  },
  {
   "cell_type": "code",
   "execution_count": 20,
   "id": "wired-church",
   "metadata": {},
   "outputs": [],
   "source": [
    "### Label Encoding\n",
    "###y=np.array(pd.get_dummies(y))\n",
    "### Label Encoder\n",
    "from tensorflow.keras.utils import to_categorical\n",
    "from sklearn.preprocessing import LabelEncoder\n",
    "labelencoder=LabelEncoder()\n",
    "y=to_categorical(labelencoder.fit_transform(y))"
   ]
  },
  {
   "cell_type": "code",
   "execution_count": 22,
   "id": "sitting-anniversary",
   "metadata": {},
   "outputs": [
    {
     "data": {
      "text/plain": [
       "array([[0., 0., 0., ..., 0., 0., 0.],\n",
       "       [0., 0., 0., ..., 0., 0., 0.],\n",
       "       [0., 0., 0., ..., 0., 0., 0.],\n",
       "       ...,\n",
       "       [0., 1., 0., ..., 0., 0., 0.],\n",
       "       [0., 1., 0., ..., 0., 0., 0.],\n",
       "       [0., 1., 0., ..., 0., 0., 0.]], dtype=float32)"
      ]
     },
     "execution_count": 22,
     "metadata": {},
     "output_type": "execute_result"
    }
   ],
   "source": [
    "y"
   ]
  },
  {
   "cell_type": "code",
   "execution_count": 23,
   "id": "documentary-priority",
   "metadata": {},
   "outputs": [],
   "source": [
    "### Train Test Split\n",
    "from sklearn.model_selection import train_test_split\n",
    "X_train,X_test,y_train,y_test=train_test_split(X,y,test_size=0.2,random_state=0)"
   ]
  },
  {
   "cell_type": "code",
   "execution_count": 24,
   "id": "analyzed-payday",
   "metadata": {},
   "outputs": [
    {
     "data": {
      "text/plain": [
       "array([[-9.3053345e+01,  1.6973488e+01, -1.2441312e+01, ...,\n",
       "        -4.9348080e-01, -2.8408728e+00,  1.2920443e+00],\n",
       "       [-1.5447452e+02,  9.6937759e+01, -5.8436546e+01, ...,\n",
       "         6.6603839e-01,  2.8853959e-01, -1.3032772e-02],\n",
       "       [-7.1077324e+01,  2.6173710e+01, -2.8050709e+00, ...,\n",
       "         3.1510882e+00,  2.2291317e+00, -1.3275179e+00],\n",
       "       ...,\n",
       "       [-4.2665570e+02,  9.1551338e+01,  4.1917033e+00, ...,\n",
       "         9.7439998e-01,  5.1544541e-01,  9.1537476e-01],\n",
       "       [-1.3725197e+02,  1.2426854e+02, -2.1599773e+01, ...,\n",
       "         1.2500863e+00, -1.8957511e+00, -9.0149736e-01],\n",
       "       [-4.1838937e+02,  2.0686234e+02,  7.2346177e+00, ...,\n",
       "        -3.9861214e+00, -4.7178450e+00, -2.7892590e-01]], dtype=float32)"
      ]
     },
     "execution_count": 24,
     "metadata": {},
     "output_type": "execute_result"
    }
   ],
   "source": [
    "X_train"
   ]
  },
  {
   "cell_type": "code",
   "execution_count": 25,
   "id": "female-study",
   "metadata": {},
   "outputs": [
    {
     "data": {
      "text/plain": [
       "array([[0., 0., 0., ..., 0., 0., 0.],\n",
       "       [0., 0., 0., ..., 0., 0., 0.],\n",
       "       [0., 0., 0., ..., 0., 0., 0.],\n",
       "       ...,\n",
       "       [0., 1., 0., ..., 0., 0., 0.],\n",
       "       [0., 1., 0., ..., 0., 0., 0.],\n",
       "       [0., 1., 0., ..., 0., 0., 0.]], dtype=float32)"
      ]
     },
     "execution_count": 25,
     "metadata": {},
     "output_type": "execute_result"
    }
   ],
   "source": [
    "y"
   ]
  },
  {
   "cell_type": "code",
   "execution_count": 26,
   "id": "flexible-lithuania",
   "metadata": {},
   "outputs": [
    {
     "data": {
      "text/plain": [
       "(7013, 40)"
      ]
     },
     "execution_count": 26,
     "metadata": {},
     "output_type": "execute_result"
    }
   ],
   "source": [
    "X_train.shape"
   ]
  },
  {
   "cell_type": "code",
   "execution_count": 27,
   "id": "instrumental-equity",
   "metadata": {},
   "outputs": [
    {
     "data": {
      "text/plain": [
       "(1754, 40)"
      ]
     },
     "execution_count": 27,
     "metadata": {},
     "output_type": "execute_result"
    }
   ],
   "source": [
    "X_test.shape"
   ]
  },
  {
   "cell_type": "code",
   "execution_count": 28,
   "id": "chemical-vermont",
   "metadata": {},
   "outputs": [
    {
     "data": {
      "text/plain": [
       "(7013, 15)"
      ]
     },
     "execution_count": 28,
     "metadata": {},
     "output_type": "execute_result"
    }
   ],
   "source": [
    "y_train.shape"
   ]
  },
  {
   "cell_type": "code",
   "execution_count": 29,
   "id": "governing-natural",
   "metadata": {},
   "outputs": [
    {
     "data": {
      "text/plain": [
       "(1754, 15)"
      ]
     },
     "execution_count": 29,
     "metadata": {},
     "output_type": "execute_result"
    }
   ],
   "source": [
    "y_test.shape"
   ]
  },
  {
   "cell_type": "markdown",
   "id": "express-vessel",
   "metadata": {},
   "source": [
    "### Model Creation"
   ]
  },
  {
   "cell_type": "code",
   "execution_count": 46,
   "id": "loose-portugal",
   "metadata": {},
   "outputs": [
    {
     "name": "stdout",
     "output_type": "stream",
     "text": [
      "2.13.0\n"
     ]
    }
   ],
   "source": [
    "import tensorflow as tf\n",
    "print(tf.__version__)"
   ]
  },
  {
   "cell_type": "code",
   "execution_count": 30,
   "id": "indonesian-accessory",
   "metadata": {},
   "outputs": [],
   "source": [
    "from tensorflow.keras.models import Sequential\n",
    "from tensorflow.keras.layers import Dense,Dropout,Activation,Flatten\n",
    "from tensorflow.keras.optimizers import Adam\n",
    "from sklearn import metrics"
   ]
  },
  {
   "cell_type": "code",
   "execution_count": 31,
   "id": "valuable-substitute",
   "metadata": {},
   "outputs": [],
   "source": [
    "### No of classes\n",
    "num_labels=y.shape[1]"
   ]
  },
  {
   "cell_type": "code",
   "execution_count": 32,
   "id": "choice-contract",
   "metadata": {},
   "outputs": [
    {
     "data": {
      "text/plain": [
       "15"
      ]
     },
     "execution_count": 32,
     "metadata": {},
     "output_type": "execute_result"
    }
   ],
   "source": [
    "num_labels"
   ]
  },
  {
   "cell_type": "markdown",
   "id": "5fb67b37",
   "metadata": {},
   "source": [
    "Grid search cv for best parameters\n",
    "\n",
    "Best Hyperparameters: {'num_hidden_layers': 1, 'units_per_layer': 256, 'learning_rate': 0.001, 'dropout_rate': 0.3}, Best Accuracy: 0.9184720516204834"
   ]
  },
  {
   "cell_type": "code",
   "execution_count": 40,
   "id": "243d2678",
   "metadata": {},
   "outputs": [
    {
     "name": "stdout",
     "output_type": "stream",
     "text": [
      "Testing hyperparameters: num_hidden_layers=1, units_per_layer=64, learning_rate=0.001, dropout_rate=0.3\n"
     ]
    },
    {
     "ename": "KeyboardInterrupt",
     "evalue": "",
     "output_type": "error",
     "traceback": [
      "\u001b[1;31m---------------------------------------------------------------------------\u001b[0m",
      "\u001b[1;31mKeyboardInterrupt\u001b[0m                         Traceback (most recent call last)",
      "\u001b[1;32me:\\Data science\\Audio-Classification-main\\Audio-Classification-main\\Part 2- Audio Classification Data Preprocessing And Model Creation.ipynb Cell 42\u001b[0m line \u001b[0;36m5\n\u001b[0;32m     <a href='vscode-notebook-cell:/e%3A/Data%20science/Audio-Classification-main/Audio-Classification-main/Part%202-%20Audio%20Classification%20Data%20Preprocessing%20And%20Model%20Creation.ipynb#X56sZmlsZQ%3D%3D?line=51'>52</a>\u001b[0m \u001b[39m# Assuming you have X_train, y_train, X_test, y_test defined\u001b[39;00m\n\u001b[0;32m     <a href='vscode-notebook-cell:/e%3A/Data%20science/Audio-Classification-main/Audio-Classification-main/Part%202-%20Audio%20Classification%20Data%20Preprocessing%20And%20Model%20Creation.ipynb#X56sZmlsZQ%3D%3D?line=52'>53</a>\u001b[0m start \u001b[39m=\u001b[39m datetime\u001b[39m.\u001b[39mnow()\n\u001b[1;32m---> <a href='vscode-notebook-cell:/e%3A/Data%20science/Audio-Classification-main/Audio-Classification-main/Part%202-%20Audio%20Classification%20Data%20Preprocessing%20And%20Model%20Creation.ipynb#X56sZmlsZQ%3D%3D?line=53'>54</a>\u001b[0m model\u001b[39m.\u001b[39mfit(X_train, y_train, epochs\u001b[39m=\u001b[39m\u001b[39m100\u001b[39m, batch_size\u001b[39m=\u001b[39m\u001b[39m32\u001b[39m, verbose\u001b[39m=\u001b[39m\u001b[39m0\u001b[39m)\n\u001b[0;32m     <a href='vscode-notebook-cell:/e%3A/Data%20science/Audio-Classification-main/Audio-Classification-main/Part%202-%20Audio%20Classification%20Data%20Preprocessing%20And%20Model%20Creation.ipynb#X56sZmlsZQ%3D%3D?line=54'>55</a>\u001b[0m duration \u001b[39m=\u001b[39m datetime\u001b[39m.\u001b[39mnow() \u001b[39m-\u001b[39m start\n\u001b[0;32m     <a href='vscode-notebook-cell:/e%3A/Data%20science/Audio-Classification-main/Audio-Classification-main/Part%202-%20Audio%20Classification%20Data%20Preprocessing%20And%20Model%20Creation.ipynb#X56sZmlsZQ%3D%3D?line=56'>57</a>\u001b[0m test_loss, test_accuracy \u001b[39m=\u001b[39m model\u001b[39m.\u001b[39mevaluate(X_test, y_test, verbose\u001b[39m=\u001b[39m\u001b[39m0\u001b[39m)\n",
      "File \u001b[1;32mc:\\Users\\Sumit\\anaconda3\\Lib\\site-packages\\keras\\src\\utils\\traceback_utils.py:65\u001b[0m, in \u001b[0;36mfilter_traceback.<locals>.error_handler\u001b[1;34m(*args, **kwargs)\u001b[0m\n\u001b[0;32m     63\u001b[0m filtered_tb \u001b[39m=\u001b[39m \u001b[39mNone\u001b[39;00m\n\u001b[0;32m     64\u001b[0m \u001b[39mtry\u001b[39;00m:\n\u001b[1;32m---> 65\u001b[0m     \u001b[39mreturn\u001b[39;00m fn(\u001b[39m*\u001b[39margs, \u001b[39m*\u001b[39m\u001b[39m*\u001b[39mkwargs)\n\u001b[0;32m     66\u001b[0m \u001b[39mexcept\u001b[39;00m \u001b[39mException\u001b[39;00m \u001b[39mas\u001b[39;00m e:\n\u001b[0;32m     67\u001b[0m     filtered_tb \u001b[39m=\u001b[39m _process_traceback_frames(e\u001b[39m.\u001b[39m__traceback__)\n",
      "File \u001b[1;32mc:\\Users\\Sumit\\anaconda3\\Lib\\site-packages\\keras\\src\\engine\\training.py:1742\u001b[0m, in \u001b[0;36mModel.fit\u001b[1;34m(self, x, y, batch_size, epochs, verbose, callbacks, validation_split, validation_data, shuffle, class_weight, sample_weight, initial_epoch, steps_per_epoch, validation_steps, validation_batch_size, validation_freq, max_queue_size, workers, use_multiprocessing)\u001b[0m\n\u001b[0;32m   1734\u001b[0m \u001b[39mwith\u001b[39;00m tf\u001b[39m.\u001b[39mprofiler\u001b[39m.\u001b[39mexperimental\u001b[39m.\u001b[39mTrace(\n\u001b[0;32m   1735\u001b[0m     \u001b[39m\"\u001b[39m\u001b[39mtrain\u001b[39m\u001b[39m\"\u001b[39m,\n\u001b[0;32m   1736\u001b[0m     epoch_num\u001b[39m=\u001b[39mepoch,\n\u001b[1;32m   (...)\u001b[0m\n\u001b[0;32m   1739\u001b[0m     _r\u001b[39m=\u001b[39m\u001b[39m1\u001b[39m,\n\u001b[0;32m   1740\u001b[0m ):\n\u001b[0;32m   1741\u001b[0m     callbacks\u001b[39m.\u001b[39mon_train_batch_begin(step)\n\u001b[1;32m-> 1742\u001b[0m     tmp_logs \u001b[39m=\u001b[39m \u001b[39mself\u001b[39m\u001b[39m.\u001b[39mtrain_function(iterator)\n\u001b[0;32m   1743\u001b[0m     \u001b[39mif\u001b[39;00m data_handler\u001b[39m.\u001b[39mshould_sync:\n\u001b[0;32m   1744\u001b[0m         context\u001b[39m.\u001b[39masync_wait()\n",
      "File \u001b[1;32mc:\\Users\\Sumit\\anaconda3\\Lib\\site-packages\\tensorflow\\python\\util\\traceback_utils.py:150\u001b[0m, in \u001b[0;36mfilter_traceback.<locals>.error_handler\u001b[1;34m(*args, **kwargs)\u001b[0m\n\u001b[0;32m    148\u001b[0m filtered_tb \u001b[39m=\u001b[39m \u001b[39mNone\u001b[39;00m\n\u001b[0;32m    149\u001b[0m \u001b[39mtry\u001b[39;00m:\n\u001b[1;32m--> 150\u001b[0m   \u001b[39mreturn\u001b[39;00m fn(\u001b[39m*\u001b[39margs, \u001b[39m*\u001b[39m\u001b[39m*\u001b[39mkwargs)\n\u001b[0;32m    151\u001b[0m \u001b[39mexcept\u001b[39;00m \u001b[39mException\u001b[39;00m \u001b[39mas\u001b[39;00m e:\n\u001b[0;32m    152\u001b[0m   filtered_tb \u001b[39m=\u001b[39m _process_traceback_frames(e\u001b[39m.\u001b[39m__traceback__)\n",
      "File \u001b[1;32mc:\\Users\\Sumit\\anaconda3\\Lib\\site-packages\\tensorflow\\python\\eager\\polymorphic_function\\polymorphic_function.py:825\u001b[0m, in \u001b[0;36mFunction.__call__\u001b[1;34m(self, *args, **kwds)\u001b[0m\n\u001b[0;32m    822\u001b[0m compiler \u001b[39m=\u001b[39m \u001b[39m\"\u001b[39m\u001b[39mxla\u001b[39m\u001b[39m\"\u001b[39m \u001b[39mif\u001b[39;00m \u001b[39mself\u001b[39m\u001b[39m.\u001b[39m_jit_compile \u001b[39melse\u001b[39;00m \u001b[39m\"\u001b[39m\u001b[39mnonXla\u001b[39m\u001b[39m\"\u001b[39m\n\u001b[0;32m    824\u001b[0m \u001b[39mwith\u001b[39;00m OptionalXlaContext(\u001b[39mself\u001b[39m\u001b[39m.\u001b[39m_jit_compile):\n\u001b[1;32m--> 825\u001b[0m   result \u001b[39m=\u001b[39m \u001b[39mself\u001b[39m\u001b[39m.\u001b[39m_call(\u001b[39m*\u001b[39margs, \u001b[39m*\u001b[39m\u001b[39m*\u001b[39mkwds)\n\u001b[0;32m    827\u001b[0m new_tracing_count \u001b[39m=\u001b[39m \u001b[39mself\u001b[39m\u001b[39m.\u001b[39mexperimental_get_tracing_count()\n\u001b[0;32m    828\u001b[0m without_tracing \u001b[39m=\u001b[39m (tracing_count \u001b[39m==\u001b[39m new_tracing_count)\n",
      "File \u001b[1;32mc:\\Users\\Sumit\\anaconda3\\Lib\\site-packages\\tensorflow\\python\\eager\\polymorphic_function\\polymorphic_function.py:857\u001b[0m, in \u001b[0;36mFunction._call\u001b[1;34m(self, *args, **kwds)\u001b[0m\n\u001b[0;32m    854\u001b[0m   \u001b[39mself\u001b[39m\u001b[39m.\u001b[39m_lock\u001b[39m.\u001b[39mrelease()\n\u001b[0;32m    855\u001b[0m   \u001b[39m# In this case we have created variables on the first call, so we run the\u001b[39;00m\n\u001b[0;32m    856\u001b[0m   \u001b[39m# defunned version which is guaranteed to never create variables.\u001b[39;00m\n\u001b[1;32m--> 857\u001b[0m   \u001b[39mreturn\u001b[39;00m \u001b[39mself\u001b[39m\u001b[39m.\u001b[39m_no_variable_creation_fn(\u001b[39m*\u001b[39margs, \u001b[39m*\u001b[39m\u001b[39m*\u001b[39mkwds)  \u001b[39m# pylint: disable=not-callable\u001b[39;00m\n\u001b[0;32m    858\u001b[0m \u001b[39melif\u001b[39;00m \u001b[39mself\u001b[39m\u001b[39m.\u001b[39m_variable_creation_fn \u001b[39mis\u001b[39;00m \u001b[39mnot\u001b[39;00m \u001b[39mNone\u001b[39;00m:\n\u001b[0;32m    859\u001b[0m   \u001b[39m# Release the lock early so that multiple threads can perform the call\u001b[39;00m\n\u001b[0;32m    860\u001b[0m   \u001b[39m# in parallel.\u001b[39;00m\n\u001b[0;32m    861\u001b[0m   \u001b[39mself\u001b[39m\u001b[39m.\u001b[39m_lock\u001b[39m.\u001b[39mrelease()\n",
      "File \u001b[1;32mc:\\Users\\Sumit\\anaconda3\\Lib\\site-packages\\tensorflow\\python\\eager\\polymorphic_function\\tracing_compiler.py:148\u001b[0m, in \u001b[0;36mTracingCompiler.__call__\u001b[1;34m(self, *args, **kwargs)\u001b[0m\n\u001b[0;32m    145\u001b[0m \u001b[39mwith\u001b[39;00m \u001b[39mself\u001b[39m\u001b[39m.\u001b[39m_lock:\n\u001b[0;32m    146\u001b[0m   (concrete_function,\n\u001b[0;32m    147\u001b[0m    filtered_flat_args) \u001b[39m=\u001b[39m \u001b[39mself\u001b[39m\u001b[39m.\u001b[39m_maybe_define_function(args, kwargs)\n\u001b[1;32m--> 148\u001b[0m \u001b[39mreturn\u001b[39;00m concrete_function\u001b[39m.\u001b[39m_call_flat(\n\u001b[0;32m    149\u001b[0m     filtered_flat_args, captured_inputs\u001b[39m=\u001b[39mconcrete_function\u001b[39m.\u001b[39mcaptured_inputs)\n",
      "File \u001b[1;32mc:\\Users\\Sumit\\anaconda3\\Lib\\site-packages\\tensorflow\\python\\eager\\polymorphic_function\\monomorphic_function.py:1349\u001b[0m, in \u001b[0;36mConcreteFunction._call_flat\u001b[1;34m(self, args, captured_inputs)\u001b[0m\n\u001b[0;32m   1345\u001b[0m possible_gradient_type \u001b[39m=\u001b[39m gradients_util\u001b[39m.\u001b[39mPossibleTapeGradientTypes(args)\n\u001b[0;32m   1346\u001b[0m \u001b[39mif\u001b[39;00m (possible_gradient_type \u001b[39m==\u001b[39m gradients_util\u001b[39m.\u001b[39mPOSSIBLE_GRADIENT_TYPES_NONE\n\u001b[0;32m   1347\u001b[0m     \u001b[39mand\u001b[39;00m executing_eagerly):\n\u001b[0;32m   1348\u001b[0m   \u001b[39m# No tape is watching; skip to running the function.\u001b[39;00m\n\u001b[1;32m-> 1349\u001b[0m   \u001b[39mreturn\u001b[39;00m \u001b[39mself\u001b[39m\u001b[39m.\u001b[39m_build_call_outputs(\u001b[39mself\u001b[39m\u001b[39m.\u001b[39m_inference_function(\u001b[39m*\u001b[39margs))\n\u001b[0;32m   1350\u001b[0m forward_backward \u001b[39m=\u001b[39m \u001b[39mself\u001b[39m\u001b[39m.\u001b[39m_select_forward_and_backward_functions(\n\u001b[0;32m   1351\u001b[0m     args,\n\u001b[0;32m   1352\u001b[0m     possible_gradient_type,\n\u001b[0;32m   1353\u001b[0m     executing_eagerly)\n\u001b[0;32m   1354\u001b[0m forward_function, args_with_tangents \u001b[39m=\u001b[39m forward_backward\u001b[39m.\u001b[39mforward()\n",
      "File \u001b[1;32mc:\\Users\\Sumit\\anaconda3\\Lib\\site-packages\\tensorflow\\python\\eager\\polymorphic_function\\atomic_function.py:196\u001b[0m, in \u001b[0;36mAtomicFunction.__call__\u001b[1;34m(self, *args)\u001b[0m\n\u001b[0;32m    194\u001b[0m \u001b[39mwith\u001b[39;00m record\u001b[39m.\u001b[39mstop_recording():\n\u001b[0;32m    195\u001b[0m   \u001b[39mif\u001b[39;00m \u001b[39mself\u001b[39m\u001b[39m.\u001b[39m_bound_context\u001b[39m.\u001b[39mexecuting_eagerly():\n\u001b[1;32m--> 196\u001b[0m     outputs \u001b[39m=\u001b[39m \u001b[39mself\u001b[39m\u001b[39m.\u001b[39m_bound_context\u001b[39m.\u001b[39mcall_function(\n\u001b[0;32m    197\u001b[0m         \u001b[39mself\u001b[39m\u001b[39m.\u001b[39mname,\n\u001b[0;32m    198\u001b[0m         \u001b[39mlist\u001b[39m(args),\n\u001b[0;32m    199\u001b[0m         \u001b[39mlen\u001b[39m(\u001b[39mself\u001b[39m\u001b[39m.\u001b[39mfunction_type\u001b[39m.\u001b[39mflat_outputs),\n\u001b[0;32m    200\u001b[0m     )\n\u001b[0;32m    201\u001b[0m   \u001b[39melse\u001b[39;00m:\n\u001b[0;32m    202\u001b[0m     outputs \u001b[39m=\u001b[39m make_call_op_in_graph(\u001b[39mself\u001b[39m, \u001b[39mlist\u001b[39m(args))\n",
      "File \u001b[1;32mc:\\Users\\Sumit\\anaconda3\\Lib\\site-packages\\tensorflow\\python\\eager\\context.py:1457\u001b[0m, in \u001b[0;36mContext.call_function\u001b[1;34m(self, name, tensor_inputs, num_outputs)\u001b[0m\n\u001b[0;32m   1455\u001b[0m cancellation_context \u001b[39m=\u001b[39m cancellation\u001b[39m.\u001b[39mcontext()\n\u001b[0;32m   1456\u001b[0m \u001b[39mif\u001b[39;00m cancellation_context \u001b[39mis\u001b[39;00m \u001b[39mNone\u001b[39;00m:\n\u001b[1;32m-> 1457\u001b[0m   outputs \u001b[39m=\u001b[39m execute\u001b[39m.\u001b[39mexecute(\n\u001b[0;32m   1458\u001b[0m       name\u001b[39m.\u001b[39mdecode(\u001b[39m\"\u001b[39m\u001b[39mutf-8\u001b[39m\u001b[39m\"\u001b[39m),\n\u001b[0;32m   1459\u001b[0m       num_outputs\u001b[39m=\u001b[39mnum_outputs,\n\u001b[0;32m   1460\u001b[0m       inputs\u001b[39m=\u001b[39mtensor_inputs,\n\u001b[0;32m   1461\u001b[0m       attrs\u001b[39m=\u001b[39mattrs,\n\u001b[0;32m   1462\u001b[0m       ctx\u001b[39m=\u001b[39m\u001b[39mself\u001b[39m,\n\u001b[0;32m   1463\u001b[0m   )\n\u001b[0;32m   1464\u001b[0m \u001b[39melse\u001b[39;00m:\n\u001b[0;32m   1465\u001b[0m   outputs \u001b[39m=\u001b[39m execute\u001b[39m.\u001b[39mexecute_with_cancellation(\n\u001b[0;32m   1466\u001b[0m       name\u001b[39m.\u001b[39mdecode(\u001b[39m\"\u001b[39m\u001b[39mutf-8\u001b[39m\u001b[39m\"\u001b[39m),\n\u001b[0;32m   1467\u001b[0m       num_outputs\u001b[39m=\u001b[39mnum_outputs,\n\u001b[1;32m   (...)\u001b[0m\n\u001b[0;32m   1471\u001b[0m       cancellation_manager\u001b[39m=\u001b[39mcancellation_context,\n\u001b[0;32m   1472\u001b[0m   )\n",
      "File \u001b[1;32mc:\\Users\\Sumit\\anaconda3\\Lib\\site-packages\\tensorflow\\python\\eager\\execute.py:53\u001b[0m, in \u001b[0;36mquick_execute\u001b[1;34m(op_name, num_outputs, inputs, attrs, ctx, name)\u001b[0m\n\u001b[0;32m     51\u001b[0m \u001b[39mtry\u001b[39;00m:\n\u001b[0;32m     52\u001b[0m   ctx\u001b[39m.\u001b[39mensure_initialized()\n\u001b[1;32m---> 53\u001b[0m   tensors \u001b[39m=\u001b[39m pywrap_tfe\u001b[39m.\u001b[39mTFE_Py_Execute(ctx\u001b[39m.\u001b[39m_handle, device_name, op_name,\n\u001b[0;32m     54\u001b[0m                                       inputs, attrs, num_outputs)\n\u001b[0;32m     55\u001b[0m \u001b[39mexcept\u001b[39;00m core\u001b[39m.\u001b[39m_NotOkStatusException \u001b[39mas\u001b[39;00m e:\n\u001b[0;32m     56\u001b[0m   \u001b[39mif\u001b[39;00m name \u001b[39mis\u001b[39;00m \u001b[39mnot\u001b[39;00m \u001b[39mNone\u001b[39;00m:\n",
      "\u001b[1;31mKeyboardInterrupt\u001b[0m: "
     ]
    }
   ],
   "source": [
    "from tensorflow.keras.models import Sequential\n",
    "from tensorflow.keras.layers import Dense, Activation, Dropout\n",
    "from tensorflow.keras.optimizers import Adam\n",
    "from datetime import datetime\n",
    "\n",
    "# Define a function to create and compile the model\n",
    "def create_model(num_hidden_layers, units_per_layer, learning_rate, dropout_rate):\n",
    "    model = Sequential()\n",
    "    \n",
    "    # Add input layer\n",
    "    model.add(Dense(units_per_layer, input_shape=(40,)))\n",
    "    model.add(Activation('relu'))\n",
    "    model.add(Dropout(dropout_rate))\n",
    "    \n",
    "    # Add hidden layers\n",
    "    for _ in range(num_hidden_layers):\n",
    "        model.add(Dense(units_per_layer))\n",
    "        model.add(Activation('relu'))\n",
    "        model.add(Dropout(dropout_rate))\n",
    "    \n",
    "    # Add output layer\n",
    "    model.add(Dense(num_labels))\n",
    "    model.add(Activation('softmax'))\n",
    "    \n",
    "    # Compile the model with custom learning rate\n",
    "    optimizer = Adam(learning_rate=learning_rate)\n",
    "    model.compile(loss='categorical_crossentropy', metrics=['accuracy'], optimizer=optimizer)\n",
    "    \n",
    "    return model\n",
    "\n",
    "# Define hyperparameters to search over\n",
    "param_grid = {\n",
    "    'num_hidden_layers': [1, 2, 3],\n",
    "    'units_per_layer': [64, 128, 256],\n",
    "    'learning_rate': [0.001, 0.01, 0.1],\n",
    "    'dropout_rate': [0.3, 0.5, 0.7]\n",
    "}\n",
    "\n",
    "# Assuming X_train, y_train, X_test, y_test are defined\n",
    "\n",
    "best_accuracy = 0\n",
    "best_hyperparameters = None\n",
    "\n",
    "for num_hidden_layers in param_grid['num_hidden_layers']:\n",
    "    for units_per_layer in param_grid['units_per_layer']:\n",
    "        for learning_rate in param_grid['learning_rate']:\n",
    "            for dropout_rate in param_grid['dropout_rate']:\n",
    "                print(f\"Testing hyperparameters: num_hidden_layers={num_hidden_layers}, units_per_layer={units_per_layer}, learning_rate={learning_rate}, dropout_rate={dropout_rate}\")\n",
    "                \n",
    "                model = create_model(num_hidden_layers, units_per_layer, learning_rate, dropout_rate)\n",
    "                \n",
    "                # Assuming you have X_train, y_train, X_test, y_test defined\n",
    "                start = datetime.now()\n",
    "                model.fit(X_train, y_train, epochs=100, batch_size=32, verbose=0)\n",
    "                duration = datetime.now() - start\n",
    "                \n",
    "                test_loss, test_accuracy = model.evaluate(X_test, y_test, verbose=0)\n",
    "                \n",
    "                print(f\"Test Accuracy: {test_accuracy}, Time: {duration}\")\n",
    "                \n",
    "                if test_accuracy > best_accuracy:\n",
    "                    best_accuracy = test_accuracy\n",
    "                    best_hyperparameters = {\n",
    "                        'num_hidden_layers': num_hidden_layers,\n",
    "                        'units_per_layer': units_per_layer,\n",
    "                        'learning_rate': learning_rate,\n",
    "                        'dropout_rate': dropout_rate\n",
    "                    }\n",
    "\n",
    "print(f\"Best Hyperparameters: {best_hyperparameters}, Best Accuracy: {best_accuracy}\")\n"
   ]
  },
  {
   "cell_type": "markdown",
   "id": "819fb910",
   "metadata": {},
   "source": [
    "model building "
   ]
  },
  {
   "cell_type": "code",
   "execution_count": 33,
   "id": "b0c12c18",
   "metadata": {},
   "outputs": [
    {
     "name": "stdout",
     "output_type": "stream",
     "text": [
      "Epoch 1/100\n",
      "209/220 [===========================>..] - ETA: 0s - loss: 5.0999 - accuracy: 0.2597\n",
      "Epoch 1: val_loss improved from inf to 2.02911, saving model to model\\audio_classification.hdf5\n",
      "220/220 [==============================] - 2s 6ms/step - loss: 4.9621 - accuracy: 0.2615 - val_loss: 2.0291 - val_accuracy: 0.3632\n",
      "Epoch 2/100\n",
      "211/220 [===========================>..] - ETA: 0s - loss: 1.8980 - accuracy: 0.3655\n",
      "Epoch 2: val_loss improved from 2.02911 to 1.60438, saving model to model\\audio_classification.hdf5\n",
      "220/220 [==============================] - 1s 5ms/step - loss: 1.8946 - accuracy: 0.3675 - val_loss: 1.6044 - val_accuracy: 0.4675\n",
      "Epoch 3/100\n",
      "218/220 [============================>.] - ETA: 0s - loss: 1.6304 - accuracy: 0.4464\n",
      "Epoch 3: val_loss improved from 1.60438 to 1.32329, saving model to model\\audio_classification.hdf5\n",
      "220/220 [==============================] - 1s 4ms/step - loss: 1.6297 - accuracy: 0.4465 - val_loss: 1.3233 - val_accuracy: 0.5696\n",
      "Epoch 4/100\n",
      "215/220 [============================>.] - ETA: 0s - loss: 1.4227 - accuracy: 0.5193\n",
      "Epoch 4: val_loss improved from 1.32329 to 1.18303, saving model to model\\audio_classification.hdf5\n",
      "220/220 [==============================] - 1s 4ms/step - loss: 1.4228 - accuracy: 0.5196 - val_loss: 1.1830 - val_accuracy: 0.6174\n",
      "Epoch 5/100\n",
      "209/220 [===========================>..] - ETA: 0s - loss: 1.2967 - accuracy: 0.5677\n",
      "Epoch 5: val_loss improved from 1.18303 to 1.05475, saving model to model\\audio_classification.hdf5\n",
      "220/220 [==============================] - 1s 5ms/step - loss: 1.2944 - accuracy: 0.5699 - val_loss: 1.0548 - val_accuracy: 0.6631\n",
      "Epoch 6/100\n",
      "207/220 [===========================>..] - ETA: 0s - loss: 1.1513 - accuracy: 0.6099\n",
      "Epoch 6: val_loss improved from 1.05475 to 0.98464, saving model to model\\audio_classification.hdf5\n",
      "220/220 [==============================] - 1s 4ms/step - loss: 1.1530 - accuracy: 0.6109 - val_loss: 0.9846 - val_accuracy: 0.6921\n",
      "Epoch 7/100\n",
      "216/220 [============================>.] - ETA: 0s - loss: 1.0550 - accuracy: 0.6431\n",
      "Epoch 7: val_loss improved from 0.98464 to 0.88619, saving model to model\\audio_classification.hdf5\n",
      "220/220 [==============================] - 1s 5ms/step - loss: 1.0552 - accuracy: 0.6422 - val_loss: 0.8862 - val_accuracy: 0.7246\n",
      "Epoch 8/100\n",
      "215/220 [============================>.] - ETA: 0s - loss: 0.9787 - accuracy: 0.6765\n",
      "Epoch 8: val_loss improved from 0.88619 to 0.80184, saving model to model\\audio_classification.hdf5\n",
      "220/220 [==============================] - 1s 5ms/step - loss: 0.9814 - accuracy: 0.6747 - val_loss: 0.8018 - val_accuracy: 0.7474\n",
      "Epoch 9/100\n",
      "213/220 [============================>.] - ETA: 0s - loss: 0.9090 - accuracy: 0.7001\n",
      "Epoch 9: val_loss improved from 0.80184 to 0.77695, saving model to model\\audio_classification.hdf5\n",
      "220/220 [==============================] - 1s 5ms/step - loss: 0.9044 - accuracy: 0.7018 - val_loss: 0.7769 - val_accuracy: 0.7583\n",
      "Epoch 10/100\n",
      "210/220 [===========================>..] - ETA: 0s - loss: 0.8549 - accuracy: 0.7086\n",
      "Epoch 10: val_loss improved from 0.77695 to 0.70733, saving model to model\\audio_classification.hdf5\n",
      "220/220 [==============================] - 1s 5ms/step - loss: 0.8556 - accuracy: 0.7088 - val_loss: 0.7073 - val_accuracy: 0.7930\n",
      "Epoch 11/100\n",
      "217/220 [============================>.] - ETA: 0s - loss: 0.7901 - accuracy: 0.7342\n",
      "Epoch 11: val_loss improved from 0.70733 to 0.63421, saving model to model\\audio_classification.hdf5\n",
      "220/220 [==============================] - 1s 5ms/step - loss: 0.7899 - accuracy: 0.7338 - val_loss: 0.6342 - val_accuracy: 0.8124\n",
      "Epoch 12/100\n",
      "207/220 [===========================>..] - ETA: 0s - loss: 0.7391 - accuracy: 0.7545\n",
      "Epoch 12: val_loss did not improve from 0.63421\n",
      "220/220 [==============================] - 1s 4ms/step - loss: 0.7416 - accuracy: 0.7529 - val_loss: 0.6450 - val_accuracy: 0.8056\n",
      "Epoch 13/100\n",
      "209/220 [===========================>..] - ETA: 0s - loss: 0.7152 - accuracy: 0.7528\n",
      "Epoch 13: val_loss improved from 0.63421 to 0.57941, saving model to model\\audio_classification.hdf5\n",
      "220/220 [==============================] - 1s 4ms/step - loss: 0.7134 - accuracy: 0.7539 - val_loss: 0.5794 - val_accuracy: 0.8176\n",
      "Epoch 14/100\n",
      "206/220 [===========================>..] - ETA: 0s - loss: 0.6578 - accuracy: 0.7718\n",
      "Epoch 14: val_loss did not improve from 0.57941\n",
      "220/220 [==============================] - 1s 4ms/step - loss: 0.6585 - accuracy: 0.7720 - val_loss: 0.5795 - val_accuracy: 0.8153\n",
      "Epoch 15/100\n",
      "211/220 [===========================>..] - ETA: 0s - loss: 0.6394 - accuracy: 0.7842\n",
      "Epoch 15: val_loss improved from 0.57941 to 0.53518, saving model to model\\audio_classification.hdf5\n",
      "220/220 [==============================] - 1s 4ms/step - loss: 0.6396 - accuracy: 0.7838 - val_loss: 0.5352 - val_accuracy: 0.8347\n",
      "Epoch 16/100\n",
      "210/220 [===========================>..] - ETA: 0s - loss: 0.5969 - accuracy: 0.7991\n",
      "Epoch 16: val_loss improved from 0.53518 to 0.50649, saving model to model\\audio_classification.hdf5\n",
      "220/220 [==============================] - 1s 4ms/step - loss: 0.6017 - accuracy: 0.7975 - val_loss: 0.5065 - val_accuracy: 0.8392\n",
      "Epoch 17/100\n",
      "219/220 [============================>.] - ETA: 0s - loss: 0.5824 - accuracy: 0.8027\n",
      "Epoch 17: val_loss improved from 0.50649 to 0.49756, saving model to model\\audio_classification.hdf5\n",
      "220/220 [==============================] - 1s 4ms/step - loss: 0.5828 - accuracy: 0.8025 - val_loss: 0.4976 - val_accuracy: 0.8495\n",
      "Epoch 18/100\n",
      "218/220 [============================>.] - ETA: 0s - loss: 0.5583 - accuracy: 0.8115\n",
      "Epoch 18: val_loss improved from 0.49756 to 0.45400, saving model to model\\audio_classification.hdf5\n",
      "220/220 [==============================] - 1s 4ms/step - loss: 0.5568 - accuracy: 0.8118 - val_loss: 0.4540 - val_accuracy: 0.8529\n",
      "Epoch 19/100\n",
      "210/220 [===========================>..] - ETA: 0s - loss: 0.5258 - accuracy: 0.8210\n",
      "Epoch 19: val_loss did not improve from 0.45400\n",
      "220/220 [==============================] - 1s 4ms/step - loss: 0.5249 - accuracy: 0.8209 - val_loss: 0.4610 - val_accuracy: 0.8546\n",
      "Epoch 20/100\n",
      "214/220 [============================>.] - ETA: 0s - loss: 0.5163 - accuracy: 0.8213\n",
      "Epoch 20: val_loss improved from 0.45400 to 0.43809, saving model to model\\audio_classification.hdf5\n",
      "220/220 [==============================] - 1s 4ms/step - loss: 0.5144 - accuracy: 0.8215 - val_loss: 0.4381 - val_accuracy: 0.8655\n",
      "Epoch 21/100\n",
      "217/220 [============================>.] - ETA: 0s - loss: 0.5001 - accuracy: 0.8327\n",
      "Epoch 21: val_loss did not improve from 0.43809\n",
      "220/220 [==============================] - 1s 5ms/step - loss: 0.4985 - accuracy: 0.8329 - val_loss: 0.4479 - val_accuracy: 0.8540\n",
      "Epoch 22/100\n",
      "218/220 [============================>.] - ETA: 0s - loss: 0.4822 - accuracy: 0.8343\n",
      "Epoch 22: val_loss improved from 0.43809 to 0.43746, saving model to model\\audio_classification.hdf5\n",
      "220/220 [==============================] - 1s 4ms/step - loss: 0.4820 - accuracy: 0.8343 - val_loss: 0.4375 - val_accuracy: 0.8746\n",
      "Epoch 23/100\n",
      "212/220 [===========================>..] - ETA: 0s - loss: 0.4830 - accuracy: 0.8374\n",
      "Epoch 23: val_loss improved from 0.43746 to 0.40179, saving model to model\\audio_classification.hdf5\n",
      "220/220 [==============================] - 1s 4ms/step - loss: 0.4821 - accuracy: 0.8376 - val_loss: 0.4018 - val_accuracy: 0.8774\n",
      "Epoch 24/100\n",
      "216/220 [============================>.] - ETA: 0s - loss: 0.4441 - accuracy: 0.8477\n",
      "Epoch 24: val_loss did not improve from 0.40179\n",
      "220/220 [==============================] - 1s 4ms/step - loss: 0.4410 - accuracy: 0.8486 - val_loss: 0.4269 - val_accuracy: 0.8700\n",
      "Epoch 25/100\n",
      "220/220 [==============================] - ETA: 0s - loss: 0.4450 - accuracy: 0.8508\n",
      "Epoch 25: val_loss improved from 0.40179 to 0.39015, saving model to model\\audio_classification.hdf5\n",
      "220/220 [==============================] - 1s 5ms/step - loss: 0.4450 - accuracy: 0.8508 - val_loss: 0.3902 - val_accuracy: 0.8814\n",
      "Epoch 26/100\n",
      "217/220 [============================>.] - ETA: 0s - loss: 0.4290 - accuracy: 0.8505\n",
      "Epoch 26: val_loss improved from 0.39015 to 0.37464, saving model to model\\audio_classification.hdf5\n",
      "220/220 [==============================] - 1s 5ms/step - loss: 0.4328 - accuracy: 0.8503 - val_loss: 0.3746 - val_accuracy: 0.8888\n",
      "Epoch 27/100\n",
      "213/220 [============================>.] - ETA: 0s - loss: 0.4152 - accuracy: 0.8534\n",
      "Epoch 27: val_loss did not improve from 0.37464\n",
      "220/220 [==============================] - 1s 4ms/step - loss: 0.4155 - accuracy: 0.8541 - val_loss: 0.3785 - val_accuracy: 0.8848\n",
      "Epoch 28/100\n",
      "217/220 [============================>.] - ETA: 0s - loss: 0.3946 - accuracy: 0.8599\n",
      "Epoch 28: val_loss did not improve from 0.37464\n",
      "220/220 [==============================] - 1s 4ms/step - loss: 0.3963 - accuracy: 0.8598 - val_loss: 0.3813 - val_accuracy: 0.8814\n",
      "Epoch 29/100\n",
      "208/220 [===========================>..] - ETA: 0s - loss: 0.3929 - accuracy: 0.8657\n",
      "Epoch 29: val_loss improved from 0.37464 to 0.37019, saving model to model\\audio_classification.hdf5\n",
      "220/220 [==============================] - 1s 5ms/step - loss: 0.3903 - accuracy: 0.8670 - val_loss: 0.3702 - val_accuracy: 0.8848\n",
      "Epoch 30/100\n",
      "209/220 [===========================>..] - ETA: 0s - loss: 0.3783 - accuracy: 0.8684\n",
      "Epoch 30: val_loss improved from 0.37019 to 0.34599, saving model to model\\audio_classification.hdf5\n",
      "220/220 [==============================] - 1s 4ms/step - loss: 0.3774 - accuracy: 0.8682 - val_loss: 0.3460 - val_accuracy: 0.8905\n",
      "Epoch 31/100\n",
      "217/220 [============================>.] - ETA: 0s - loss: 0.3654 - accuracy: 0.8701\n",
      "Epoch 31: val_loss did not improve from 0.34599\n",
      "220/220 [==============================] - 1s 4ms/step - loss: 0.3653 - accuracy: 0.8698 - val_loss: 0.3691 - val_accuracy: 0.8826\n",
      "Epoch 32/100\n",
      "206/220 [===========================>..] - ETA: 0s - loss: 0.3734 - accuracy: 0.8736\n",
      "Epoch 32: val_loss improved from 0.34599 to 0.34122, saving model to model\\audio_classification.hdf5\n",
      "220/220 [==============================] - 1s 4ms/step - loss: 0.3753 - accuracy: 0.8724 - val_loss: 0.3412 - val_accuracy: 0.8922\n",
      "Epoch 33/100\n",
      "211/220 [===========================>..] - ETA: 0s - loss: 0.3751 - accuracy: 0.8732\n",
      "Epoch 33: val_loss did not improve from 0.34122\n",
      "220/220 [==============================] - 1s 4ms/step - loss: 0.3724 - accuracy: 0.8741 - val_loss: 0.3507 - val_accuracy: 0.8888\n",
      "Epoch 34/100\n",
      "212/220 [===========================>..] - ETA: 0s - loss: 0.3387 - accuracy: 0.8809\n",
      "Epoch 34: val_loss did not improve from 0.34122\n",
      "220/220 [==============================] - 1s 4ms/step - loss: 0.3390 - accuracy: 0.8816 - val_loss: 0.3486 - val_accuracy: 0.9042\n",
      "Epoch 35/100\n",
      "212/220 [===========================>..] - ETA: 0s - loss: 0.3348 - accuracy: 0.8862\n",
      "Epoch 35: val_loss improved from 0.34122 to 0.33543, saving model to model\\audio_classification.hdf5\n",
      "220/220 [==============================] - 1s 4ms/step - loss: 0.3339 - accuracy: 0.8856 - val_loss: 0.3354 - val_accuracy: 0.9025\n",
      "Epoch 36/100\n",
      "217/220 [============================>.] - ETA: 0s - loss: 0.3242 - accuracy: 0.8934\n",
      "Epoch 36: val_loss improved from 0.33543 to 0.33530, saving model to model\\audio_classification.hdf5\n",
      "220/220 [==============================] - 1s 4ms/step - loss: 0.3243 - accuracy: 0.8933 - val_loss: 0.3353 - val_accuracy: 0.8957\n",
      "Epoch 37/100\n",
      "210/220 [===========================>..] - ETA: 0s - loss: 0.3301 - accuracy: 0.8842\n",
      "Epoch 37: val_loss did not improve from 0.33530\n",
      "220/220 [==============================] - 1s 4ms/step - loss: 0.3300 - accuracy: 0.8836 - val_loss: 0.3353 - val_accuracy: 0.8951\n",
      "Epoch 38/100\n",
      "213/220 [============================>.] - ETA: 0s - loss: 0.3305 - accuracy: 0.8881\n",
      "Epoch 38: val_loss improved from 0.33530 to 0.30418, saving model to model\\audio_classification.hdf5\n",
      "220/220 [==============================] - 1s 4ms/step - loss: 0.3320 - accuracy: 0.8879 - val_loss: 0.3042 - val_accuracy: 0.9048\n",
      "Epoch 39/100\n",
      "219/220 [============================>.] - ETA: 0s - loss: 0.3021 - accuracy: 0.8960\n",
      "Epoch 39: val_loss did not improve from 0.30418\n",
      "220/220 [==============================] - 1s 4ms/step - loss: 0.3019 - accuracy: 0.8961 - val_loss: 0.3354 - val_accuracy: 0.9059\n",
      "Epoch 40/100\n",
      "215/220 [============================>.] - ETA: 0s - loss: 0.3140 - accuracy: 0.8958\n",
      "Epoch 40: val_loss did not improve from 0.30418\n",
      "220/220 [==============================] - 1s 4ms/step - loss: 0.3138 - accuracy: 0.8955 - val_loss: 0.3274 - val_accuracy: 0.8997\n",
      "Epoch 41/100\n",
      "211/220 [===========================>..] - ETA: 0s - loss: 0.3017 - accuracy: 0.8985\n",
      "Epoch 41: val_loss did not improve from 0.30418\n",
      "220/220 [==============================] - 1s 5ms/step - loss: 0.3033 - accuracy: 0.8980 - val_loss: 0.3223 - val_accuracy: 0.9088\n",
      "Epoch 42/100\n",
      "213/220 [============================>.] - ETA: 0s - loss: 0.2950 - accuracy: 0.8973\n",
      "Epoch 42: val_loss did not improve from 0.30418\n",
      "220/220 [==============================] - 1s 4ms/step - loss: 0.2947 - accuracy: 0.8980 - val_loss: 0.3270 - val_accuracy: 0.9059\n",
      "Epoch 43/100\n",
      "213/220 [============================>.] - ETA: 0s - loss: 0.2918 - accuracy: 0.8961\n",
      "Epoch 43: val_loss did not improve from 0.30418\n",
      "220/220 [==============================] - 1s 4ms/step - loss: 0.2930 - accuracy: 0.8956 - val_loss: 0.3186 - val_accuracy: 0.9071\n",
      "Epoch 44/100\n",
      "217/220 [============================>.] - ETA: 0s - loss: 0.2903 - accuracy: 0.9003\n",
      "Epoch 44: val_loss did not improve from 0.30418\n",
      "220/220 [==============================] - 1s 4ms/step - loss: 0.2908 - accuracy: 0.9002 - val_loss: 0.3104 - val_accuracy: 0.9122\n",
      "Epoch 45/100\n",
      "209/220 [===========================>..] - ETA: 0s - loss: 0.2919 - accuracy: 0.9022\n",
      "Epoch 45: val_loss improved from 0.30418 to 0.29250, saving model to model\\audio_classification.hdf5\n",
      "220/220 [==============================] - 1s 5ms/step - loss: 0.2938 - accuracy: 0.9022 - val_loss: 0.2925 - val_accuracy: 0.9116\n",
      "Epoch 46/100\n",
      "217/220 [============================>.] - ETA: 0s - loss: 0.3025 - accuracy: 0.8973\n",
      "Epoch 46: val_loss improved from 0.29250 to 0.29039, saving model to model\\audio_classification.hdf5\n",
      "220/220 [==============================] - 1s 4ms/step - loss: 0.3015 - accuracy: 0.8975 - val_loss: 0.2904 - val_accuracy: 0.9088\n",
      "Epoch 47/100\n",
      "215/220 [============================>.] - ETA: 0s - loss: 0.3049 - accuracy: 0.8971\n",
      "Epoch 47: val_loss did not improve from 0.29039\n",
      "220/220 [==============================] - 1s 4ms/step - loss: 0.3044 - accuracy: 0.8973 - val_loss: 0.3179 - val_accuracy: 0.9071\n",
      "Epoch 48/100\n",
      "218/220 [============================>.] - ETA: 0s - loss: 0.2664 - accuracy: 0.9077\n",
      "Epoch 48: val_loss did not improve from 0.29039\n",
      "220/220 [==============================] - 1s 4ms/step - loss: 0.2658 - accuracy: 0.9079 - val_loss: 0.2959 - val_accuracy: 0.9094\n",
      "Epoch 49/100\n",
      "209/220 [===========================>..] - ETA: 0s - loss: 0.2861 - accuracy: 0.9015\n",
      "Epoch 49: val_loss improved from 0.29039 to 0.28598, saving model to model\\audio_classification.hdf5\n",
      "220/220 [==============================] - 1s 6ms/step - loss: 0.2850 - accuracy: 0.9023 - val_loss: 0.2860 - val_accuracy: 0.9105\n",
      "Epoch 50/100\n",
      "206/220 [===========================>..] - ETA: 0s - loss: 0.2667 - accuracy: 0.9113\n",
      "Epoch 50: val_loss did not improve from 0.28598\n",
      "220/220 [==============================] - 1s 4ms/step - loss: 0.2675 - accuracy: 0.9119 - val_loss: 0.3154 - val_accuracy: 0.9036\n",
      "Epoch 51/100\n",
      "217/220 [============================>.] - ETA: 0s - loss: 0.2760 - accuracy: 0.9039\n",
      "Epoch 51: val_loss did not improve from 0.28598\n",
      "220/220 [==============================] - 1s 4ms/step - loss: 0.2772 - accuracy: 0.9036 - val_loss: 0.3035 - val_accuracy: 0.9139\n",
      "Epoch 52/100\n",
      "219/220 [============================>.] - ETA: 0s - loss: 0.2813 - accuracy: 0.9038\n",
      "Epoch 52: val_loss did not improve from 0.28598\n",
      "220/220 [==============================] - 1s 4ms/step - loss: 0.2816 - accuracy: 0.9038 - val_loss: 0.2912 - val_accuracy: 0.9196\n",
      "Epoch 53/100\n",
      "215/220 [============================>.] - ETA: 0s - loss: 0.2615 - accuracy: 0.9106\n",
      "Epoch 53: val_loss improved from 0.28598 to 0.28254, saving model to model\\audio_classification.hdf5\n",
      "220/220 [==============================] - 1s 4ms/step - loss: 0.2620 - accuracy: 0.9107 - val_loss: 0.2825 - val_accuracy: 0.9247\n",
      "Epoch 54/100\n",
      "210/220 [===========================>..] - ETA: 0s - loss: 0.2644 - accuracy: 0.9088\n",
      "Epoch 54: val_loss did not improve from 0.28254\n",
      "220/220 [==============================] - 1s 4ms/step - loss: 0.2632 - accuracy: 0.9087 - val_loss: 0.2988 - val_accuracy: 0.9128\n",
      "Epoch 55/100\n",
      "217/220 [============================>.] - ETA: 0s - loss: 0.2521 - accuracy: 0.9162\n",
      "Epoch 55: val_loss did not improve from 0.28254\n",
      "220/220 [==============================] - 1s 4ms/step - loss: 0.2527 - accuracy: 0.9157 - val_loss: 0.2873 - val_accuracy: 0.9122\n",
      "Epoch 56/100\n",
      "206/220 [===========================>..] - ETA: 0s - loss: 0.2483 - accuracy: 0.9155\n",
      "Epoch 56: val_loss did not improve from 0.28254\n",
      "220/220 [==============================] - 1s 4ms/step - loss: 0.2524 - accuracy: 0.9144 - val_loss: 0.3039 - val_accuracy: 0.9133\n",
      "Epoch 57/100\n",
      "208/220 [===========================>..] - ETA: 0s - loss: 0.2496 - accuracy: 0.9190\n",
      "Epoch 57: val_loss did not improve from 0.28254\n",
      "220/220 [==============================] - 1s 4ms/step - loss: 0.2523 - accuracy: 0.9169 - val_loss: 0.2908 - val_accuracy: 0.9202\n",
      "Epoch 58/100\n",
      "220/220 [==============================] - ETA: 0s - loss: 0.2719 - accuracy: 0.9087\n",
      "Epoch 58: val_loss did not improve from 0.28254\n",
      "220/220 [==============================] - 1s 4ms/step - loss: 0.2719 - accuracy: 0.9087 - val_loss: 0.2931 - val_accuracy: 0.9213\n",
      "Epoch 59/100\n",
      "216/220 [============================>.] - ETA: 0s - loss: 0.2718 - accuracy: 0.9093\n",
      "Epoch 59: val_loss did not improve from 0.28254\n",
      "220/220 [==============================] - 1s 4ms/step - loss: 0.2699 - accuracy: 0.9099 - val_loss: 0.3023 - val_accuracy: 0.9048\n",
      "Epoch 60/100\n",
      "218/220 [============================>.] - ETA: 0s - loss: 0.2464 - accuracy: 0.9202\n",
      "Epoch 60: val_loss improved from 0.28254 to 0.27632, saving model to model\\audio_classification.hdf5\n",
      "220/220 [==============================] - 1s 4ms/step - loss: 0.2464 - accuracy: 0.9201 - val_loss: 0.2763 - val_accuracy: 0.9247\n",
      "Epoch 61/100\n",
      "212/220 [===========================>..] - ETA: 0s - loss: 0.2466 - accuracy: 0.9204\n",
      "Epoch 61: val_loss did not improve from 0.27632\n",
      "220/220 [==============================] - 1s 4ms/step - loss: 0.2490 - accuracy: 0.9190 - val_loss: 0.2834 - val_accuracy: 0.9179\n",
      "Epoch 62/100\n",
      "219/220 [============================>.] - ETA: 0s - loss: 0.2359 - accuracy: 0.9197\n",
      "Epoch 62: val_loss did not improve from 0.27632\n",
      "220/220 [==============================] - 1s 5ms/step - loss: 0.2357 - accuracy: 0.9197 - val_loss: 0.2872 - val_accuracy: 0.9162\n",
      "Epoch 63/100\n",
      "206/220 [===========================>..] - ETA: 0s - loss: 0.2474 - accuracy: 0.9161\n",
      "Epoch 63: val_loss did not improve from 0.27632\n",
      "220/220 [==============================] - 1s 4ms/step - loss: 0.2470 - accuracy: 0.9162 - val_loss: 0.2986 - val_accuracy: 0.9105\n",
      "Epoch 64/100\n",
      "215/220 [============================>.] - ETA: 0s - loss: 0.2375 - accuracy: 0.9205\n",
      "Epoch 64: val_loss improved from 0.27632 to 0.26745, saving model to model\\audio_classification.hdf5\n",
      "220/220 [==============================] - 1s 4ms/step - loss: 0.2388 - accuracy: 0.9199 - val_loss: 0.2674 - val_accuracy: 0.9190\n",
      "Epoch 65/100\n",
      "211/220 [===========================>..] - ETA: 0s - loss: 0.2373 - accuracy: 0.9200\n",
      "Epoch 65: val_loss did not improve from 0.26745\n",
      "220/220 [==============================] - 1s 4ms/step - loss: 0.2362 - accuracy: 0.9204 - val_loss: 0.2871 - val_accuracy: 0.9225\n",
      "Epoch 66/100\n",
      "207/220 [===========================>..] - ETA: 0s - loss: 0.2465 - accuracy: 0.9206\n",
      "Epoch 66: val_loss did not improve from 0.26745\n",
      "220/220 [==============================] - 1s 4ms/step - loss: 0.2470 - accuracy: 0.9204 - val_loss: 0.2881 - val_accuracy: 0.9225\n",
      "Epoch 67/100\n",
      "208/220 [===========================>..] - ETA: 0s - loss: 0.2225 - accuracy: 0.9220\n",
      "Epoch 67: val_loss did not improve from 0.26745\n",
      "220/220 [==============================] - 1s 4ms/step - loss: 0.2230 - accuracy: 0.9220 - val_loss: 0.2976 - val_accuracy: 0.9168\n",
      "Epoch 68/100\n",
      "212/220 [===========================>..] - ETA: 0s - loss: 0.2268 - accuracy: 0.9226\n",
      "Epoch 68: val_loss did not improve from 0.26745\n",
      "220/220 [==============================] - 1s 4ms/step - loss: 0.2296 - accuracy: 0.9211 - val_loss: 0.2921 - val_accuracy: 0.9179\n",
      "Epoch 69/100\n",
      "210/220 [===========================>..] - ETA: 0s - loss: 0.2267 - accuracy: 0.9243\n",
      "Epoch 69: val_loss did not improve from 0.26745\n",
      "220/220 [==============================] - 1s 4ms/step - loss: 0.2310 - accuracy: 0.9229 - val_loss: 0.2777 - val_accuracy: 0.9225\n",
      "Epoch 70/100\n",
      "209/220 [===========================>..] - ETA: 0s - loss: 0.2397 - accuracy: 0.9217\n",
      "Epoch 70: val_loss did not improve from 0.26745\n",
      "220/220 [==============================] - 1s 4ms/step - loss: 0.2381 - accuracy: 0.9219 - val_loss: 0.2825 - val_accuracy: 0.9225\n",
      "Epoch 71/100\n",
      "211/220 [===========================>..] - ETA: 0s - loss: 0.2262 - accuracy: 0.9243\n",
      "Epoch 71: val_loss did not improve from 0.26745\n",
      "220/220 [==============================] - 1s 4ms/step - loss: 0.2259 - accuracy: 0.9244 - val_loss: 0.2747 - val_accuracy: 0.9253\n",
      "Epoch 72/100\n",
      "209/220 [===========================>..] - ETA: 0s - loss: 0.2332 - accuracy: 0.9214\n",
      "Epoch 72: val_loss did not improve from 0.26745\n",
      "220/220 [==============================] - 1s 4ms/step - loss: 0.2371 - accuracy: 0.9200 - val_loss: 0.2898 - val_accuracy: 0.9236\n",
      "Epoch 73/100\n",
      "205/220 [==========================>...] - ETA: 0s - loss: 0.1979 - accuracy: 0.9311\n",
      "Epoch 73: val_loss did not improve from 0.26745\n",
      "220/220 [==============================] - 1s 4ms/step - loss: 0.2018 - accuracy: 0.9300 - val_loss: 0.3033 - val_accuracy: 0.9219\n",
      "Epoch 74/100\n",
      "219/220 [============================>.] - ETA: 0s - loss: 0.2452 - accuracy: 0.9191\n",
      "Epoch 74: val_loss did not improve from 0.26745\n",
      "220/220 [==============================] - 1s 4ms/step - loss: 0.2451 - accuracy: 0.9192 - val_loss: 0.2824 - val_accuracy: 0.9202\n",
      "Epoch 75/100\n",
      "210/220 [===========================>..] - ETA: 0s - loss: 0.2215 - accuracy: 0.9257\n",
      "Epoch 75: val_loss did not improve from 0.26745\n",
      "220/220 [==============================] - 1s 4ms/step - loss: 0.2236 - accuracy: 0.9254 - val_loss: 0.2768 - val_accuracy: 0.9213\n",
      "Epoch 76/100\n",
      "215/220 [============================>.] - ETA: 0s - loss: 0.2085 - accuracy: 0.9297\n",
      "Epoch 76: val_loss did not improve from 0.26745\n",
      "220/220 [==============================] - 1s 4ms/step - loss: 0.2093 - accuracy: 0.9293 - val_loss: 0.2891 - val_accuracy: 0.9213\n",
      "Epoch 77/100\n",
      "212/220 [===========================>..] - ETA: 0s - loss: 0.2300 - accuracy: 0.9241\n",
      "Epoch 77: val_loss did not improve from 0.26745\n",
      "220/220 [==============================] - 1s 4ms/step - loss: 0.2293 - accuracy: 0.9239 - val_loss: 0.2926 - val_accuracy: 0.9202\n",
      "Epoch 78/100\n",
      "213/220 [============================>.] - ETA: 0s - loss: 0.1998 - accuracy: 0.9309\n",
      "Epoch 78: val_loss did not improve from 0.26745\n",
      "220/220 [==============================] - 1s 4ms/step - loss: 0.1986 - accuracy: 0.9310 - val_loss: 0.2911 - val_accuracy: 0.9287\n",
      "Epoch 79/100\n",
      "207/220 [===========================>..] - ETA: 0s - loss: 0.2157 - accuracy: 0.9324\n",
      "Epoch 79: val_loss did not improve from 0.26745\n",
      "220/220 [==============================] - 1s 4ms/step - loss: 0.2119 - accuracy: 0.9334 - val_loss: 0.2834 - val_accuracy: 0.9236\n",
      "Epoch 80/100\n",
      "209/220 [===========================>..] - ETA: 0s - loss: 0.2078 - accuracy: 0.9342\n",
      "Epoch 80: val_loss did not improve from 0.26745\n",
      "220/220 [==============================] - 1s 4ms/step - loss: 0.2128 - accuracy: 0.9323 - val_loss: 0.2949 - val_accuracy: 0.9259\n",
      "Epoch 81/100\n",
      "212/220 [===========================>..] - ETA: 0s - loss: 0.2072 - accuracy: 0.9340\n",
      "Epoch 81: val_loss did not improve from 0.26745\n",
      "220/220 [==============================] - 1s 4ms/step - loss: 0.2086 - accuracy: 0.9333 - val_loss: 0.2775 - val_accuracy: 0.9202\n",
      "Epoch 82/100\n",
      "207/220 [===========================>..] - ETA: 0s - loss: 0.2069 - accuracy: 0.9339\n",
      "Epoch 82: val_loss did not improve from 0.26745\n",
      "220/220 [==============================] - 1s 4ms/step - loss: 0.2056 - accuracy: 0.9338 - val_loss: 0.3030 - val_accuracy: 0.9225\n",
      "Epoch 83/100\n",
      "216/220 [============================>.] - ETA: 0s - loss: 0.2270 - accuracy: 0.9269\n",
      "Epoch 83: val_loss did not improve from 0.26745\n",
      "220/220 [==============================] - 1s 4ms/step - loss: 0.2254 - accuracy: 0.9273 - val_loss: 0.3157 - val_accuracy: 0.9111\n",
      "Epoch 84/100\n",
      "211/220 [===========================>..] - ETA: 0s - loss: 0.2125 - accuracy: 0.9288\n",
      "Epoch 84: val_loss did not improve from 0.26745\n",
      "220/220 [==============================] - 1s 4ms/step - loss: 0.2146 - accuracy: 0.9281 - val_loss: 0.3084 - val_accuracy: 0.9151\n",
      "Epoch 85/100\n",
      "206/220 [===========================>..] - ETA: 0s - loss: 0.2216 - accuracy: 0.9285\n",
      "Epoch 85: val_loss did not improve from 0.26745\n",
      "220/220 [==============================] - 1s 4ms/step - loss: 0.2236 - accuracy: 0.9290 - val_loss: 0.2932 - val_accuracy: 0.9196\n",
      "Epoch 86/100\n",
      "219/220 [============================>.] - ETA: 0s - loss: 0.2082 - accuracy: 0.9282\n",
      "Epoch 86: val_loss did not improve from 0.26745\n",
      "220/220 [==============================] - 1s 4ms/step - loss: 0.2080 - accuracy: 0.9283 - val_loss: 0.2710 - val_accuracy: 0.9265\n",
      "Epoch 87/100\n",
      "205/220 [==========================>...] - ETA: 0s - loss: 0.2039 - accuracy: 0.9308\n",
      "Epoch 87: val_loss did not improve from 0.26745\n",
      "220/220 [==============================] - 1s 4ms/step - loss: 0.2040 - accuracy: 0.9320 - val_loss: 0.2815 - val_accuracy: 0.9236\n",
      "Epoch 88/100\n",
      "209/220 [===========================>..] - ETA: 0s - loss: 0.2077 - accuracy: 0.9314\n",
      "Epoch 88: val_loss did not improve from 0.26745\n",
      "220/220 [==============================] - 1s 4ms/step - loss: 0.2051 - accuracy: 0.9321 - val_loss: 0.2794 - val_accuracy: 0.9179\n",
      "Epoch 89/100\n",
      "212/220 [===========================>..] - ETA: 0s - loss: 0.2089 - accuracy: 0.9279\n",
      "Epoch 89: val_loss did not improve from 0.26745\n",
      "220/220 [==============================] - 1s 4ms/step - loss: 0.2100 - accuracy: 0.9277 - val_loss: 0.2849 - val_accuracy: 0.9213\n",
      "Epoch 90/100\n",
      "211/220 [===========================>..] - ETA: 0s - loss: 0.2193 - accuracy: 0.9271\n",
      "Epoch 90: val_loss did not improve from 0.26745\n",
      "220/220 [==============================] - 1s 4ms/step - loss: 0.2156 - accuracy: 0.9284 - val_loss: 0.2948 - val_accuracy: 0.9196\n",
      "Epoch 91/100\n",
      "218/220 [============================>.] - ETA: 0s - loss: 0.2009 - accuracy: 0.9366\n",
      "Epoch 91: val_loss did not improve from 0.26745\n",
      "220/220 [==============================] - 1s 4ms/step - loss: 0.2010 - accuracy: 0.9364 - val_loss: 0.2878 - val_accuracy: 0.9230\n",
      "Epoch 92/100\n",
      "206/220 [===========================>..] - ETA: 0s - loss: 0.2156 - accuracy: 0.9301\n",
      "Epoch 92: val_loss did not improve from 0.26745\n",
      "220/220 [==============================] - 1s 4ms/step - loss: 0.2181 - accuracy: 0.9298 - val_loss: 0.3128 - val_accuracy: 0.9145\n",
      "Epoch 93/100\n",
      "212/220 [===========================>..] - ETA: 0s - loss: 0.2129 - accuracy: 0.9264\n",
      "Epoch 93: val_loss did not improve from 0.26745\n",
      "220/220 [==============================] - 1s 4ms/step - loss: 0.2114 - accuracy: 0.9267 - val_loss: 0.2891 - val_accuracy: 0.9253\n",
      "Epoch 94/100\n",
      "220/220 [==============================] - ETA: 0s - loss: 0.2118 - accuracy: 0.9286\n",
      "Epoch 94: val_loss did not improve from 0.26745\n",
      "220/220 [==============================] - 1s 4ms/step - loss: 0.2118 - accuracy: 0.9286 - val_loss: 0.3041 - val_accuracy: 0.9236\n",
      "Epoch 95/100\n",
      "209/220 [===========================>..] - ETA: 0s - loss: 0.1939 - accuracy: 0.9365\n",
      "Epoch 95: val_loss did not improve from 0.26745\n",
      "220/220 [==============================] - 1s 4ms/step - loss: 0.1942 - accuracy: 0.9365 - val_loss: 0.3013 - val_accuracy: 0.9185\n",
      "Epoch 96/100\n",
      "213/220 [============================>.] - ETA: 0s - loss: 0.1955 - accuracy: 0.9390\n",
      "Epoch 96: val_loss did not improve from 0.26745\n",
      "220/220 [==============================] - 1s 4ms/step - loss: 0.1956 - accuracy: 0.9387 - val_loss: 0.2812 - val_accuracy: 0.9247\n",
      "Epoch 97/100\n",
      "211/220 [===========================>..] - ETA: 0s - loss: 0.1893 - accuracy: 0.9390\n",
      "Epoch 97: val_loss did not improve from 0.26745\n",
      "220/220 [==============================] - 1s 5ms/step - loss: 0.1901 - accuracy: 0.9381 - val_loss: 0.3079 - val_accuracy: 0.9116\n",
      "Epoch 98/100\n",
      "207/220 [===========================>..] - ETA: 0s - loss: 0.2134 - accuracy: 0.9292\n",
      "Epoch 98: val_loss did not improve from 0.26745\n",
      "220/220 [==============================] - 1s 4ms/step - loss: 0.2093 - accuracy: 0.9303 - val_loss: 0.3042 - val_accuracy: 0.9202\n",
      "Epoch 99/100\n",
      "217/220 [============================>.] - ETA: 0s - loss: 0.1931 - accuracy: 0.9398\n",
      "Epoch 99: val_loss did not improve from 0.26745\n",
      "220/220 [==============================] - 1s 4ms/step - loss: 0.1936 - accuracy: 0.9393 - val_loss: 0.2895 - val_accuracy: 0.9219\n",
      "Epoch 100/100\n",
      "214/220 [============================>.] - ETA: 0s - loss: 0.2084 - accuracy: 0.9296\n",
      "Epoch 100: val_loss did not improve from 0.26745\n",
      "220/220 [==============================] - 1s 4ms/step - loss: 0.2085 - accuracy: 0.9301 - val_loss: 0.3190 - val_accuracy: 0.9202\n",
      "Training completed in time:  0:01:34.168294\n"
     ]
    }
   ],
   "source": [
    "from tensorflow.keras.models import Sequential\n",
    "from tensorflow.keras.layers import Dense, Activation, Dropout\n",
    "from tensorflow.keras.optimizers import Adam\n",
    "from datetime import datetime\n",
    "from tensorflow.keras.callbacks import ModelCheckpoint\n",
    "\n",
    "# Define the best hyperparameters\n",
    "num_hidden_layers = 1\n",
    "units_per_layer = 256\n",
    "learning_rate = 0.001\n",
    "dropout_rate = 0.3\n",
    "\n",
    "\n",
    "model = Sequential()\n",
    "\n",
    "# Add first layer\n",
    "model.add(Dense(units_per_layer, input_shape=(40,)))\n",
    "model.add(Activation('relu'))\n",
    "model.add(Dropout(dropout_rate))\n",
    "\n",
    "# Add hidden layer (since num_hidden_layers = 1)\n",
    "model.add(Dense(units_per_layer))\n",
    "model.add(Activation('relu'))\n",
    "model.add(Dropout(dropout_rate))\n",
    "\n",
    "# Add final layer\n",
    "model.add(Dense(num_labels))\n",
    "model.add(Activation('softmax'))\n",
    "\n",
    "\n",
    "optimizer = Adam(learning_rate=learning_rate)\n",
    "model.compile(loss='categorical_crossentropy', metrics=['accuracy'], optimizer=optimizer)\n",
    "\n",
    "# Training configuration\n",
    "num_epochs = 100\n",
    "num_batch_size = 32\n",
    "\n",
    "# ModelCheckpoint for saving the best model\n",
    "checkpointer = ModelCheckpoint(filepath='model/audio_classification.hdf5', \n",
    "                               verbose=1, save_best_only=True)\n",
    "\n",
    "# Train the model\n",
    "start = datetime.now()\n",
    "model.fit(X_train, y_train, batch_size=num_batch_size, epochs=num_epochs, \n",
    "          validation_data=(X_test, y_test), callbacks=[checkpointer], verbose=1)\n",
    "duration = datetime.now() - start\n",
    "\n",
    "\n",
    "print(\"Training completed in time: \", duration)\n"
   ]
  },
  {
   "cell_type": "code",
   "execution_count": 34,
   "id": "virgin-butter",
   "metadata": {},
   "outputs": [
    {
     "name": "stdout",
     "output_type": "stream",
     "text": [
      "0.920182466506958\n"
     ]
    }
   ],
   "source": [
    "test_accuracy=model.evaluate(X_test,y_test,verbose=0)\n",
    "print(test_accuracy[1])"
   ]
  },
  {
   "cell_type": "code",
   "execution_count": 35,
   "id": "strange-driving",
   "metadata": {},
   "outputs": [
    {
     "data": {
      "text/plain": [
       "array([-89.60986   , 138.54202   , -34.66755   ,  -6.325211  ,\n",
       "       -14.328585  ,  -6.6653895 ,  -9.3626585 ,  -4.4089456 ,\n",
       "       -13.62875   ,  -7.837764  ,  -9.734955  ,  -1.6937976 ,\n",
       "        -4.1387577 ,  -3.6724246 , -10.9405155 ,  -7.6744604 ,\n",
       "       -11.292069  ,  -2.1165285 ,  -6.9831605 ,  -0.4331562 ,\n",
       "       -11.776561  ,  -7.823608  ,  -8.694304  ,   3.819956  ,\n",
       "         5.5766864 ,  16.414688  ,   6.421837  ,   3.68199   ,\n",
       "        -4.729585  ,   2.8164399 ,   4.4024453 ,   7.9418097 ,\n",
       "         1.9626477 ,  -3.597658  ,  -6.426121  ,  -0.43179762,\n",
       "         3.4978323 ,   3.5428402 ,  -0.7285823 ,  -3.1850307 ],\n",
       "      dtype=float32)"
      ]
     },
     "execution_count": 35,
     "metadata": {},
     "output_type": "execute_result"
    }
   ],
   "source": [
    "X_test[1]"
   ]
  },
  {
   "cell_type": "code",
   "execution_count": 36,
   "id": "intensive-conservative",
   "metadata": {},
   "outputs": [
    {
     "name": "stdout",
     "output_type": "stream",
     "text": [
      "55/55 [==============================] - 0s 2ms/step\n"
     ]
    },
    {
     "data": {
      "text/plain": [
       "array([[2.06760160e-16, 8.33982817e-16, 4.80251956e-22, ...,\n",
       "        2.83715966e-08, 1.88682447e-04, 7.66304729e-05],\n",
       "       [0.00000000e+00, 2.81614827e-37, 0.00000000e+00, ...,\n",
       "        1.07230275e-16, 4.08208767e-15, 4.88036206e-13],\n",
       "       [0.00000000e+00, 0.00000000e+00, 0.00000000e+00, ...,\n",
       "        5.68868060e-25, 2.47036107e-25, 5.00014686e-21],\n",
       "       ...,\n",
       "       [2.23483926e-06, 1.95211025e-09, 2.70063474e-08, ...,\n",
       "        3.28191643e-04, 1.39185588e-03, 2.77429402e-01],\n",
       "       [1.04251785e-09, 9.09773149e-19, 1.20228647e-19, ...,\n",
       "        4.56988847e-09, 4.10145091e-08, 4.24041355e-05],\n",
       "       [1.86394679e-37, 0.00000000e+00, 0.00000000e+00, ...,\n",
       "        5.46022849e-15, 6.62230796e-26, 8.20156605e-21]], dtype=float32)"
      ]
     },
     "execution_count": 36,
     "metadata": {},
     "output_type": "execute_result"
    }
   ],
   "source": [
    "model.predict(X_test)"
   ]
  },
  {
   "cell_type": "markdown",
   "id": "advanced-booth",
   "metadata": {},
   "source": [
    "### Testing Some Test Audio Data\n",
    "\n",
    "Steps\n",
    "- Preprocess the new audio data\n",
    "- predict the classes\n",
    "- Invere transform your Predicted Label"
   ]
  },
  {
   "cell_type": "code",
   "execution_count": 37,
   "id": "2272ab66",
   "metadata": {},
   "outputs": [
    {
     "name": "stdout",
     "output_type": "stream",
     "text": [
      "[-4.2007812e+02  6.5584145e+01  3.3430901e+00 -4.7124267e+00\n",
      " -4.4960961e+00 -4.9654031e+00 -1.9396935e+00 -6.0600209e+00\n",
      " -9.9962511e+00  3.0589890e+00  1.1677864e+00  5.2523513e+00\n",
      "  1.1553643e+00  1.3698374e+00 -6.2704787e+00 -1.1981721e+01\n",
      " -1.2185408e+01 -1.0762297e+01 -6.6250238e+00 -2.1179211e+00\n",
      "  1.0248964e-01 -1.5895659e+00 -1.2512857e+00 -2.5746005e+00\n",
      " -4.7969551e+00  1.1725523e+00  3.8943892e+00 -4.0028912e-01\n",
      " -4.3901405e+00 -7.2879868e+00 -5.1036544e+00  1.0500879e+00\n",
      "  1.6143800e+00  1.1850310e-01 -6.0043998e+00 -3.9069829e+00\n",
      " -9.5882940e-01 -5.6813955e-01 -2.5715387e+00 -5.5395365e+00]\n",
      "[[-4.2007812e+02  6.5584145e+01  3.3430901e+00 -4.7124267e+00\n",
      "  -4.4960961e+00 -4.9654031e+00 -1.9396935e+00 -6.0600209e+00\n",
      "  -9.9962511e+00  3.0589890e+00  1.1677864e+00  5.2523513e+00\n",
      "   1.1553643e+00  1.3698374e+00 -6.2704787e+00 -1.1981721e+01\n",
      "  -1.2185408e+01 -1.0762297e+01 -6.6250238e+00 -2.1179211e+00\n",
      "   1.0248964e-01 -1.5895659e+00 -1.2512857e+00 -2.5746005e+00\n",
      "  -4.7969551e+00  1.1725523e+00  3.8943892e+00 -4.0028912e-01\n",
      "  -4.3901405e+00 -7.2879868e+00 -5.1036544e+00  1.0500879e+00\n",
      "   1.6143800e+00  1.1850310e-01 -6.0043998e+00 -3.9069829e+00\n",
      "  -9.5882940e-01 -5.6813955e-01 -2.5715387e+00 -5.5395365e+00]]\n",
      "(1, 40)\n",
      "1/1 [==============================] - 0s 28ms/step\n",
      "['Chirag ']\n"
     ]
    }
   ],
   "source": [
    "import librosa\n",
    "import numpy as np\n",
    "\n",
    "# Assuming you have already loaded and compiled your model\n",
    "# model = load_model('path_to_your_model.h5')\n",
    "\n",
    "filename = \"UrbanSound8K/99830-1-1-0.wav\"\n",
    "audio, sample_rate = librosa.load(filename, res_type='soxr_hq')\n",
    "mfccs_features = librosa.feature.mfcc(y=audio, sr=sample_rate, n_mfcc=40)\n",
    "mfccs_scaled_features = np.mean(mfccs_features.T, axis=0)\n",
    "\n",
    "print(mfccs_scaled_features)\n",
    "mfccs_scaled_features = mfccs_scaled_features.reshape(1, -1)\n",
    "print(mfccs_scaled_features)\n",
    "print(mfccs_scaled_features.shape)\n",
    "\n",
    "# Assuming `model` is already loaded and compiled\n",
    "\n",
    "# model.prediction_classes is removed use .predict \n",
    "predicted_label = model.predict(mfccs_scaled_features)\n",
    "# Assuming `labelencoder` is already defined\n",
    "prediction_class = labelencoder.inverse_transform(np.argmax(predicted_label, axis=1))\n",
    "print(prediction_class)\n"
   ]
  },
  {
   "cell_type": "code",
   "execution_count": 61,
   "id": "03865867",
   "metadata": {},
   "outputs": [
    {
     "name": "stdout",
     "output_type": "stream",
     "text": [
      "[-4.2007812e+02  6.5584145e+01  3.3430896e+00 -4.7124267e+00\n",
      " -4.4960961e+00 -4.9654031e+00 -1.9396937e+00 -6.0600214e+00\n",
      " -9.9962511e+00  3.0589893e+00  1.1677864e+00  5.2523513e+00\n",
      "  1.1553640e+00  1.3698374e+00 -6.2704792e+00 -1.1981722e+01\n",
      " -1.2185408e+01 -1.0762297e+01 -6.6250238e+00 -2.1179214e+00\n",
      "  1.0248957e-01 -1.5895658e+00 -1.2512856e+00 -2.5746005e+00\n",
      " -4.7969551e+00  1.1725523e+00  3.8943892e+00 -4.0028915e-01\n",
      " -4.3901401e+00 -7.2879868e+00 -5.1036544e+00  1.0500878e+00\n",
      "  1.6143799e+00  1.1850313e-01 -6.0043998e+00 -3.9069829e+00\n",
      " -9.5882940e-01 -5.6813949e-01 -2.5715384e+00 -5.5395365e+00]\n",
      "[[-4.2007812e+02  6.5584145e+01  3.3430896e+00 -4.7124267e+00\n",
      "  -4.4960961e+00 -4.9654031e+00 -1.9396937e+00 -6.0600214e+00\n",
      "  -9.9962511e+00  3.0589893e+00  1.1677864e+00  5.2523513e+00\n",
      "   1.1553640e+00  1.3698374e+00 -6.2704792e+00 -1.1981722e+01\n",
      "  -1.2185408e+01 -1.0762297e+01 -6.6250238e+00 -2.1179214e+00\n",
      "   1.0248957e-01 -1.5895658e+00 -1.2512856e+00 -2.5746005e+00\n",
      "  -4.7969551e+00  1.1725523e+00  3.8943892e+00 -4.0028915e-01\n",
      "  -4.3901401e+00 -7.2879868e+00 -5.1036544e+00  1.0500878e+00\n",
      "   1.6143799e+00  1.1850313e-01 -6.0043998e+00 -3.9069829e+00\n",
      "  -9.5882940e-01 -5.6813949e-01 -2.5715384e+00 -5.5395365e+00]]\n",
      "(1, 40)\n",
      "1/1 [==============================] - 0s 18ms/step\n"
     ]
    },
    {
     "data": {
      "text/plain": [
       "0"
      ]
     },
     "execution_count": 61,
     "metadata": {},
     "output_type": "execute_result"
    }
   ],
   "source": [
    "import librosa\n",
    "import numpy as np\n",
    "from gtts import gTTS\n",
    "import os\n",
    "\n",
    "# Load and process audio\n",
    "filename = \"UrbanSound8K/99830-1-1-0.wav\"\n",
    "audio, sample_rate = librosa.load(filename, res_type='soxr_hq')\n",
    "mfccs_features = librosa.feature.mfcc(y=audio, sr=sample_rate, n_mfcc=40)\n",
    "mfccs_scaled_features = np.mean(mfccs_features.T, axis=0)\n",
    "\n",
    "# Print and reshape features\n",
    "print(mfccs_scaled_features)\n",
    "mfccs_scaled_features = mfccs_scaled_features.reshape(1, -1)\n",
    "print(mfccs_scaled_features)\n",
    "print(mfccs_scaled_features.shape)\n",
    "\n",
    "# Assuming `model` is already loaded and compiled\n",
    "\n",
    "# Make a prediction\n",
    "predicted_label = model.predict(mfccs_scaled_features)\n",
    "\n",
    "# Assuming `labelencoder` is already defined\n",
    "prediction_class = labelencoder.inverse_transform(np.argmax(predicted_label, axis=1))[0]\n",
    "\n",
    "# Convert prediction to speech\n",
    "tts = gTTS(text=f\"The predicted class is {prediction_class}\", lang='en')\n",
    "tts.save(\"prediction.mp3\")\n",
    "\n",
    "# Play the audio\n",
    "os.system(\"start prediction.mp3\")\n"
   ]
  },
  {
   "cell_type": "code",
   "execution_count": 107,
   "id": "50bc47fd",
   "metadata": {},
   "outputs": [
    {
     "name": "stdout",
     "output_type": "stream",
     "text": [
      "Audio recorded.\n",
      "1/1 [==============================] - 0s 81ms/step\n"
     ]
    },
    {
     "data": {
      "text/plain": [
       "0"
      ]
     },
     "execution_count": 107,
     "metadata": {},
     "output_type": "execute_result"
    }
   ],
   "source": [
    "import numpy as np\n",
    "import sounddevice as sd\n",
    "from gtts import gTTS\n",
    "import os\n",
    "from tensorflow.keras.models import load_model\n",
    "import librosa\n",
    "\n",
    "# Load your pre-trained model\n",
    "model = load_model('model/audio_classification.hdf5')  # Replace with the actual path\n",
    "\n",
    "# Function to record audio\n",
    "def record_audio(duration):\n",
    "    audio = sd.rec(int(sr * duration), samplerate=sr, channels=2, dtype='float32')\n",
    "    sd.wait()\n",
    "    return audio.flatten()\n",
    "\n",
    "# Define the sample rate (sr) for audio processing\n",
    "sr = 44100  # You may need to adjust this based on your specific use case\n",
    "\n",
    "# Record audio button\n",
    "duration = 5  # Adjust the recording duration as needed\n",
    "audio_data = record_audio(duration)\n",
    "print(\"Audio recorded.\")\n",
    "\n",
    "# Extract MFCC features\n",
    "mfcc_features = librosa.feature.mfcc(y=audio_data, sr=sr, n_mfcc=40)\n",
    "mfccs_scaled_features = np.mean(mfcc_features.T, axis=0)\n",
    "mfccs_scaled_features = mfccs_scaled_features.reshape(1, -1)\n",
    "\n",
    "# Make a prediction using your model\n",
    "predicted_label = model.predict(mfccs_scaled_features)\n",
    "\n",
    "# Assuming `labelencoder` is already defined\n",
    "prediction_class = labelencoder.inverse_transform(np.argmax(predicted_label, axis=1))[0]\n",
    "\n",
    "# Convert prediction to speech\n",
    "tts = gTTS(text=f\"The predicted class is {prediction_class}\", lang='en')\n",
    "tts.save(\"prediction.mp3\")\n",
    "\n",
    "# Play the audio\n",
    "os.system(\"start prediction.mp3\")\n"
   ]
  },
  {
   "cell_type": "code",
   "execution_count": 55,
   "id": "96f079a8",
   "metadata": {},
   "outputs": [
    {
     "name": "stdout",
     "output_type": "stream",
     "text": [
      "Audio recorded.\n",
      "1/1 [==============================] - 0s 69ms/step\n",
      "[[-5.3054742e+02  1.0883851e+02  2.0316114e+01  1.1384789e+01\n",
      "   2.1208843e+01  9.4560251e+00  4.2388911e+00  1.4561793e+01\n",
      "   1.4046582e+01  3.7534454e+00  5.1530361e+00  5.8276258e+00\n",
      "   3.8287941e-01  2.0557330e+00  3.8230059e+00  2.5114007e+00\n",
      "   2.9654262e+00  3.9525197e+00  4.7207208e+00  4.0034461e+00\n",
      "   5.2109456e+00  8.0276194e+00  6.1006231e+00  3.5714705e+00\n",
      "   3.9831026e+00  4.3027143e+00  2.5264680e+00  1.7124295e+00\n",
      "   3.9766345e+00  4.2750549e+00  2.3401988e+00  3.2891521e+00\n",
      "   3.5308549e+00  2.3815131e+00  2.3106608e+00  1.2843330e+00\n",
      "   1.4020311e+00  3.5973113e+00  4.2259178e+00  3.4249554e+00]]\n"
     ]
    },
    {
     "data": {
      "text/plain": [
       "0"
      ]
     },
     "execution_count": 55,
     "metadata": {},
     "output_type": "execute_result"
    }
   ],
   "source": [
    "import numpy as np\n",
    "import sounddevice as sd\n",
    "from gtts import gTTS\n",
    "import os\n",
    "import librosa\n",
    "from tensorflow.keras.models import load_model\n",
    "from sklearn.preprocessing import LabelEncoder\n",
    "\n",
    "# Load your pre-trained model\n",
    "model = load_model('saved_models/audio_classification.hdf5')  # Replace with the actual path\n",
    "\n",
    "# Define the sample rate (sr) for audio processing\n",
    "sr = 44100  # You may need to adjust this based on your specific use case\n",
    "\n",
    "# Function to record audio\n",
    "def record_audio(duration):\n",
    "    audio = sd.rec(int(sr * duration), samplerate=sr, channels=1, dtype='float32')\n",
    "    sd.wait()\n",
    "    return audio.flatten()\n",
    "\n",
    "# Assuming you have a list of target labels, let's call it `target_labels`\n",
    "target_labels = ['air_conditioner', 'car_horn', 'children_playing', 'dog_bark', 'drilling', 'engine_idling', 'gun_shot', 'jackhammer', 'siren', 'street_music']  # Replace with your actual labels\n",
    "labelencoder = LabelEncoder()\n",
    "labelencoder.fit(target_labels)\n",
    "\n",
    "# Record audio button\n",
    "duration = 20 # Adjust the recording duration as needed\n",
    "audio_data = record_audio(duration)\n",
    "print(\"Audio recorded.\")\n",
    "\n",
    "# Extract MFCC features\n",
    "mfcc_features = librosa.feature.mfcc(y=audio_data, sr=sr, n_mfcc=40)\n",
    "mfccs_scaled_features = np.mean(mfcc_features.T, axis=0)\n",
    "mfccs_scaled_features = mfccs_scaled_features.reshape(1, -1)\n",
    "\n",
    "# Make a prediction using your model\n",
    "predicted_label = model.predict(mfccs_scaled_features)\n",
    "print(mfccs_scaled_features)\n",
    "\n",
    "# Assuming `labelencoder` is already defined\n",
    "prediction_class = labelencoder.inverse_transform(np.argmax(predicted_label, axis=1))[0]\n",
    "\n",
    "# Convert prediction to speech\n",
    "tts = gTTS(text=f\"The predicted class is {prediction_class}\", lang='en')\n",
    "tts.save(\"prediction.mp3\")\n",
    "\n",
    "# Play the audio\n",
    "os.system(\"start prediction.mp3\")\n"
   ]
  },
  {
   "cell_type": "code",
   "execution_count": 30,
   "id": "11833792",
   "metadata": {},
   "outputs": [],
   "source": [
    "import pickle\n",
    "from tensorflow.keras.models import load_model\n",
    "\n",
    "# Assuming you have a Keras model saved as 'audio_classification.hdf5'\n",
    "# Load the model\n",
    "model = load_model('model/audio_classification.hdf5')\n",
    "\n",
    "# Save the architecture\n",
    "with open('model_architecture.pkl', 'wb') as arch_file:\n",
    "    pickle.dump(model.to_json(), arch_file)\n",
    "\n",
    "# Save the weights\n",
    "model.save_weights('model_weights.h5')\n",
    "\n"
   ]
  },
  {
   "cell_type": "code",
   "execution_count": 31,
   "id": "26bf9036",
   "metadata": {},
   "outputs": [],
   "source": [
    "import streamlit as st\n",
    "from tensorflow.keras.models import model_from_json\n",
    "\n",
    "# Load the architecture\n",
    "with open('model_architecture.pkl', 'rb') as arch_file:\n",
    "    model_architecture = pickle.load(arch_file)\n",
    "\n",
    "# Load the weights\n",
    "model = model_from_json(model_architecture)\n",
    "model.load_weights('model_weights.h5')\n",
    "\n",
    "# Now you can use 'model' for predictions\n"
   ]
  },
  {
   "cell_type": "code",
   "execution_count": 38,
   "id": "855703c2",
   "metadata": {},
   "outputs": [
    {
     "name": "stdout",
     "output_type": "stream",
     "text": [
      "Collecting sounddevice\n",
      "  Using cached sounddevice-0.4.6-py3-none-win_amd64.whl (199 kB)\n",
      "Requirement already satisfied: CFFI>=1.0 in c:\\users\\sumit\\appdata\\local\\programs\\python\\python311\\lib\\site-packages (from sounddevice) (1.15.1)\n",
      "Requirement already satisfied: pycparser in c:\\users\\sumit\\appdata\\local\\programs\\python\\python311\\lib\\site-packages (from CFFI>=1.0->sounddevice) (2.21)\n",
      "Installing collected packages: sounddevice\n",
      "Successfully installed sounddevice-0.4.6\n"
     ]
    }
   ],
   "source": [
    "! pip install sounddevice"
   ]
  },
  {
   "cell_type": "code",
   "execution_count": 39,
   "id": "db148a1c",
   "metadata": {},
   "outputs": [
    {
     "name": "stdout",
     "output_type": "stream",
     "text": [
      "Requirement already satisfied: streamlit in c:\\users\\sumit\\appdata\\local\\programs\\python\\python311\\lib\\site-packages (1.20.0)\n",
      "Requirement already satisfied: altair<5,>=3.2.0 in c:\\users\\sumit\\appdata\\local\\programs\\python\\python311\\lib\\site-packages (from streamlit) (4.2.2)\n",
      "Requirement already satisfied: blinker>=1.0.0 in c:\\users\\sumit\\appdata\\local\\programs\\python\\python311\\lib\\site-packages (from streamlit) (1.5)\n",
      "Requirement already satisfied: cachetools>=4.0 in c:\\users\\sumit\\appdata\\local\\programs\\python\\python311\\lib\\site-packages (from streamlit) (5.3.0)\n",
      "Requirement already satisfied: click>=7.0 in c:\\users\\sumit\\appdata\\local\\programs\\python\\python311\\lib\\site-packages (from streamlit) (8.1.3)\n",
      "Requirement already satisfied: importlib-metadata>=1.4 in c:\\users\\sumit\\appdata\\local\\programs\\python\\python311\\lib\\site-packages (from streamlit) (6.0.0)\n",
      "Requirement already satisfied: numpy in c:\\users\\sumit\\appdata\\local\\programs\\python\\python311\\lib\\site-packages (from streamlit) (1.23.5)\n",
      "Requirement already satisfied: packaging>=14.1 in c:\\users\\sumit\\appdata\\local\\programs\\python\\python311\\lib\\site-packages (from streamlit) (23.0)\n",
      "Requirement already satisfied: pandas<2,>=0.25 in c:\\users\\sumit\\appdata\\local\\programs\\python\\python311\\lib\\site-packages (from streamlit) (1.5.3)\n",
      "Requirement already satisfied: pillow>=6.2.0 in c:\\users\\sumit\\appdata\\local\\programs\\python\\python311\\lib\\site-packages (from streamlit) (9.4.0)\n",
      "Requirement already satisfied: protobuf<4,>=3.12 in c:\\users\\sumit\\appdata\\local\\programs\\python\\python311\\lib\\site-packages (from streamlit) (3.20.3)\n",
      "Requirement already satisfied: pyarrow>=4.0 in c:\\users\\sumit\\appdata\\local\\programs\\python\\python311\\lib\\site-packages (from streamlit) (11.0.0)\n",
      "Requirement already satisfied: pympler>=0.9 in c:\\users\\sumit\\appdata\\local\\programs\\python\\python311\\lib\\site-packages (from streamlit) (1.0.1)\n",
      "Requirement already satisfied: python-dateutil in c:\\users\\sumit\\appdata\\local\\programs\\python\\python311\\lib\\site-packages (from streamlit) (2.8.2)\n",
      "Requirement already satisfied: requests>=2.4 in c:\\users\\sumit\\appdata\\local\\programs\\python\\python311\\lib\\site-packages (from streamlit) (2.28.2)\n",
      "Requirement already satisfied: rich>=10.11.0 in c:\\users\\sumit\\appdata\\local\\programs\\python\\python311\\lib\\site-packages (from streamlit) (13.3.2)\n",
      "Requirement already satisfied: semver in c:\\users\\sumit\\appdata\\local\\programs\\python\\python311\\lib\\site-packages (from streamlit) (2.13.0)\n",
      "Requirement already satisfied: toml in c:\\users\\sumit\\appdata\\local\\programs\\python\\python311\\lib\\site-packages (from streamlit) (0.10.2)\n",
      "Requirement already satisfied: typing-extensions>=3.10.0.0 in c:\\users\\sumit\\appdata\\local\\programs\\python\\python311\\lib\\site-packages (from streamlit) (4.5.0)\n",
      "Requirement already satisfied: tzlocal>=1.1 in c:\\users\\sumit\\appdata\\local\\programs\\python\\python311\\lib\\site-packages (from streamlit) (4.2)\n",
      "Requirement already satisfied: validators>=0.2 in c:\\users\\sumit\\appdata\\local\\programs\\python\\python311\\lib\\site-packages (from streamlit) (0.20.0)\n",
      "Requirement already satisfied: gitpython!=3.1.19 in c:\\users\\sumit\\appdata\\local\\programs\\python\\python311\\lib\\site-packages (from streamlit) (3.1.31)\n",
      "Requirement already satisfied: pydeck>=0.1.dev5 in c:\\users\\sumit\\appdata\\local\\programs\\python\\python311\\lib\\site-packages (from streamlit) (0.8.0)\n",
      "Requirement already satisfied: tornado>=6.0.3 in c:\\users\\sumit\\appdata\\local\\programs\\python\\python311\\lib\\site-packages (from streamlit) (6.2)\n",
      "Requirement already satisfied: watchdog in c:\\users\\sumit\\appdata\\local\\programs\\python\\python311\\lib\\site-packages (from streamlit) (2.3.1)\n",
      "Requirement already satisfied: entrypoints in c:\\users\\sumit\\appdata\\local\\programs\\python\\python311\\lib\\site-packages (from altair<5,>=3.2.0->streamlit) (0.4)\n",
      "Requirement already satisfied: jinja2 in c:\\users\\sumit\\appdata\\local\\programs\\python\\python311\\lib\\site-packages (from altair<5,>=3.2.0->streamlit) (3.1.2)\n",
      "Requirement already satisfied: jsonschema>=3.0 in c:\\users\\sumit\\appdata\\local\\programs\\python\\python311\\lib\\site-packages (from altair<5,>=3.2.0->streamlit) (4.17.3)\n",
      "Requirement already satisfied: toolz in c:\\users\\sumit\\appdata\\local\\programs\\python\\python311\\lib\\site-packages (from altair<5,>=3.2.0->streamlit) (0.12.0)\n",
      "Requirement already satisfied: colorama in c:\\users\\sumit\\appdata\\local\\programs\\python\\python311\\lib\\site-packages (from click>=7.0->streamlit) (0.4.6)\n",
      "Requirement already satisfied: gitdb<5,>=4.0.1 in c:\\users\\sumit\\appdata\\local\\programs\\python\\python311\\lib\\site-packages (from gitpython!=3.1.19->streamlit) (4.0.10)\n",
      "Requirement already satisfied: zipp>=0.5 in c:\\users\\sumit\\appdata\\local\\programs\\python\\python311\\lib\\site-packages (from importlib-metadata>=1.4->streamlit) (3.15.0)\n",
      "Requirement already satisfied: pytz>=2020.1 in c:\\users\\sumit\\appdata\\local\\programs\\python\\python311\\lib\\site-packages (from pandas<2,>=0.25->streamlit) (2022.7.1)\n",
      "Requirement already satisfied: six>=1.5 in c:\\users\\sumit\\appdata\\local\\programs\\python\\python311\\lib\\site-packages (from python-dateutil->streamlit) (1.16.0)\n",
      "Requirement already satisfied: charset-normalizer<4,>=2 in c:\\users\\sumit\\appdata\\local\\programs\\python\\python311\\lib\\site-packages (from requests>=2.4->streamlit) (3.0.1)\n",
      "Requirement already satisfied: idna<4,>=2.5 in c:\\users\\sumit\\appdata\\local\\programs\\python\\python311\\lib\\site-packages (from requests>=2.4->streamlit) (3.4)\n",
      "Requirement already satisfied: urllib3<1.27,>=1.21.1 in c:\\users\\sumit\\appdata\\local\\programs\\python\\python311\\lib\\site-packages (from requests>=2.4->streamlit) (1.26.14)\n",
      "Requirement already satisfied: certifi>=2017.4.17 in c:\\users\\sumit\\appdata\\local\\programs\\python\\python311\\lib\\site-packages (from requests>=2.4->streamlit) (2022.12.7)\n",
      "Requirement already satisfied: markdown-it-py<3.0.0,>=2.2.0 in c:\\users\\sumit\\appdata\\local\\programs\\python\\python311\\lib\\site-packages (from rich>=10.11.0->streamlit) (2.2.0)\n",
      "Requirement already satisfied: pygments<3.0.0,>=2.13.0 in c:\\users\\sumit\\appdata\\local\\programs\\python\\python311\\lib\\site-packages (from rich>=10.11.0->streamlit) (2.14.0)\n",
      "Requirement already satisfied: pytz-deprecation-shim in c:\\users\\sumit\\appdata\\local\\programs\\python\\python311\\lib\\site-packages (from tzlocal>=1.1->streamlit) (0.1.0.post0)\n",
      "Requirement already satisfied: tzdata in c:\\users\\sumit\\appdata\\local\\programs\\python\\python311\\lib\\site-packages (from tzlocal>=1.1->streamlit) (2022.7)\n",
      "Requirement already satisfied: decorator>=3.4.0 in c:\\users\\sumit\\appdata\\local\\programs\\python\\python311\\lib\\site-packages (from validators>=0.2->streamlit) (5.1.1)\n",
      "Requirement already satisfied: smmap<6,>=3.0.1 in c:\\users\\sumit\\appdata\\local\\programs\\python\\python311\\lib\\site-packages (from gitdb<5,>=4.0.1->gitpython!=3.1.19->streamlit) (5.0.0)\n",
      "Requirement already satisfied: MarkupSafe>=2.0 in c:\\users\\sumit\\appdata\\local\\programs\\python\\python311\\lib\\site-packages (from jinja2->altair<5,>=3.2.0->streamlit) (2.1.2)\n",
      "Requirement already satisfied: attrs>=17.4.0 in c:\\users\\sumit\\appdata\\local\\programs\\python\\python311\\lib\\site-packages (from jsonschema>=3.0->altair<5,>=3.2.0->streamlit) (22.2.0)\n",
      "Requirement already satisfied: pyrsistent!=0.17.0,!=0.17.1,!=0.17.2,>=0.14.0 in c:\\users\\sumit\\appdata\\local\\programs\\python\\python311\\lib\\site-packages (from jsonschema>=3.0->altair<5,>=3.2.0->streamlit) (0.19.3)\n",
      "Requirement already satisfied: mdurl~=0.1 in c:\\users\\sumit\\appdata\\local\\programs\\python\\python311\\lib\\site-packages (from markdown-it-py<3.0.0,>=2.2.0->rich>=10.11.0->streamlit) (0.1.2)\n"
     ]
    }
   ],
   "source": [
    "! pip install streamlit\n"
   ]
  },
  {
   "cell_type": "code",
   "execution_count": 52,
   "id": "374b8410",
   "metadata": {},
   "outputs": [
    {
     "name": "stdout",
     "output_type": "stream",
     "text": [
      "Requirement already satisfied: librosa in c:\\users\\sumit\\anaconda3\\lib\\site-packages (0.10.1)\n",
      "Requirement already satisfied: audioread>=2.1.9 in c:\\users\\sumit\\anaconda3\\lib\\site-packages (from librosa) (3.0.0)\n",
      "Requirement already satisfied: numpy!=1.22.0,!=1.22.1,!=1.22.2,>=1.20.3 in c:\\users\\sumit\\anaconda3\\lib\\site-packages (from librosa) (1.24.3)\n",
      "Requirement already satisfied: scipy>=1.2.0 in c:\\users\\sumit\\anaconda3\\lib\\site-packages (from librosa) (1.10.1)\n",
      "Requirement already satisfied: scikit-learn>=0.20.0 in c:\\users\\sumit\\anaconda3\\lib\\site-packages (from librosa) (1.2.2)\n",
      "Requirement already satisfied: joblib>=0.14 in c:\\users\\sumit\\anaconda3\\lib\\site-packages (from librosa) (1.1.1)\n",
      "Requirement already satisfied: decorator>=4.3.0 in c:\\users\\sumit\\anaconda3\\lib\\site-packages (from librosa) (5.1.1)\n",
      "Requirement already satisfied: numba>=0.51.0 in c:\\users\\sumit\\anaconda3\\lib\\site-packages (from librosa) (0.57.0)\n",
      "Requirement already satisfied: soundfile>=0.12.1 in c:\\users\\sumit\\anaconda3\\lib\\site-packages (from librosa) (0.12.1)\n",
      "Requirement already satisfied: pooch>=1.0 in c:\\users\\sumit\\anaconda3\\lib\\site-packages (from librosa) (1.4.0)\n",
      "Requirement already satisfied: soxr>=0.3.2 in c:\\users\\sumit\\anaconda3\\lib\\site-packages (from librosa) (0.3.6)\n",
      "Requirement already satisfied: typing-extensions>=4.1.1 in c:\\users\\sumit\\anaconda3\\lib\\site-packages (from librosa) (4.8.0)\n",
      "Requirement already satisfied: lazy-loader>=0.1 in c:\\users\\sumit\\anaconda3\\lib\\site-packages (from librosa) (0.2)\n",
      "Requirement already satisfied: msgpack>=1.0 in c:\\users\\sumit\\anaconda3\\lib\\site-packages (from librosa) (1.0.3)\n",
      "Requirement already satisfied: llvmlite<0.41,>=0.40.0dev0 in c:\\users\\sumit\\anaconda3\\lib\\site-packages (from numba>=0.51.0->librosa) (0.40.0)\n",
      "Requirement already satisfied: requests in c:\\users\\sumit\\anaconda3\\lib\\site-packages (from pooch>=1.0->librosa) (2.29.0)\n",
      "Requirement already satisfied: packaging in c:\\users\\sumit\\anaconda3\\lib\\site-packages (from pooch>=1.0->librosa) (23.0)\n",
      "Requirement already satisfied: appdirs in c:\\users\\sumit\\anaconda3\\lib\\site-packages (from pooch>=1.0->librosa) (1.4.4)\n",
      "Requirement already satisfied: threadpoolctl>=2.0.0 in c:\\users\\sumit\\anaconda3\\lib\\site-packages (from scikit-learn>=0.20.0->librosa) (2.2.0)\n",
      "Requirement already satisfied: cffi>=1.0 in c:\\users\\sumit\\anaconda3\\lib\\site-packages (from soundfile>=0.12.1->librosa) (1.15.1)\n",
      "Requirement already satisfied: pycparser in c:\\users\\sumit\\anaconda3\\lib\\site-packages (from cffi>=1.0->soundfile>=0.12.1->librosa) (2.21)\n",
      "Requirement already satisfied: charset-normalizer<4,>=2 in c:\\users\\sumit\\anaconda3\\lib\\site-packages (from requests->pooch>=1.0->librosa) (2.0.4)\n",
      "Requirement already satisfied: idna<4,>=2.5 in c:\\users\\sumit\\anaconda3\\lib\\site-packages (from requests->pooch>=1.0->librosa) (2.10)\n",
      "Requirement already satisfied: urllib3<1.27,>=1.21.1 in c:\\users\\sumit\\anaconda3\\lib\\site-packages (from requests->pooch>=1.0->librosa) (1.26.16)\n",
      "Requirement already satisfied: certifi>=2017.4.17 in c:\\users\\sumit\\anaconda3\\lib\\site-packages (from requests->pooch>=1.0->librosa) (2022.12.7)\n"
     ]
    }
   ],
   "source": [
    "! pip install librosa"
   ]
  },
  {
   "cell_type": "code",
   "execution_count": 40,
   "id": "fd61a02f",
   "metadata": {},
   "outputs": [
    {
     "name": "stdout",
     "output_type": "stream",
     "text": [
      "Collecting pyngrok\n",
      "  Using cached pyngrok-7.0.0-py3-none-any.whl\n",
      "Requirement already satisfied: PyYAML in c:\\users\\sumit\\appdata\\local\\programs\\python\\python311\\lib\\site-packages (from pyngrok) (6.0)\n",
      "Installing collected packages: pyngrok\n",
      "Successfully installed pyngrok-7.0.0\n"
     ]
    }
   ],
   "source": [
    "! pip install pyngrok"
   ]
  },
  {
   "cell_type": "code",
   "execution_count": 41,
   "id": "9441230a",
   "metadata": {},
   "outputs": [
    {
     "name": "stdout",
     "output_type": "stream",
     "text": [
      "Downloading ngrok ...\n",
      "Downloading ngrok: 0%\n",
      "Downloading ngrok: 1%\n",
      "Downloading ngrok: 2%\n",
      "Downloading ngrok: 3%\n",
      "Downloading ngrok: 4%\n",
      "Downloading ngrok: 5%\n",
      "Downloading ngrok: 6%\n",
      "Downloading ngrok: 7%\n",
      "Downloading ngrok: 8%\n",
      "Downloading ngrok: 9%\n",
      "Downloading ngrok: 10%\n",
      "Downloading ngrok: 11%\n",
      "Downloading ngrok: 12%\n",
      "Downloading ngrok: 13%\n",
      "Downloading ngrok: 14%\n",
      "Downloading ngrok: 15%\n",
      "Downloading ngrok: 16%\n",
      "Downloading ngrok: 17%\n",
      "Downloading ngrok: 18%\n",
      "Downloading ngrok: 19%\n",
      "Downloading ngrok: 20%\n",
      "Downloading ngrok: 21%\n",
      "Downloading ngrok: 22%\n",
      "Downloading ngrok: 23%\n",
      "Downloading ngrok: 24%\n",
      "Downloading ngrok: 25%\n",
      "Downloading ngrok: 26%\n",
      "Downloading ngrok: 27%\n",
      "Downloading ngrok: 28%\n",
      "Downloading ngrok: 29%\n",
      "Downloading ngrok: 30%\n",
      "Downloading ngrok: 31%\n",
      "Downloading ngrok: 32%\n",
      "Downloading ngrok: 33%\n",
      "Downloading ngrok: 34%\n",
      "Downloading ngrok: 35%\n",
      "Downloading ngrok: 36%\n",
      "Downloading ngrok: 37%\n",
      "Downloading ngrok: 38%\n",
      "Downloading ngrok: 39%\n",
      "Downloading ngrok: 40%\n",
      "Downloading ngrok: 41%\n",
      "Downloading ngrok: 42%\n",
      "Downloading ngrok: 43%\n",
      "Downloading ngrok: 44%\n",
      "Downloading ngrok: 45%\n",
      "Downloading ngrok: 46%\n",
      "Downloading ngrok: 47%\n",
      "Downloading ngrok: 48%\n",
      "Downloading ngrok: 49%\n",
      "Downloading ngrok: 50%\n",
      "Downloading ngrok: 51%\n",
      "Downloading ngrok: 52%\n",
      "Downloading ngrok: 53%\n",
      "Downloading ngrok: 54%\n",
      "Downloading ngrok: 55%\n",
      "Downloading ngrok: 56%\n",
      "Downloading ngrok: 57%\n",
      "Downloading ngrok: 58%\n",
      "Downloading ngrok: 59%\n",
      "Downloading ngrok: 60%\n",
      "Downloading ngrok: 61%\n",
      "Downloading ngrok: 62%\n",
      "Downloading ngrok: 63%\n",
      "Downloading ngrok: 64%\n",
      "Downloading ngrok: 65%\n",
      "Downloading ngrok: 66%\n",
      "Downloading ngrok: 67%\n",
      "Downloading ngrok: 68%\n",
      "Downloading ngrok: 69%\n",
      "Downloading ngrok: 70%\n",
      "Downloading ngrok: 71%\n",
      "Downloading ngrok: 72%\n",
      "Downloading ngrok: 73%\n",
      "Downloading ngrok: 74%\n",
      "Downloading ngrok: 75%\n",
      "Downloading ngrok: 76%\n",
      "Downloading ngrok: 77%\n",
      "Downloading ngrok: 78%\n",
      "Downloading ngrok: 79%\n",
      "Downloading ngrok: 80%\n",
      "Downloading ngrok: 81%\n",
      "Downloading ngrok: 82%\n",
      "Downloading ngrok: 83%\n",
      "Downloading ngrok: 84%\n",
      "Downloading ngrok: 85%\n",
      "Downloading ngrok: 86%\n",
      "Downloading ngrok: 87%\n",
      "Downloading ngrok: 88%\n",
      "Downloading ngrok: 89%\n",
      "Downloading ngrok: 90%\n",
      "Downloading ngrok: 91%\n",
      "Downloading ngrok: 92%\n",
      "Downloading ngrok: 93%\n",
      "Downloading ngrok: 94%\n",
      "Downloading ngrok: 95%\n",
      "Downloading ngrok: 96%\n",
      "Downloading ngrok: 97%\n",
      "Downloading ngrok: 98%\n",
      "Downloading ngrok: 99%\n",
      "Downloading ngrok: 100%\n",
      "                                                                                                    \n",
      "Installing ngrok ... \n",
      "                                                                                                    \n",
      "Authtoken saved to configuration file: C:\\Users\\Sumit\\.ngrok2\\ngrok.yml\n"
     ]
    }
   ],
   "source": [
    "! ngrok authtoken  2VtleInyVoLg5PIz7vFb8pOLxIq_2g3hxHSmjLNx7rATJMHei"
   ]
  },
  {
   "cell_type": "code",
   "execution_count": 43,
   "id": "19c5167e",
   "metadata": {},
   "outputs": [
    {
     "name": "stderr",
     "output_type": "stream",
     "text": [
      "'wget' is not recognized as an internal or external command,\n",
      "operable program or batch file.\n"
     ]
    }
   ],
   "source": [
    "! wget https://bin.equinox.io/c/4VmDzA7iaHb/ngrok-stable-linux-amd64.zip"
   ]
  },
  {
   "cell_type": "markdown",
   "id": "cd41952e",
   "metadata": {},
   "source": [
    "# second method for deployment of the app "
   ]
  },
  {
   "cell_type": "code",
   "execution_count": 44,
   "id": "f7d4045a",
   "metadata": {},
   "outputs": [
    {
     "name": "stderr",
     "output_type": "stream",
     "text": [
      "'unzip' is not recognized as an internal or external command,\n",
      "operable program or batch file.\n"
     ]
    }
   ],
   "source": [
    "! unzip ngrok-stable-linux-amd64.zip"
   ]
  },
  {
   "cell_type": "code",
   "execution_count": 45,
   "id": "676fc32a",
   "metadata": {},
   "outputs": [],
   "source": [
    "get_ipython().system_raw('./ngrok http 8501 &')"
   ]
  },
  {
   "cell_type": "code",
   "execution_count": 46,
   "id": "8e6c26df",
   "metadata": {},
   "outputs": [
    {
     "name": "stderr",
     "output_type": "stream",
     "text": [
      "Python was not found; run without arguments to install from the Microsoft Store, or disable this shortcut from Settings > Manage App Execution Aliases.\n"
     ]
    }
   ],
   "source": [
    "! curl -s http://localhost:4040/api/tunnels | python3 -c \\\n",
    "    'import sys, json; print(\"Execute the next cell and the go to the following URL: \" +json.load(sys.stdin)[\"tunnels\"][0][\"public_url\"])'"
   ]
  },
  {
   "cell_type": "code",
   "execution_count": null,
   "id": "bf076368",
   "metadata": {},
   "outputs": [],
   "source": [
    "%%writefile main.py\n",
    "\n",
    "import streamlit as st\n",
    "import tensorflow as tf\n",
    "import streamlit as st\n",
    "import librosa\n",
    "import numpy as np\n",
    "from sklearn.preprocessing import LabelEncoder\n",
    "from keras.utils import to_categorical\n",
    "from gtts import gTTS\n",
    "import os\n",
    "\n",
    "# Function to load the model\n",
    "@st.cache_resource()\n",
    "def load_model():\n",
    "    model = tf.keras.models.load_model('saved_models/audio_classification.hdf5')\n",
    "    return model\n",
    "\n",
    "# Set page title and favicon\n",
    "st.set_page_config(\n",
    "    page_title=\"Audio Classification Web App\",\n",
    "    page_icon=\"🔊\"\n",
    ")\n",
    "\n",
    "# Loading the model\n",
    "with st.spinner('Model is being loaded..'):\n",
    "    model = load_model()\n",
    "\n",
    "# Set app title and description\n",
    "st.title(\"Audio Classification Web App\")\n",
    "st.write(\"Upload an audio file and the app will predict its class.\")\n",
    "\n",
    "# Upload file and classify\n",
    "uploaded_file = st.sidebar.file_uploader(\"Choose an audio file...\", type=[\"wav\", \"mp3\"])\n",
    "\n",
    "# Initialize label encoder\n",
    "labelencoder = LabelEncoder()\n",
    "\n",
    "# Assuming you have a list of target labels, let's call it `target_labels`\n",
    "target_labels = ['air_conditioner', 'car_horn', 'children_playing', 'dog_bark', 'drilling', 'engine_idling', 'gun_shot', 'jackhammer', 'siren', 'street_music']  # Replace with your actual labels\n",
    "labelencoder.fit(target_labels)\n",
    "\n",
    "# Define function to import and predict\n",
    "def import_and_predict(uploaded_file, model, labelencoder):\n",
    "    audio, sample_rate = librosa.load(uploaded_file , res_type='soxr_hq')\n",
    "    mfccs_features = librosa.feature.mfcc(y=audio, sr=sample_rate, n_mfcc=40)\n",
    "    mfccs_scaled_features = np.mean(mfccs_features.T, axis=0)\n",
    "    mfccs_scaled_features = mfccs_scaled_features.reshape(1, -1)\n",
    "    predicted_label = model.predict(mfccs_scaled_features)\n",
    "    prediction_class = labelencoder.inverse_transform(np.argmax(predicted_label, axis=1))\n",
    "    return prediction_class[0]\n",
    "\n",
    "if uploaded_file is not None:\n",
    "    # Predict the class and convert prediction to speech\n",
    "    predicted_class = import_and_predict(uploaded_file, model, labelencoder)\n",
    "    tts = gTTS(text=f\"The predicted class is {predicted_class}\", lang='en')\n",
    "    tts.save(\"prediction.mp3\")\n",
    "\n",
    "    # Play the audio\n",
    "    os.system(\"start prediction.mp3\")\n",
    "    \n",
    "    # Display the predicted class with enhanced styling\n",
    "    st.markdown(f\"<h1 style='text-align: center; color: blue;'>Predicted Class: {predicted_class}</h1>\", unsafe_allow_html=True)\n"
   ]
  },
  {
   "cell_type": "code",
   "execution_count": 47,
   "id": "26240bab",
   "metadata": {},
   "outputs": [
    {
     "name": "stdout",
     "output_type": "stream",
     "text": [
      "Overwriting main.py\n"
     ]
    }
   ],
   "source": [
    "%%writefile main.py\n",
    "\n",
    "import streamlit as st\n",
    "import tensorflow as tf\n",
    "import streamlit as st\n",
    "import librosa\n",
    "import numpy as np\n",
    "from sklearn.preprocessing import LabelEncoder\n",
    "from keras.utils import to_categorical\n",
    "from gtts import gTTS\n",
    "import os\n",
    "from twilio.rest import Client\n",
    "\n",
    "# Load your pre-trained model\n",
    "model = tf.keras.models.load_model('saved_models/audio_classification.hdf5')\n",
    "\n",
    "# Function to load the model\n",
    "@st.cache_resource()\n",
    "def load_model():\n",
    "    model = tf.keras.models.load_model('saved_models/audio_classification.hdf5')\n",
    "    return model\n",
    "\n",
    "# Set page title and favicon\n",
    "st.set_page_config(\n",
    "    page_title=\"Audio Classification Web App\",\n",
    "    page_icon=\"🔊\"\n",
    ")\n",
    "\n",
    "# Loading the model\n",
    "with st.spinner('Model is being loaded..'):\n",
    "    model = load_model()\n",
    "\n",
    "# Set app title and description\n",
    "st.title(\"Audio Classification Web App\")\n",
    "st.write(\"Upload an audio file and the app will predict its class.\")\n",
    "\n",
    "# Upload file and classify\n",
    "uploaded_file = st.sidebar.file_uploader(\"Choose an audio file...\", type=[\"wav\", \"mp3\"])\n",
    "\n",
    "# Initialize label encoder\n",
    "labelencoder = LabelEncoder()\n",
    "\n",
    "# Assuming you have a list of target labels, let's call it `target_labels`\n",
    "target_labels = ['air_conditioner', 'car_horn', 'children_playing', 'dog_bark', 'drilling', 'engine_idling', 'gun_shot', 'jackhammer', 'siren', 'street_music']  # Replace with your actual labels\n",
    "labelencoder.fit(target_labels)\n",
    "\n",
    "# Define function to import and predict\n",
    "def import_and_predict(uploaded_file, model, labelencoder):\n",
    "    audio, sample_rate = librosa.load(uploaded_file , res_type='soxr_hq')\n",
    "    mfccs_features = librosa.feature.mfcc(y=audio, sr=sample_rate, n_mfcc=40)\n",
    "    mfccs_scaled_features = np.mean(mfccs_features.T, axis=0)\n",
    "    mfccs_scaled_features = mfccs_scaled_features.reshape(1, -1)\n",
    "    predicted_label = model.predict(mfccs_scaled_features)\n",
    "    prediction_class = labelencoder.inverse_transform(np.argmax(predicted_label, axis=1))\n",
    "    return prediction_class[0]\n",
    "\n",
    "# Function to send SMS\n",
    "def send_sms(class_name):\n",
    "    account_sid = 'ACff147d01dc4a8cbf2bc6f72da95298a0'\n",
    "    auth_token = 'd3c9fa9ad4cf44783498d34b65e8f5b1'\n",
    "    client = Client(account_sid, auth_token)\n",
    "\n",
    "    message = client.messages.create(\n",
    "      from_='+12565675992',\n",
    "      body=f'The predicted class is {class_name}',\n",
    "      to='+919665182219'\n",
    "    )\n",
    "\n",
    "    return message.sid\n",
    "\n",
    "if uploaded_file is not None:\n",
    "    # Predict the class and convert prediction to speech\n",
    "    predicted_class = import_and_predict(uploaded_file, model, labelencoder)\n",
    "    tts = gTTS(text=f\"The predicted class is {predicted_class}\", lang='en')\n",
    "    tts.save(\"prediction.mp3\")\n",
    "\n",
    "    # Play the audio\n",
    "    os.system(\"start prediction.mp3\")\n",
    "    \n",
    "    # Display the predicted class with enhanced styling\n",
    "    st.markdown(f\"<h1 style='text-align: center; color: blue;'>Predicted Class: {predicted_class}</h1>\", unsafe_allow_html=True)\n",
    "    \n",
    "    # Send SMS\n",
    "    message_sid = send_sms(predicted_class)\n",
    "    st.write(f\"SMS Sent. Message SID: {message_sid}\")\n"
   ]
  },
  {
   "cell_type": "markdown",
   "id": "2a3eaf79",
   "metadata": {},
   "source": [
    "used your own account_sid and token (create account on twilio)\n",
    "used for sending the msg"
   ]
  },
  {
   "cell_type": "code",
   "execution_count": 116,
   "id": "e61a61ec",
   "metadata": {},
   "outputs": [
    {
     "name": "stdout",
     "output_type": "stream",
     "text": [
      "SMb7eeb49ce01afb7b44748e58d06da20d\n"
     ]
    }
   ],
   "source": [
    "from twilio.rest import Client\n",
    "\n",
    "account_sid = 'ACff147d01dc4a8cbf2bc6f72da95298a0'\n",
    "auth_token = 'd3c9fa9ad4cf44783498d34b65e8f5b1'\n",
    "client = Client(account_sid, auth_token)\n",
    "\n",
    "message = client.messages.create(\n",
    "  from_='+12565675992',\n",
    "  body='heelo this side sumit',\n",
    "  to='+919665182219'\n",
    ")\n",
    "\n",
    "print(message.sid)"
   ]
  },
  {
   "cell_type": "code",
   "execution_count": 48,
   "id": "0133c175",
   "metadata": {},
   "outputs": [
    {
     "name": "stdout",
     "output_type": "stream",
     "text": [
      "Requirement already satisfied: twilio in c:\\users\\sumit\\appdata\\local\\programs\\python\\python311\\lib\\site-packages (8.9.0)\n",
      "Requirement already satisfied: pytz in c:\\users\\sumit\\appdata\\local\\programs\\python\\python311\\lib\\site-packages (from twilio) (2022.7.1)\n",
      "Requirement already satisfied: requests>=2.0.0 in c:\\users\\sumit\\appdata\\local\\programs\\python\\python311\\lib\\site-packages (from twilio) (2.28.2)\n",
      "Requirement already satisfied: PyJWT<3.0.0,>=2.0.0 in c:\\users\\sumit\\appdata\\local\\programs\\python\\python311\\lib\\site-packages (from twilio) (2.8.0)\n",
      "Requirement already satisfied: aiohttp>=3.8.4 in c:\\users\\sumit\\appdata\\local\\programs\\python\\python311\\lib\\site-packages (from twilio) (3.8.5)\n",
      "Requirement already satisfied: aiohttp-retry>=2.8.3 in c:\\users\\sumit\\appdata\\local\\programs\\python\\python311\\lib\\site-packages (from twilio) (2.8.3)\n",
      "Requirement already satisfied: attrs>=17.3.0 in c:\\users\\sumit\\appdata\\local\\programs\\python\\python311\\lib\\site-packages (from aiohttp>=3.8.4->twilio) (22.2.0)\n",
      "Requirement already satisfied: charset-normalizer<4.0,>=2.0 in c:\\users\\sumit\\appdata\\local\\programs\\python\\python311\\lib\\site-packages (from aiohttp>=3.8.4->twilio) (3.0.1)\n",
      "Requirement already satisfied: multidict<7.0,>=4.5 in c:\\users\\sumit\\appdata\\local\\programs\\python\\python311\\lib\\site-packages (from aiohttp>=3.8.4->twilio) (6.0.4)\n",
      "Requirement already satisfied: async-timeout<5.0,>=4.0.0a3 in c:\\users\\sumit\\appdata\\local\\programs\\python\\python311\\lib\\site-packages (from aiohttp>=3.8.4->twilio) (4.0.3)\n",
      "Requirement already satisfied: yarl<2.0,>=1.0 in c:\\users\\sumit\\appdata\\local\\programs\\python\\python311\\lib\\site-packages (from aiohttp>=3.8.4->twilio) (1.9.2)\n",
      "Requirement already satisfied: frozenlist>=1.1.1 in c:\\users\\sumit\\appdata\\local\\programs\\python\\python311\\lib\\site-packages (from aiohttp>=3.8.4->twilio) (1.4.0)\n",
      "Requirement already satisfied: aiosignal>=1.1.2 in c:\\users\\sumit\\appdata\\local\\programs\\python\\python311\\lib\\site-packages (from aiohttp>=3.8.4->twilio) (1.3.1)\n",
      "Requirement already satisfied: idna<4,>=2.5 in c:\\users\\sumit\\appdata\\local\\programs\\python\\python311\\lib\\site-packages (from requests>=2.0.0->twilio) (3.4)\n",
      "Requirement already satisfied: urllib3<1.27,>=1.21.1 in c:\\users\\sumit\\appdata\\local\\programs\\python\\python311\\lib\\site-packages (from requests>=2.0.0->twilio) (1.26.14)\n",
      "Requirement already satisfied: certifi>=2017.4.17 in c:\\users\\sumit\\appdata\\local\\programs\\python\\python311\\lib\\site-packages (from requests>=2.0.0->twilio) (2022.12.7)\n"
     ]
    }
   ],
   "source": [
    "! pip install twilio"
   ]
  },
  {
   "cell_type": "code",
   "execution_count": 118,
   "id": "7d472dda",
   "metadata": {},
   "outputs": [
    {
     "name": "stdout",
     "output_type": "stream",
     "text": [
      "Requirement already satisfied: streamlit in c:\\users\\sumit\\anaconda3\\lib\\site-packages (1.27.0)\n",
      "Requirement already satisfied: altair<6,>=4.0 in c:\\users\\sumit\\anaconda3\\lib\\site-packages (from streamlit) (5.1.1)\n",
      "Requirement already satisfied: blinker<2,>=1.0.0 in c:\\users\\sumit\\anaconda3\\lib\\site-packages (from streamlit) (1.6.2)\n",
      "Requirement already satisfied: cachetools<6,>=4.0 in c:\\users\\sumit\\anaconda3\\lib\\site-packages (from streamlit) (5.3.1)\n",
      "Requirement already satisfied: click<9,>=7.0 in c:\\users\\sumit\\anaconda3\\lib\\site-packages (from streamlit) (8.0.4)\n",
      "Requirement already satisfied: importlib-metadata<7,>=1.4 in c:\\users\\sumit\\anaconda3\\lib\\site-packages (from streamlit) (6.0.0)\n",
      "Requirement already satisfied: numpy<2,>=1.19.3 in c:\\users\\sumit\\anaconda3\\lib\\site-packages (from streamlit) (1.24.3)\n",
      "Requirement already satisfied: packaging<24,>=16.8 in c:\\users\\sumit\\anaconda3\\lib\\site-packages (from streamlit) (23.0)\n",
      "Requirement already satisfied: pandas<3,>=1.3.0 in c:\\users\\sumit\\anaconda3\\lib\\site-packages (from streamlit) (1.5.3)\n",
      "Requirement already satisfied: pillow<10,>=7.1.0 in c:\\users\\sumit\\anaconda3\\lib\\site-packages (from streamlit) (9.4.0)\n",
      "Requirement already satisfied: protobuf<5,>=3.20 in c:\\users\\sumit\\anaconda3\\lib\\site-packages (from streamlit) (4.24.2)\n",
      "Requirement already satisfied: pyarrow>=6.0 in c:\\users\\sumit\\anaconda3\\lib\\site-packages (from streamlit) (11.0.0)\n",
      "Requirement already satisfied: python-dateutil<3,>=2.7.3 in c:\\users\\sumit\\anaconda3\\lib\\site-packages (from streamlit) (2.8.2)\n",
      "Requirement already satisfied: requests<3,>=2.18 in c:\\users\\sumit\\anaconda3\\lib\\site-packages (from streamlit) (2.29.0)\n",
      "Requirement already satisfied: rich<14,>=10.14.0 in c:\\users\\sumit\\anaconda3\\lib\\site-packages (from streamlit) (13.5.3)\n",
      "Requirement already satisfied: tenacity<9,>=8.1.0 in c:\\users\\sumit\\anaconda3\\lib\\site-packages (from streamlit) (8.2.2)\n",
      "Requirement already satisfied: toml<2,>=0.10.1 in c:\\users\\sumit\\anaconda3\\lib\\site-packages (from streamlit) (0.10.2)\n",
      "Requirement already satisfied: typing-extensions<5,>=4.1.0 in c:\\users\\sumit\\anaconda3\\lib\\site-packages (from streamlit) (4.8.0)\n",
      "Requirement already satisfied: tzlocal<6,>=1.1 in c:\\users\\sumit\\anaconda3\\lib\\site-packages (from streamlit) (5.0.1)\n",
      "Requirement already satisfied: validators<1,>=0.2 in c:\\users\\sumit\\anaconda3\\lib\\site-packages (from streamlit) (0.22.0)\n",
      "Requirement already satisfied: gitpython!=3.1.19,<4,>=3.0.7 in c:\\users\\sumit\\anaconda3\\lib\\site-packages (from streamlit) (3.1.37)\n",
      "Requirement already satisfied: pydeck<1,>=0.8.0b4 in c:\\users\\sumit\\anaconda3\\lib\\site-packages (from streamlit) (0.8.1b0)\n",
      "Requirement already satisfied: tornado<7,>=6.0.3 in c:\\users\\sumit\\anaconda3\\lib\\site-packages (from streamlit) (6.2)\n",
      "Requirement already satisfied: watchdog>=2.1.5 in c:\\users\\sumit\\anaconda3\\lib\\site-packages (from streamlit) (2.1.6)\n",
      "Requirement already satisfied: jinja2 in c:\\users\\sumit\\anaconda3\\lib\\site-packages (from altair<6,>=4.0->streamlit) (3.1.2)\n",
      "Requirement already satisfied: jsonschema>=3.0 in c:\\users\\sumit\\anaconda3\\lib\\site-packages (from altair<6,>=4.0->streamlit) (4.17.3)\n",
      "Requirement already satisfied: toolz in c:\\users\\sumit\\anaconda3\\lib\\site-packages (from altair<6,>=4.0->streamlit) (0.12.0)\n",
      "Requirement already satisfied: colorama in c:\\users\\sumit\\anaconda3\\lib\\site-packages (from click<9,>=7.0->streamlit) (0.4.6)\n",
      "Requirement already satisfied: gitdb<5,>=4.0.1 in c:\\users\\sumit\\anaconda3\\lib\\site-packages (from gitpython!=3.1.19,<4,>=3.0.7->streamlit) (4.0.10)\n",
      "Requirement already satisfied: zipp>=0.5 in c:\\users\\sumit\\anaconda3\\lib\\site-packages (from importlib-metadata<7,>=1.4->streamlit) (3.11.0)\n",
      "Requirement already satisfied: pytz>=2020.1 in c:\\users\\sumit\\anaconda3\\lib\\site-packages (from pandas<3,>=1.3.0->streamlit) (2022.7)\n",
      "Requirement already satisfied: six>=1.5 in c:\\users\\sumit\\anaconda3\\lib\\site-packages (from python-dateutil<3,>=2.7.3->streamlit) (1.16.0)\n",
      "Requirement already satisfied: charset-normalizer<4,>=2 in c:\\users\\sumit\\anaconda3\\lib\\site-packages (from requests<3,>=2.18->streamlit) (2.0.4)\n",
      "Requirement already satisfied: idna<4,>=2.5 in c:\\users\\sumit\\anaconda3\\lib\\site-packages (from requests<3,>=2.18->streamlit) (2.10)\n",
      "Requirement already satisfied: urllib3<1.27,>=1.21.1 in c:\\users\\sumit\\anaconda3\\lib\\site-packages (from requests<3,>=2.18->streamlit) (1.26.16)\n",
      "Requirement already satisfied: certifi>=2017.4.17 in c:\\users\\sumit\\anaconda3\\lib\\site-packages (from requests<3,>=2.18->streamlit) (2022.12.7)\n",
      "Requirement already satisfied: markdown-it-py>=2.2.0 in c:\\users\\sumit\\anaconda3\\lib\\site-packages (from rich<14,>=10.14.0->streamlit) (2.2.0)\n",
      "Requirement already satisfied: pygments<3.0.0,>=2.13.0 in c:\\users\\sumit\\anaconda3\\lib\\site-packages (from rich<14,>=10.14.0->streamlit) (2.15.1)\n",
      "Requirement already satisfied: tzdata in c:\\users\\sumit\\anaconda3\\lib\\site-packages (from tzlocal<6,>=1.1->streamlit) (2023.3)\n",
      "Requirement already satisfied: smmap<6,>=3.0.1 in c:\\users\\sumit\\anaconda3\\lib\\site-packages (from gitdb<5,>=4.0.1->gitpython!=3.1.19,<4,>=3.0.7->streamlit) (5.0.1)\n",
      "Requirement already satisfied: MarkupSafe>=2.0 in c:\\users\\sumit\\anaconda3\\lib\\site-packages (from jinja2->altair<6,>=4.0->streamlit) (2.1.1)\n",
      "Requirement already satisfied: attrs>=17.4.0 in c:\\users\\sumit\\anaconda3\\lib\\site-packages (from jsonschema>=3.0->altair<6,>=4.0->streamlit) (22.1.0)\n",
      "Requirement already satisfied: pyrsistent!=0.17.0,!=0.17.1,!=0.17.2,>=0.14.0 in c:\\users\\sumit\\anaconda3\\lib\\site-packages (from jsonschema>=3.0->altair<6,>=4.0->streamlit) (0.18.0)\n",
      "Requirement already satisfied: mdurl~=0.1 in c:\\users\\sumit\\anaconda3\\lib\\site-packages (from markdown-it-py>=2.2.0->rich<14,>=10.14.0->streamlit) (0.1.0)\n"
     ]
    }
   ],
   "source": [
    "! pip install streamlit"
   ]
  },
  {
   "cell_type": "code",
   "execution_count": 119,
   "id": "fc601c3b",
   "metadata": {},
   "outputs": [
    {
     "name": "stderr",
     "output_type": "stream",
     "text": [
      "ERROR: You must give at least one requirement to install (see \"pip help install\")\n"
     ]
    }
   ],
   "source": [
    "! pip install"
   ]
  },
  {
   "cell_type": "code",
   "execution_count": 120,
   "id": "3dc76c5d",
   "metadata": {},
   "outputs": [
    {
     "name": "stderr",
     "output_type": "stream",
     "text": [
      "ERROR: You must give at least one requirement to install (see \"pip help install\")\n"
     ]
    }
   ],
   "source": [
    "! pip install --upgrade"
   ]
  },
  {
   "cell_type": "code",
   "execution_count": 121,
   "id": "efbad731",
   "metadata": {},
   "outputs": [
    {
     "name": "stdout",
     "output_type": "stream",
     "text": [
      "Requirement already satisfied: numpy in c:\\users\\sumit\\anaconda3\\lib\\site-packages (1.24.3)\n"
     ]
    }
   ],
   "source": [
    "! pip install numpy"
   ]
  },
  {
   "cell_type": "code",
   "execution_count": 54,
   "id": "f15e67c6",
   "metadata": {},
   "outputs": [
    {
     "name": "stdout",
     "output_type": "stream",
     "text": [
      "Overwriting main.py\n"
     ]
    }
   ],
   "source": [
    "%%writefile main.py \n",
    "\n",
    "import streamlit as st\n",
    "import tensorflow as tf\n",
    "import librosa\n",
    "import numpy as np\n",
    "from sklearn.preprocessing import LabelEncoder\n",
    "from keras.utils import to_categorical\n",
    "from gtts import gTTS\n",
    "import os\n",
    "from twilio.rest import Client\n",
    "import sounddevice as sd\n",
    "from IPython.display import Audio\n",
    "\n",
    "\n",
    "# Function to load the model\n",
    "@st.cache_resource()\n",
    "def load_model():\n",
    "    model = tf.keras.models.load_model('model/audio_classification.hdf5')\n",
    "    return model\n",
    "\n",
    "# Set page title and favicon\n",
    "st.set_page_config(\n",
    "    page_title=\"Audio Classification Web App\",\n",
    "    page_icon=\"🔊\"\n",
    ")\n",
    "\n",
    "# Loading the model\n",
    "with st.spinner('Model is being loaded..'):\n",
    "    model = load_model()\n",
    "\n",
    "# Set app title and description\n",
    "st.title(\"Audio Classification Web App\")\n",
    "st.write(\"Upload an audio file or record audio and the app will predict its class.\")\n",
    "\n",
    "# Sidebar option to choose between file upload and audio recording\n",
    "option = st.sidebar.selectbox(\"Choose Input Method\", [\"Upload File\", \"Record Audio\"])\n",
    "\n",
    "# Initialize label encoder\n",
    "labelencoder = LabelEncoder()\n",
    "\n",
    "# Assuming you have a list of target labels, let's call it `target_labels`\n",
    "target_labels = ['dog_bark', 'children_playing', 'car_horn', 'air_conditioner',\n",
    "       'street_music', 'gun_shot', 'siren', 'engine_idling', 'jackhammer',\n",
    "       'drilling', 'Bell', 'Saurav', 'Sumit', 'Chirag ', 'Chirag']\n",
    "labelencoder.fit(target_labels)\n",
    "\n",
    "# Define function to import and predict\n",
    "def import_and_predict(uploaded_file, model, labelencoder):\n",
    "    audio, sample_rate = librosa.load(uploaded_file , res_type='soxr_hq')\n",
    "    mfccs_features = librosa.feature.mfcc(y=audio, sr=sample_rate, n_mfcc=40)\n",
    "    mfccs_scaled_features = np.mean(mfccs_features.T, axis=0)\n",
    "    mfccs_scaled_features = mfccs_scaled_features.reshape(1, -1)\n",
    "    predicted_label = model.predict(mfccs_scaled_features)\n",
    "    prediction_class = labelencoder.inverse_transform(np.argmax(predicted_label, axis=1))\n",
    "    return prediction_class[0]\n",
    "\n",
    "# Function to send SMS\n",
    "def send_sms(class_name):\n",
    "    account_sid = 'ACff147d01dc4a8cbf2bc6f72da95298a0'\n",
    "    auth_token = 'd3c9fa9ad4cf44783498d34b65e8f5b1'\n",
    "    client = Client(account_sid, auth_token)\n",
    "\n",
    "    message = client.messages.create(\n",
    "      from_='+12565675992',\n",
    "      body=f'The predicted class is {class_name}',\n",
    "      to='+919665182219'\n",
    "    )\n",
    "\n",
    "    print(message.sid)\n",
    "\n",
    "\n",
    "\n",
    "# ... (rest of your code)\n",
    "\n",
    "from io import BytesIO\n",
    "\n",
    "# ... (rest of your code)\n",
    "\n",
    "if option == \"Upload File\":\n",
    "    # Upload file and classify\n",
    "    uploaded_file = st.sidebar.file_uploader(\"Choose an audio file...\", type=[\"wav\", \"mp3\"])\n",
    "\n",
    "    if uploaded_file is not None:\n",
    "        # Predict the class and convert prediction to speech\n",
    "        predicted_class = import_and_predict(uploaded_file, model, labelencoder)\n",
    "        tts = gTTS(text=f\"{predicted_class}\", lang='en')\n",
    "        tts.save(\"prediction.mp3\")\n",
    "\n",
    "        # Display the predicted class with enhanced styling\n",
    "        st.markdown(f\"<h1 style='text-align: center; color: blue;'>Predicted Class: {predicted_class}</h1>\", unsafe_allow_html=True)\n",
    "\n",
    "        # Send SMS\n",
    "        message_sid = send_sms(predicted_class)\n",
    "\n",
    "        # Play the audio using HTML5 audio tag\n",
    "        audio_file = open(\"prediction.mp3\", \"rb\").read()\n",
    "        b64_audio = base64.b64encode(audio_file).decode()\n",
    "        st.audio(audio_file, format='audio/mp3', start_time=0, autoplay=True)\n",
    "\n",
    "        st.write(f\"SMS Sent. Message SID: {message_sid}\")\n",
    "\n",
    "# ... (rest of your code)\n",
    "\n",
    "\n",
    "elif option == \"Record Audio\":\n",
    "    # Define the sample rate (sr) for audio processing\n",
    "    sr = 44100  # You may need to adjust this based on your specific use case\n",
    "    \n",
    "    # Function to record audio\n",
    "    def record_audio(duration):\n",
    "        try:\n",
    "            audio = sd.rec(int(sr * duration), samplerate=sr, channels=1, dtype='float32')\n",
    "            sd.wait()\n",
    "            return audio.flatten()\n",
    "        except Exception as e:\n",
    "            print(f\"Error occurred while recording audio: {e}\")\n",
    "            return None\n",
    "\n",
    "    # Record audio button\n",
    "    duration = 10  # Adjust the recording duration as needed\n",
    "    audio_data = record_audio(duration)\n",
    "    print(\"Audio recorded.\")\n",
    "\n",
    "    # Extract MFCC features\n",
    "    mfcc_features = librosa.feature.mfcc(y=audio_data, sr=sr, n_mfcc=40)\n",
    "    mfccs_scaled_features = np.mean(mfcc_features.T, axis=0)\n",
    "    mfccs_scaled_features = mfccs_scaled_features.reshape(1, -1)\n",
    "\n",
    "    # Make a prediction using your model\n",
    "    predicted_label = model.predict(mfccs_scaled_features)\n",
    "\n",
    "    # Assuming `labelencoder` is already defined\n",
    "    prediction_class = labelencoder.inverse_transform(np.argmax(predicted_label, axis=1))[0]\n",
    "\n",
    "    # Convert prediction to speech\n",
    "    tts = gTTS(text=f\"{prediction_class}\", lang='en')\n",
    "    tts.save(\"prediction.mp3\")\n",
    "\n",
    "    # Play the audio using HTML audio element\n",
    "    audio_file = open(\"prediction.mp3\", \"rb\").read()\n",
    "    st.audio(audio_file, format=\"audio/mp3\")\n",
    "\n",
    "    # Send SMS\n",
    "    message_sid = send_sms(prediction_class)\n",
    "    print(f\"SMS Sent. Message SID: {message_sid}\")\n"
   ]
  },
  {
   "cell_type": "code",
   "execution_count": 51,
   "id": "ba8db1a4",
   "metadata": {},
   "outputs": [
    {
     "name": "stdout",
     "output_type": "stream",
     "text": [
      "Collecting gTTSNote: you may need to restart the kernel to use updated packages.\n",
      "\n",
      "  Using cached gTTS-2.3.2-py3-none-any.whl (28 kB)\n",
      "Requirement already satisfied: requests<3,>=2.27 in c:\\users\\sumit\\appdata\\local\\programs\\python\\python311\\lib\\site-packages (from gTTS) (2.28.2)\n",
      "Requirement already satisfied: click<8.2,>=7.1 in c:\\users\\sumit\\appdata\\local\\programs\\python\\python311\\lib\\site-packages (from gTTS) (8.1.3)\n",
      "Requirement already satisfied: colorama in c:\\users\\sumit\\appdata\\local\\programs\\python\\python311\\lib\\site-packages (from click<8.2,>=7.1->gTTS) (0.4.6)\n",
      "Requirement already satisfied: charset-normalizer<4,>=2 in c:\\users\\sumit\\appdata\\local\\programs\\python\\python311\\lib\\site-packages (from requests<3,>=2.27->gTTS) (3.0.1)\n",
      "Requirement already satisfied: idna<4,>=2.5 in c:\\users\\sumit\\appdata\\local\\programs\\python\\python311\\lib\\site-packages (from requests<3,>=2.27->gTTS) (3.4)\n",
      "Requirement already satisfied: urllib3<1.27,>=1.21.1 in c:\\users\\sumit\\appdata\\local\\programs\\python\\python311\\lib\\site-packages (from requests<3,>=2.27->gTTS) (1.26.14)\n",
      "Requirement already satisfied: certifi>=2017.4.17 in c:\\users\\sumit\\appdata\\local\\programs\\python\\python311\\lib\\site-packages (from requests<3,>=2.27->gTTS) (2022.12.7)\n",
      "Installing collected packages: gTTS\n",
      "Successfully installed gTTS-2.3.2\n"
     ]
    }
   ],
   "source": [
    "pip install gTTS\n"
   ]
  },
  {
   "cell_type": "markdown",
   "id": "b125c75d",
   "metadata": {},
   "source": [
    "final web app code! using streamlit "
   ]
  },
  {
   "cell_type": "code",
   "execution_count": 1,
   "id": "cfab89e9",
   "metadata": {},
   "outputs": [
    {
     "name": "stdout",
     "output_type": "stream",
     "text": [
      "Overwriting test.py\n"
     ]
    }
   ],
   "source": [
    "%%writefile test.py\n",
    "\n",
    "import streamlit as st\n",
    "import tensorflow as tf\n",
    "import librosa\n",
    "import numpy as np\n",
    "from sklearn.preprocessing import LabelEncoder\n",
    "from keras.utils import to_categorical\n",
    "from gtts import gTTS\n",
    "import os\n",
    "from twilio.rest import Client\n",
    "import sounddevice as sd\n",
    "\n",
    "# Function to load the model\n",
    "@st.cache_resource()\n",
    "def load_model():\n",
    "    model = tf.keras.models.load_model('model/audio_classification.hdf5')\n",
    "    return model\n",
    "\n",
    "# Set page title and favicon\n",
    "st.set_page_config(\n",
    "    page_title=\"Audio Classification Web App\",\n",
    "    page_icon=\"🔊\"\n",
    ")\n",
    "\n",
    "# Loading the model\n",
    "with st.spinner('Model is being loaded..'):\n",
    "    model = load_model()\n",
    "\n",
    "# Set app title and description\n",
    "st.title(\"Audio Classification Web App\")\n",
    "st.write(\"Upload an audio file or record audio and the app will predict its class.\")\n",
    "\n",
    "# Sidebar option to choose between file upload and audio recording\n",
    "option = st.sidebar.selectbox(\"Choose Input Method\", [\"Upload File\", \"Record Audio\"])\n",
    "\n",
    "# Initialize label encoder\n",
    "labelencoder = LabelEncoder()\n",
    "\n",
    "# Assuming you have a list of target labels, let's call it `target_labels`\n",
    "target_labels = ['dog_bark', 'children_playing', 'car_horn', 'air_conditioner',\n",
    "       'street_music', 'gun_shot', 'siren', 'engine_idling', 'jackhammer',\n",
    "       'drilling', 'Bell', 'Saurav', 'Sumit', 'Chirag ', 'Chirag']\n",
    "labelencoder.fit(target_labels)\n",
    "\n",
    "# Define function to import and predict\n",
    "def import_and_predict(uploaded_file, model, labelencoder):\n",
    "    audio, sample_rate = librosa.load(uploaded_file , res_type='soxr_hq')\n",
    "    mfccs_features = librosa.feature.mfcc(y=audio, sr=sample_rate, n_mfcc=40)\n",
    "    mfccs_scaled_features = np.mean(mfccs_features.T, axis=0)\n",
    "    mfccs_scaled_features = mfccs_scaled_features.reshape(1, -1)\n",
    "    predicted_label = model.predict(mfccs_scaled_features)\n",
    "    prediction_class = labelencoder.inverse_transform(np.argmax(predicted_label, axis=1))\n",
    "    return prediction_class[0]\n",
    "\n",
    "# Function to send SMS\n",
    "def send_sms(class_name):\n",
    "    account_sid = 'AC3c9f03c6cd28df08212e81683d3b8b26'\n",
    "    auth_token = '35307fce148840ea36a85ff9f3d5fa21'\n",
    "    client = Client(account_sid, auth_token)\n",
    "\n",
    "    message = client.messages.create(\n",
    "      from_='+12512209585 ',\n",
    "      body=f'The predicted class is {class_name}',\n",
    "      to='+919594541002'\n",
    "    )\n",
    "\n",
    "    print(message.sid)\n",
    "\n",
    " \n",
    "\n",
    "\n",
    "if option == \"Upload File\":\n",
    "    # Upload file and classify\n",
    "    uploaded_file = st.sidebar.file_uploader(\"Choose an audio file...\", type=[\"wav\", \"mp3\"])\n",
    "\n",
    "    if uploaded_file is not None:\n",
    "        # Predict the class and convert prediction to speech\n",
    "        predicted_class = import_and_predict(uploaded_file, model, labelencoder)\n",
    "        tts = gTTS(text=f\"  {predicted_class}\", lang='en')\n",
    "        tts.save(\"prediction.mp3\")\n",
    "\n",
    "        # Play the audio\n",
    "        os.system(\"start prediction.mp3\")\n",
    "\n",
    "        # Display the predicted class with enhanced styling\n",
    "        st.markdown(f\"<h1 style='text-align: center; color: blue;'>Predicted Class: {predicted_class}</h1>\", unsafe_allow_html=True)\n",
    "\n",
    "        # Send SMS\n",
    "        message_sid = send_sms(predicted_class)\n",
    "        st.write(f\"SMS Sent. Message SID: {message_sid}\")\n",
    "\n",
    "elif option == \"Record Audio\":\n",
    "    # Define the sample rate (sr) for audio processing\n",
    "    sr = 44100  # You may need to adjust this based on your specific use case\n",
    "\n",
    "    \n",
    "# Function to record audio\n",
    "    def record_audio(duration):\n",
    "        try:\n",
    "            audio = sd.rec(int(sr * duration), samplerate=sr, channels=1, dtype='float32')\n",
    "            sd.wait()\n",
    "            return audio.flatten()\n",
    "        except Exception as e:\n",
    "            print(f\"Error occurred while recording audio: {e}\")\n",
    "            return None\n",
    "\n",
    "\n",
    "\n",
    "    # Record audio button\n",
    "    duration = 10  # Adjust the recording duration as needed\n",
    "    audio_data = record_audio(duration)\n",
    "    print(\"Audio recorded.\")\n",
    "\n",
    "    # Extract MFCC features\n",
    "    mfcc_features = librosa.feature.mfcc(y=audio_data, sr=sr, n_mfcc=40)\n",
    "    mfccs_scaled_features = np.mean(mfcc_features.T, axis=0)\n",
    "    mfccs_scaled_features = mfccs_scaled_features.reshape(1, -1)\n",
    "\n",
    "    # Make a prediction using your model\n",
    "    predicted_label = model.predict(mfccs_scaled_features)\n",
    "\n",
    "    # Assuming `labelencoder` is already defined\n",
    "    prediction_class = labelencoder.inverse_transform(np.argmax(predicted_label, axis=1))[0]\n",
    "\n",
    "    # Convert prediction to speech\n",
    "    tts = gTTS(text=f\" {prediction_class}\", lang='en')\n",
    "    tts.save(\"prediction.mp3\")\n",
    "\n",
    "    # Play the audio\n",
    "    os.system(\"start prediction.mp3\")\n",
    "\n",
    "    # Send SMS\n",
    "    message_sid = send_sms(prediction_class)\n",
    "    print(f\"SMS Sent. Message SID: {message_sid}\")\n"
   ]
  },
  {
   "cell_type": "code",
   "execution_count": 2,
   "id": "2cc2bf10",
   "metadata": {},
   "outputs": [
    {
     "name": "stdout",
     "output_type": "stream",
     "text": [
      "^C\n"
     ]
    }
   ],
   "source": [
    "! streamlit run test.py"
   ]
  },
  {
   "cell_type": "code",
   "execution_count": null,
   "id": "3f31b49c",
   "metadata": {},
   "outputs": [],
   "source": []
  },
  {
   "cell_type": "markdown",
   "id": "93c411db",
   "metadata": {},
   "source": [
    "Thank you ! "
   ]
  }
 ],
 "metadata": {
  "kernelspec": {
   "display_name": "Python 3",
   "language": "python",
   "name": "python3"
  },
  "language_info": {
   "codemirror_mode": {
    "name": "ipython",
    "version": 3
   },
   "file_extension": ".py",
   "mimetype": "text/x-python",
   "name": "python",
   "nbconvert_exporter": "python",
   "pygments_lexer": "ipython3",
   "version": "3.11.5"
  }
 },
 "nbformat": 4,
 "nbformat_minor": 5
}
